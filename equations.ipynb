{
 "cells": [
  {
   "cell_type": "code",
   "execution_count": 194,
   "id": "5eaf553a",
   "metadata": {},
   "outputs": [
    {
     "name": "stdout",
     "output_type": "stream",
     "text": [
      "Requirement already satisfied: pip in ./.venv/lib/python3.11/site-packages (23.3.1)\n",
      "Requirement already satisfied: sympy in ./.venv/lib/python3.11/site-packages (1.12)\n",
      "Requirement already satisfied: mpmath>=0.19 in ./.venv/lib/python3.11/site-packages (from sympy) (1.3.0)\n",
      "Requirement already satisfied: numpy in ./.venv/lib/python3.11/site-packages (1.26.1)\n",
      "Requirement already satisfied: scipy in ./.venv/lib/python3.11/site-packages (1.11.3)\n",
      "Requirement already satisfied: numpy<1.28.0,>=1.21.6 in ./.venv/lib/python3.11/site-packages (from scipy) (1.26.1)\n"
     ]
    }
   ],
   "source": [
    "# загружаем зависимости\n",
    "!pip install --upgrade pip\n",
    "!pip install sympy\n",
    "!pip install numpy\n",
    "!pip install scipy"
   ]
  },
  {
   "cell_type": "code",
   "execution_count": 1,
   "id": "60a7ba21",
   "metadata": {},
   "outputs": [],
   "source": [
    "# библиотека для символьных вычислений\n",
    "from sympy import Rational, sqrt, I, symbols, simplify, Eq, latex\n",
    "import numpy as np\n",
    "from itertools import product"
   ]
  },
  {
   "cell_type": "code",
   "execution_count": 2,
   "id": "404b226e",
   "metadata": {},
   "outputs": [],
   "source": [
    "# задаём константы\n",
    "\n",
    "eps = -Rational(1, 2) + sqrt(3)/2*I\n",
    "\n",
    "# t_{ij}^{(m)} <=> t[m][i][j]\n",
    "t = np.array([\n",
    "    [\n",
    "        [eps, 0, 0],\n",
    "        [0, 1, 0],\n",
    "        [0, 0, eps**2],\n",
    "    ],\n",
    "    [\n",
    "        [1, 0, 0],\n",
    "        [0, 1, 0],\n",
    "        [0, 0, 1],\n",
    "    ],\n",
    "    [\n",
    "        [eps**2, 0, 0],\n",
    "        [0, 1, 0],\n",
    "        [0, 0, eps],\n",
    "    ],\n",
    "    [\n",
    "        [0, 1, 1],\n",
    "        [1, 0, 1],\n",
    "        [1, 1, 0],\n",
    "    ],\n",
    "    [\n",
    "        [0, -1, 1],\n",
    "        [1, 0, -1],\n",
    "        [-1, 1, 0],\n",
    "    ],\n",
    "    [\n",
    "        [0, eps, 1],\n",
    "        [eps, 0, eps**2],\n",
    "        [1, eps**2, 0],\n",
    "    ],\n",
    "    [\n",
    "        [0, eps**2, 1],\n",
    "        [eps**2, 0, eps],\n",
    "        [1, eps, 0],\n",
    "    ],\n",
    "    [\n",
    "        [0, -eps**2, 1],\n",
    "        [eps**2, 0, -eps],\n",
    "        [-1, eps, 0],\n",
    "    ],\n",
    "    [\n",
    "        [0, -eps, 1],\n",
    "        [eps, 0, -eps**2],\n",
    "        [-1, eps**2, 0],\n",
    "    ],\n",
    "])\n",
    "\n",
    "t[4] *= I / sqrt(3)\n",
    "t[7] *= I / sqrt(3)\n",
    "t[8] *= I / sqrt(3)\n",
    "\n",
    "# h_{d,m}\n",
    "h = np.array([\n",
    "    [1, 1, 1, 1, 1, 1, 1, 1, 1],  # phi1\n",
    "    [1, 1, 1, 1, -1, 1, 1, -1, -1],  # phi2\n",
    "    [eps, 1, eps**2, 1, -1, eps**2, eps, -eps, -eps**2],  # phi3\n",
    "    [eps**2, 1, eps, 1, -1, eps, eps**2, -eps**2, -eps],  # phi4\n",
    "    [eps**2, 1, eps, 1, 1, eps, eps**2, eps**2, eps],  # phi5\n",
    "    [eps, 1, eps**2, 1, 1, eps**2, eps, eps, eps**2],  # phi6\n",
    "])"
   ]
  },
  {
   "cell_type": "code",
   "execution_count": 3,
   "id": "329cc2e7",
   "metadata": {},
   "outputs": [],
   "source": [
    "# задаём перестановки\n",
    "\n",
    "# psi: (0, 1, 2, 3, 4, 5, 6, 7, 8)\n",
    "def psi_even(m):\n",
    "    return m\n",
    "\n",
    "# psi: (2, 1, 0, 3, 4, 6, 5, 8, 7)\n",
    "\n",
    "\n",
    "def psi_odd(m):\n",
    "    match m:\n",
    "        case 0:\n",
    "            return 2\n",
    "        case 2:\n",
    "            return 0\n",
    "        case 5:\n",
    "            return 6\n",
    "        case 6:\n",
    "            return 5\n",
    "        case 7:\n",
    "            return 8\n",
    "        case 8:\n",
    "            return 7\n",
    "        case _:\n",
    "            return m\n",
    "\n",
    "\n",
    "psi = np.array([\n",
    "    psi_even,\n",
    "    psi_odd,\n",
    "    psi_odd,\n",
    "    psi_odd,\n",
    "    psi_even,\n",
    "    psi_even,\n",
    "])"
   ]
  },
  {
   "cell_type": "code",
   "execution_count": 4,
   "id": "e92bb2fd",
   "metadata": {},
   "outputs": [],
   "source": [
    "# 54 переменные искомой системы\n",
    "X = symbols(\"x:9\")\n",
    "Y = symbols(\"y:9\")\n",
    "Z = symbols(\"z:9\")\n",
    "A = symbols(\"a:9\")\n",
    "B = symbols(\"b:9\")\n",
    "C = symbols(\"c:9\")"
   ]
  },
  {
   "cell_type": "code",
   "execution_count": 5,
   "id": "861bb10a",
   "metadata": {},
   "outputs": [],
   "source": [
    "# phi_d(x_m)\n",
    "def phi(d, X, m):\n",
    "    return h[d-1][m]*X[psi[d-1](m)]\n",
    "\n",
    "\n",
    "# правая часть уравнения из исходной системы\n",
    "def f(i, j, k, l, r, s):\n",
    "    if (i == j and k == l and r == s) and not (i == j == k == l == r == s):\n",
    "        return 1\n",
    "    if (j == k and l == r and s == i) and not (i == j == k == l == r == s):\n",
    "        return -1\n",
    "    return 0"
   ]
  },
  {
   "cell_type": "code",
   "execution_count": 6,
   "id": "a669e40a",
   "metadata": {},
   "outputs": [
    {
     "data": {
      "text/plain": [
       "125"
      ]
     },
     "execution_count": 6,
     "metadata": {},
     "output_type": "execute_result"
    }
   ],
   "source": [
    "# левая часть уравнения\n",
    "def generate_left(m, p, q):\n",
    "    left = 2*(X[m]*Y[p]*Z[q] + X[p]*Y[q]*Z[m] + X[q]*Y[m]*Z[p] +\n",
    "              phi(2, X, m)*phi(2, Y, p)*phi(2, Z, q) +\n",
    "              phi(2, X, p)*phi(2, Y, q)*phi(2, Z, m) +\n",
    "              phi(2, X, q)*phi(2, Y, m)*phi(2, Z, p))\n",
    "    for d in range(3, 7):\n",
    "        left += phi(d, A, m)*phi(d, B, p)*phi(d, C, q) +\\\n",
    "            phi(d, A, p)*phi(d, B, q)*phi(d, C, m) +\\\n",
    "            phi(d, A, q)*phi(d, B, m)*phi(d, C, p)\n",
    "    return simplify(left)\n",
    "\n",
    "\n",
    "# правая часть уравнения\n",
    "def generate_right(m, p, q):\n",
    "    right = 0\n",
    "    for i, j, k, l, r, s in product(range(3), repeat=6):\n",
    "        right += t[m][i][j]*t[p][k][l]*t[q][r][s]*f(i, j, k, l, r, s)\n",
    "    return simplify(right)\n",
    "\n",
    "\n",
    "def generate_equation(m, p, q):\n",
    "    left = generate_left(m, p, q)\n",
    "    right = generate_right(m, p, q)\n",
    "    return Eq(left, right)\n",
    "\n",
    "\n",
    "equations = []\n",
    "is_counted = np.zeros((9, 9, 9), bool)\n",
    "with open(\"equations.tex\", \"w\") as equations_file:\n",
    "    for m, p, q in product(range(9), repeat=3):\n",
    "        if is_counted[m][p][q]:\n",
    "            continue\n",
    "\n",
    "        # поскольку уравнения для шестёрок (m, p, q), (p, q, m), (q, m, p),\n",
    "        # (phi_2(m), phi_2(p), phi_2(q)), (phi_2(p), phi_2(q), phi_2(m)), (phi_2(q), phi_2(m), phi_2(p))\n",
    "        # оказываются идентичными\n",
    "        is_counted[m][p][q] = True\n",
    "        is_counted[p][q][m] = True\n",
    "        is_counted[q][m][p] = True\n",
    "        is_counted[psi[1](m)][psi[1](p)][psi[1](q)] = True\n",
    "        is_counted[psi[1](p)][psi[1](q)][psi[1](m)] = True\n",
    "        is_counted[psi[1](q)][psi[1](m)][psi[1](p)] = True\n",
    "\n",
    "        equation = generate_equation(m, p, q)\n",
    "        if equation == True:\n",
    "            continue\n",
    "        equations.append(equation)\n",
    "        equations_file.write(f\"\\\\[ {latex(equation)} \\\\]\\n\")\n",
    "\n",
    "len(equations)"
   ]
  },
  {
   "cell_type": "markdown",
   "id": "818d4fbb-3c5c-45ed-beaf-e0b57ae6809a",
   "metadata": {},
   "source": [
    "## Compressed form of equations"
   ]
  },
  {
   "cell_type": "code",
   "execution_count": 15,
   "id": "fbd45514",
   "metadata": {},
   "outputs": [],
   "source": [
    "# для уравнений в сжатом виде\n",
    "XYZ = symbols(\"xyz:9:9:9\")\n",
    "ABC = symbols(\"abc:9:9:9\")"
   ]
  },
  {
   "cell_type": "code",
   "execution_count": 16,
   "id": "2b32d393",
   "metadata": {},
   "outputs": [],
   "source": [
    "def get_index(m, p, q):\n",
    "    return 81*m + 9*q + p\n",
    "\n",
    "\n",
    "# phi_d(p_{mpq})\n",
    "def phi(d, XYZ, m, p, q):\n",
    "    return h[d-1][m]*h[d-1][p]*h[d-1][q]*XYZ[get_index(psi[d-1](m), psi[d-1](p), psi[d-1](q))]"
   ]
  },
  {
   "cell_type": "code",
   "execution_count": 17,
   "id": "ce92a1e6",
   "metadata": {},
   "outputs": [],
   "source": [
    "# левая часть уравнения\n",
    "def generate_left(m, p, q):\n",
    "    left = 2*(XYZ[get_index(m, p, q)] + phi(2, XYZ, m, p, q))\n",
    "    for d in range(3, 7):\n",
    "        left += phi(d, ABC, m, p, q)\n",
    "    return simplify(left)\n",
    "\n",
    "\n",
    "compressed_equations = []\n",
    "is_counted = np.zeros((9, 9, 9), bool)\n",
    "with open(\"compressed_equations.tex\", \"w\") as equations_file:\n",
    "    for m, p, q in product(range(9), repeat=3):\n",
    "        if is_counted[m][p][q]:\n",
    "            continue\n",
    "\n",
    "        # поскольку уравнения для шестёрок (m, p, q), (p, q, m), (q, m, p),\n",
    "        # (phi_2(m), phi_2(p), phi_2(q)), (phi_2(p), phi_2(q), phi_2(m)), (phi_2(q), phi_2(m), phi_2(p))\n",
    "        # оказываются идентичными\n",
    "        is_counted[m][p][q] = True\n",
    "        is_counted[p][q][m] = True\n",
    "        is_counted[q][m][p] = True\n",
    "        is_counted[psi[1](m)][psi[1](p)][psi[1](q)] = True\n",
    "        is_counted[psi[1](p)][psi[1](q)][psi[1](m)] = True\n",
    "        is_counted[psi[1](q)][psi[1](m)][psi[1](p)] = True\n",
    "\n",
    "        equation = generate_equation(m, p, q)\n",
    "        if equation == True:\n",
    "            continue\n",
    "        compressed_equations.append(equation)\n",
    "        equations_file.write(f\"\\\\[ {latex(equation)} \\\\]\\n\")"
   ]
  },
  {
   "cell_type": "markdown",
   "id": "a3e95ef6-66e2-45e5-b649-b3134fd95ba8",
   "metadata": {},
   "source": [
    "## Task 1"
   ]
  },
  {
   "cell_type": "code",
   "execution_count": 7,
   "id": "65f927a1-9d7a-40d3-9991-5ced828c5150",
   "metadata": {},
   "outputs": [
    {
     "data": {
      "text/plain": [
       "65"
      ]
     },
     "execution_count": 7,
     "metadata": {},
     "output_type": "execute_result"
    }
   ],
   "source": [
    "# переменные, относительно которых решаем систему\n",
    "vars = [X[7], Y[7], Z[7], A[7], B[7], C[7], X[8], Y[8], Z[8], A[8], B[8], C[8]]\n",
    "\n",
    "def contains(equation, vars):\n",
    "    return set(vars) & equation.free_symbols\n",
    "\n",
    "certain_equations = []\n",
    "for equation in equations:\n",
    "    if contains(equation, vars):\n",
    "        certain_equations.append(equation)\n",
    "\n",
    "len(certain_equations)"
   ]
  },
  {
   "cell_type": "code",
   "execution_count": 8,
   "id": "bc5cec86-b9b9-42f0-a7e3-27cf0195d43a",
   "metadata": {},
   "outputs": [],
   "source": [
    "# Значения, найденные Козловым Александром\n",
    "#\n",
    "# X:    0.00329973  -0.00262951 | -0.00525902  -0.0032892  0.496904 |     0.501034\n",
    "# Y:      -15293.6     -50.4355 |     50.5948    -30587.2 -0.512621 | -0.000767047\n",
    "# Z:    0.00330954   0.00264041 |  0.00528083 -0.00329919  0.503107 |    -0.498967\n",
    "# A:      -30587.1     -100.866 |     101.186    -61174.4  -1.48738 |  0.000661904\n",
    "# B:    0.00330954   0.00264041 |  0.00528083 -0.00329919  0.503107 |    -0.498967\n",
    "# C:    0.00329973  -0.00262951 | -0.00525904  -0.0032892  0.496904 |     0.501034\n",
    "\n",
    "# (0) (2) | (5) (6) (3) | (4)\n",
    "\n",
    "subs = [\n",
    "    (X[0], 0.00329973), (X[2], -0.00262951), (X[5], -0.00525902), (X[6], -0.0032892), (X[3], 0.496904), (X[4], 0.501034),\n",
    "    (Y[0], -15293.6), (Y[2], -50.4355), (Y[5], 50.5948), (Y[6], -30587.2), (Y[3], -0.512621), (Y[4], -0.000767047),\n",
    "    (Z[0], 0.00330954), (Z[2], 0.00264041), (Z[5], 0.00528083), (Z[6], -0.00329919), (Z[3], 0.503107), (Z[4], -0.498967),\n",
    "    (A[0], -30587.1), (A[2], -100.866), (A[5], 101.186), (A[6], -61174.4), (A[3], -1.48738), (A[4], 0.000661904),\n",
    "    (B[0], 0.00330954), (B[2], 0.00264041), (B[5], 0.00528083), (B[6], -0.00329919), (B[3], 0.503107), (B[4], -0.498967),\n",
    "    (C[0], 0.00329973), (C[2], -0.00262951), (C[5], -0.00525904), (C[6], -0.0032892), (C[3], 0.496904), (C[4], 0.501034),\n",
    "]\n",
    "\n",
    "# подставляем найденные значения\n",
    "for i, equation in enumerate(certain_equations):\n",
    "    certain_equations[i] = simplify(equation.subs(subs))"
   ]
  },
  {
   "cell_type": "markdown",
   "id": "7980aeca-cb3a-42a0-b098-735d47b68e7e",
   "metadata": {},
   "source": [
    "### Solving the equations"
   ]
  },
  {
   "cell_type": "code",
   "execution_count": 9,
   "id": "085020c1-c1f6-4b38-a35c-d365462653b3",
   "metadata": {},
   "outputs": [],
   "source": [
    "from sympy import lambdify\n",
    "\n",
    "expressions = [equation.lhs - equation.rhs for equation in certain_equations]\n",
    "lam_certain_equations = lambdify(vars, expressions)\n",
    "\n",
    "lam = lambda vars: lam_certain_equations(*vars)"
   ]
  },
  {
   "cell_type": "code",
   "execution_count": 10,
   "id": "94dbfba4-a6f5-4571-b959-be6f59df73ca",
   "metadata": {},
   "outputs": [
    {
     "ename": "NameError",
     "evalue": "name 'a1' is not defined",
     "output_type": "error",
     "traceback": [
      "\u001b[0;31m---------------------------------------------------------------------------\u001b[0m",
      "\u001b[0;31mNameError\u001b[0m                                 Traceback (most recent call last)",
      "Cell \u001b[0;32mIn[10], line 5\u001b[0m\n\u001b[1;32m      1\u001b[0m \u001b[38;5;28;01mfrom\u001b[39;00m \u001b[38;5;21;01mscipy\u001b[39;00m\u001b[38;5;21;01m.\u001b[39;00m\u001b[38;5;21;01moptimize\u001b[39;00m \u001b[38;5;28;01mimport\u001b[39;00m root\n\u001b[1;32m      3\u001b[0m x0 \u001b[38;5;241m=\u001b[39m [\u001b[38;5;241m0\u001b[39m]\u001b[38;5;241m*\u001b[39m\u001b[38;5;241m12\u001b[39m\n\u001b[0;32m----> 5\u001b[0m solution \u001b[38;5;241m=\u001b[39m \u001b[43mroot\u001b[49m\u001b[43m(\u001b[49m\u001b[43mlam\u001b[49m\u001b[43m,\u001b[49m\u001b[43m \u001b[49m\u001b[43mx0\u001b[49m\u001b[43m,\u001b[49m\u001b[43m \u001b[49m\u001b[43mmethod\u001b[49m\u001b[38;5;241;43m=\u001b[39;49m\u001b[38;5;124;43m'\u001b[39;49m\u001b[38;5;124;43mlm\u001b[39;49m\u001b[38;5;124;43m'\u001b[39;49m\u001b[43m)\u001b[49m\n",
      "File \u001b[0;32m~/.local/lib/python3.11/site-packages/scipy/optimize/_root.py:238\u001b[0m, in \u001b[0;36mroot\u001b[0;34m(fun, x0, args, method, jac, tol, callback, options)\u001b[0m\n\u001b[1;32m    236\u001b[0m     sol \u001b[38;5;241m=\u001b[39m _root_hybr(fun, x0, args\u001b[38;5;241m=\u001b[39margs, jac\u001b[38;5;241m=\u001b[39mjac, \u001b[38;5;241m*\u001b[39m\u001b[38;5;241m*\u001b[39moptions)\n\u001b[1;32m    237\u001b[0m \u001b[38;5;28;01melif\u001b[39;00m meth \u001b[38;5;241m==\u001b[39m \u001b[38;5;124m'\u001b[39m\u001b[38;5;124mlm\u001b[39m\u001b[38;5;124m'\u001b[39m:\n\u001b[0;32m--> 238\u001b[0m     sol \u001b[38;5;241m=\u001b[39m \u001b[43m_root_leastsq\u001b[49m\u001b[43m(\u001b[49m\u001b[43mfun\u001b[49m\u001b[43m,\u001b[49m\u001b[43m \u001b[49m\u001b[43mx0\u001b[49m\u001b[43m,\u001b[49m\u001b[43m \u001b[49m\u001b[43margs\u001b[49m\u001b[38;5;241;43m=\u001b[39;49m\u001b[43margs\u001b[49m\u001b[43m,\u001b[49m\u001b[43m \u001b[49m\u001b[43mjac\u001b[49m\u001b[38;5;241;43m=\u001b[39;49m\u001b[43mjac\u001b[49m\u001b[43m,\u001b[49m\u001b[43m \u001b[49m\u001b[38;5;241;43m*\u001b[39;49m\u001b[38;5;241;43m*\u001b[39;49m\u001b[43moptions\u001b[49m\u001b[43m)\u001b[49m\n\u001b[1;32m    239\u001b[0m \u001b[38;5;28;01melif\u001b[39;00m meth \u001b[38;5;241m==\u001b[39m \u001b[38;5;124m'\u001b[39m\u001b[38;5;124mdf-sane\u001b[39m\u001b[38;5;124m'\u001b[39m:\n\u001b[1;32m    240\u001b[0m     _warn_jac_unused(jac, method)\n",
      "File \u001b[0;32m~/.local/lib/python3.11/site-packages/scipy/optimize/_root.py:296\u001b[0m, in \u001b[0;36m_root_leastsq\u001b[0;34m(fun, x0, args, jac, col_deriv, xtol, ftol, gtol, maxiter, eps, factor, diag, **unknown_options)\u001b[0m\n\u001b[1;32m    265\u001b[0m \u001b[38;5;250m\u001b[39m\u001b[38;5;124;03m\"\"\"\u001b[39;00m\n\u001b[1;32m    266\u001b[0m \u001b[38;5;124;03mSolve for least squares with Levenberg-Marquardt\u001b[39;00m\n\u001b[1;32m    267\u001b[0m \n\u001b[0;32m   (...)\u001b[0m\n\u001b[1;32m    292\u001b[0m \u001b[38;5;124;03m    N positive entries that serve as a scale factors for the variables.\u001b[39;00m\n\u001b[1;32m    293\u001b[0m \u001b[38;5;124;03m\"\"\"\u001b[39;00m\n\u001b[1;32m    295\u001b[0m _check_unknown_options(unknown_options)\n\u001b[0;32m--> 296\u001b[0m x, cov_x, info, msg, ier \u001b[38;5;241m=\u001b[39m \u001b[43mleastsq\u001b[49m\u001b[43m(\u001b[49m\u001b[43mfun\u001b[49m\u001b[43m,\u001b[49m\u001b[43m \u001b[49m\u001b[43mx0\u001b[49m\u001b[43m,\u001b[49m\u001b[43m \u001b[49m\u001b[43margs\u001b[49m\u001b[38;5;241;43m=\u001b[39;49m\u001b[43margs\u001b[49m\u001b[43m,\u001b[49m\u001b[43m \u001b[49m\u001b[43mDfun\u001b[49m\u001b[38;5;241;43m=\u001b[39;49m\u001b[43mjac\u001b[49m\u001b[43m,\u001b[49m\n\u001b[1;32m    297\u001b[0m \u001b[43m                                   \u001b[49m\u001b[43mfull_output\u001b[49m\u001b[38;5;241;43m=\u001b[39;49m\u001b[38;5;28;43;01mTrue\u001b[39;49;00m\u001b[43m,\u001b[49m\n\u001b[1;32m    298\u001b[0m \u001b[43m                                   \u001b[49m\u001b[43mcol_deriv\u001b[49m\u001b[38;5;241;43m=\u001b[39;49m\u001b[43mcol_deriv\u001b[49m\u001b[43m,\u001b[49m\u001b[43m \u001b[49m\u001b[43mxtol\u001b[49m\u001b[38;5;241;43m=\u001b[39;49m\u001b[43mxtol\u001b[49m\u001b[43m,\u001b[49m\n\u001b[1;32m    299\u001b[0m \u001b[43m                                   \u001b[49m\u001b[43mftol\u001b[49m\u001b[38;5;241;43m=\u001b[39;49m\u001b[43mftol\u001b[49m\u001b[43m,\u001b[49m\u001b[43m \u001b[49m\u001b[43mgtol\u001b[49m\u001b[38;5;241;43m=\u001b[39;49m\u001b[43mgtol\u001b[49m\u001b[43m,\u001b[49m\n\u001b[1;32m    300\u001b[0m \u001b[43m                                   \u001b[49m\u001b[43mmaxfev\u001b[49m\u001b[38;5;241;43m=\u001b[39;49m\u001b[43mmaxiter\u001b[49m\u001b[43m,\u001b[49m\u001b[43m \u001b[49m\u001b[43mepsfcn\u001b[49m\u001b[38;5;241;43m=\u001b[39;49m\u001b[43meps\u001b[49m\u001b[43m,\u001b[49m\n\u001b[1;32m    301\u001b[0m \u001b[43m                                   \u001b[49m\u001b[43mfactor\u001b[49m\u001b[38;5;241;43m=\u001b[39;49m\u001b[43mfactor\u001b[49m\u001b[43m,\u001b[49m\u001b[43m \u001b[49m\u001b[43mdiag\u001b[49m\u001b[38;5;241;43m=\u001b[39;49m\u001b[43mdiag\u001b[49m\u001b[43m)\u001b[49m\n\u001b[1;32m    302\u001b[0m sol \u001b[38;5;241m=\u001b[39m OptimizeResult(x\u001b[38;5;241m=\u001b[39mx, message\u001b[38;5;241m=\u001b[39mmsg, status\u001b[38;5;241m=\u001b[39mier,\n\u001b[1;32m    303\u001b[0m                      success\u001b[38;5;241m=\u001b[39mier \u001b[38;5;129;01min\u001b[39;00m (\u001b[38;5;241m1\u001b[39m, \u001b[38;5;241m2\u001b[39m, \u001b[38;5;241m3\u001b[39m, \u001b[38;5;241m4\u001b[39m), cov_x\u001b[38;5;241m=\u001b[39mcov_x,\n\u001b[1;32m    304\u001b[0m                      fun\u001b[38;5;241m=\u001b[39minfo\u001b[38;5;241m.\u001b[39mpop(\u001b[38;5;124m'\u001b[39m\u001b[38;5;124mfvec\u001b[39m\u001b[38;5;124m'\u001b[39m))\n\u001b[1;32m    305\u001b[0m sol\u001b[38;5;241m.\u001b[39mupdate(info)\n",
      "File \u001b[0;32m~/.local/lib/python3.11/site-packages/scipy/optimize/_minpack_py.py:415\u001b[0m, in \u001b[0;36mleastsq\u001b[0;34m(func, x0, args, Dfun, full_output, col_deriv, ftol, xtol, gtol, maxfev, epsfcn, factor, diag)\u001b[0m\n\u001b[1;32m    413\u001b[0m \u001b[38;5;28;01mif\u001b[39;00m \u001b[38;5;129;01mnot\u001b[39;00m \u001b[38;5;28misinstance\u001b[39m(args, \u001b[38;5;28mtuple\u001b[39m):\n\u001b[1;32m    414\u001b[0m     args \u001b[38;5;241m=\u001b[39m (args,)\n\u001b[0;32m--> 415\u001b[0m shape, dtype \u001b[38;5;241m=\u001b[39m \u001b[43m_check_func\u001b[49m\u001b[43m(\u001b[49m\u001b[38;5;124;43m'\u001b[39;49m\u001b[38;5;124;43mleastsq\u001b[39;49m\u001b[38;5;124;43m'\u001b[39;49m\u001b[43m,\u001b[49m\u001b[43m \u001b[49m\u001b[38;5;124;43m'\u001b[39;49m\u001b[38;5;124;43mfunc\u001b[39;49m\u001b[38;5;124;43m'\u001b[39;49m\u001b[43m,\u001b[49m\u001b[43m \u001b[49m\u001b[43mfunc\u001b[49m\u001b[43m,\u001b[49m\u001b[43m \u001b[49m\u001b[43mx0\u001b[49m\u001b[43m,\u001b[49m\u001b[43m \u001b[49m\u001b[43margs\u001b[49m\u001b[43m,\u001b[49m\u001b[43m \u001b[49m\u001b[43mn\u001b[49m\u001b[43m)\u001b[49m\n\u001b[1;32m    416\u001b[0m m \u001b[38;5;241m=\u001b[39m shape[\u001b[38;5;241m0\u001b[39m]\n\u001b[1;32m    418\u001b[0m \u001b[38;5;28;01mif\u001b[39;00m n \u001b[38;5;241m>\u001b[39m m:\n",
      "File \u001b[0;32m~/.local/lib/python3.11/site-packages/scipy/optimize/_minpack_py.py:25\u001b[0m, in \u001b[0;36m_check_func\u001b[0;34m(checker, argname, thefunc, x0, args, numinputs, output_shape)\u001b[0m\n\u001b[1;32m     23\u001b[0m \u001b[38;5;28;01mdef\u001b[39;00m \u001b[38;5;21m_check_func\u001b[39m(checker, argname, thefunc, x0, args, numinputs,\n\u001b[1;32m     24\u001b[0m                 output_shape\u001b[38;5;241m=\u001b[39m\u001b[38;5;28;01mNone\u001b[39;00m):\n\u001b[0;32m---> 25\u001b[0m     res \u001b[38;5;241m=\u001b[39m atleast_1d(\u001b[43mthefunc\u001b[49m\u001b[43m(\u001b[49m\u001b[38;5;241;43m*\u001b[39;49m\u001b[43m(\u001b[49m\u001b[43m(\u001b[49m\u001b[43mx0\u001b[49m\u001b[43m[\u001b[49m\u001b[43m:\u001b[49m\u001b[43mnuminputs\u001b[49m\u001b[43m]\u001b[49m\u001b[43m,\u001b[49m\u001b[43m)\u001b[49m\u001b[43m \u001b[49m\u001b[38;5;241;43m+\u001b[39;49m\u001b[43m \u001b[49m\u001b[43margs\u001b[49m\u001b[43m)\u001b[49m\u001b[43m)\u001b[49m)\n\u001b[1;32m     26\u001b[0m     \u001b[38;5;28;01mif\u001b[39;00m (output_shape \u001b[38;5;129;01mis\u001b[39;00m \u001b[38;5;129;01mnot\u001b[39;00m \u001b[38;5;28;01mNone\u001b[39;00m) \u001b[38;5;129;01mand\u001b[39;00m (shape(res) \u001b[38;5;241m!=\u001b[39m output_shape):\n\u001b[1;32m     27\u001b[0m         \u001b[38;5;28;01mif\u001b[39;00m (output_shape[\u001b[38;5;241m0\u001b[39m] \u001b[38;5;241m!=\u001b[39m \u001b[38;5;241m1\u001b[39m):\n",
      "Cell \u001b[0;32mIn[9], line 6\u001b[0m, in \u001b[0;36m<lambda>\u001b[0;34m(vars)\u001b[0m\n\u001b[1;32m      3\u001b[0m expressions \u001b[38;5;241m=\u001b[39m [equation\u001b[38;5;241m.\u001b[39mlhs \u001b[38;5;241m-\u001b[39m equation\u001b[38;5;241m.\u001b[39mrhs \u001b[38;5;28;01mfor\u001b[39;00m equation \u001b[38;5;129;01min\u001b[39;00m certain_equations]\n\u001b[1;32m      4\u001b[0m lam_certain_equations \u001b[38;5;241m=\u001b[39m lambdify(\u001b[38;5;28mvars\u001b[39m, expressions)\n\u001b[0;32m----> 6\u001b[0m lam \u001b[38;5;241m=\u001b[39m \u001b[38;5;28;01mlambda\u001b[39;00m \u001b[38;5;28mvars\u001b[39m: \u001b[43mlam_certain_equations\u001b[49m\u001b[43m(\u001b[49m\u001b[38;5;241;43m*\u001b[39;49m\u001b[38;5;28;43mvars\u001b[39;49m\u001b[43m)\u001b[49m\n",
      "File \u001b[0;32m<lambdifygenerated-1>:2\u001b[0m, in \u001b[0;36m_lambdifygenerated\u001b[0;34m(x7, y7, z7, a7, b7, c7, x8, y8, z8, a8, b8, c8)\u001b[0m\n\u001b[1;32m      1\u001b[0m \u001b[38;5;28;01mdef\u001b[39;00m \u001b[38;5;21m_lambdifygenerated\u001b[39m(x7, y7, z7, a7, b7, c7, x8, y8, z8, a8, b8, c8):\n\u001b[0;32m----> 2\u001b[0m     \u001b[38;5;28;01mreturn\u001b[39;00m [\u001b[38;5;241m2.18411768484e-5\u001b[39m\u001b[38;5;241m*\u001b[39ma7 \u001b[38;5;241m+\u001b[39m \u001b[38;5;241m1.38859689982e-5\u001b[39m\u001b[38;5;241m*\u001b[39ma8 \u001b[38;5;241m-\u001b[39m \u001b[38;5;241m201.858342966\u001b[39m\u001b[38;5;241m*\u001b[39mb7 \u001b[38;5;241m-\u001b[39m \u001b[38;5;241m0.53045631132\u001b[39m\u001b[38;5;241m*\u001b[39mb8 \u001b[38;5;241m-\u001b[39m \u001b[38;5;241m202.458461868\u001b[39m\u001b[38;5;241m*\u001b[39mc7 \u001b[38;5;241m+\u001b[39m \u001b[38;5;241m0.53265519012\u001b[39m\u001b[38;5;241m*\u001b[39mc8 \u001b[38;5;241m-\u001b[39m \u001b[38;5;241m101.229561888\u001b[39m\u001b[38;5;241m*\u001b[39mx7 \u001b[38;5;241m+\u001b[39m \u001b[38;5;241m0.26634079711\u001b[39m\u001b[38;5;241m*\u001b[39mx8 \u001b[38;5;241m+\u001b[39m \u001b[38;5;241m2.18411768484e-5\u001b[39m\u001b[38;5;241m*\u001b[39my7 \u001b[38;5;241m+\u001b[39m \u001b[38;5;241m1.38859689982e-5\u001b[39m\u001b[38;5;241m*\u001b[39my8 \u001b[38;5;241m-\u001b[39m \u001b[38;5;241m100.929501456\u001b[39m\u001b[38;5;241m*\u001b[39mz7 \u001b[38;5;241m-\u001b[39m \u001b[38;5;241m0.26524130321\u001b[39m\u001b[38;5;241m*\u001b[39mz8, \u001b[38;5;241m6.9429844991e-6\u001b[39m\u001b[38;5;241m*\u001b[39ma7 \u001b[38;5;241m+\u001b[39m \u001b[38;5;241m1.09205884242e-5\u001b[39m\u001b[38;5;241m*\u001b[39ma8 \u001b[38;5;241m-\u001b[39m \u001b[38;5;241m0.26522815566\u001b[39m\u001b[38;5;241m*\u001b[39mb7 \u001b[38;5;241m-\u001b[39m \u001b[38;5;241m100.929171483\u001b[39m\u001b[38;5;241m*\u001b[39mb8 \u001b[38;5;241m+\u001b[39m \u001b[38;5;241m0.26632759506\u001b[39m\u001b[38;5;241m*\u001b[39mc7 \u001b[38;5;241m-\u001b[39m \u001b[38;5;241m101.229230934\u001b[39m\u001b[38;5;241m*\u001b[39mc8 \u001b[38;5;241m-\u001b[39m \u001b[38;5;241m0.26634079711\u001b[39m\u001b[38;5;241m*\u001b[39mx7 \u001b[38;5;241m+\u001b[39m \u001b[38;5;241m101.229561888\u001b[39m\u001b[38;5;241m*\u001b[39mx8 \u001b[38;5;241m-\u001b[39m \u001b[38;5;241m1.38859689982e-5\u001b[39m\u001b[38;5;241m*\u001b[39my7 \u001b[38;5;241m-\u001b[39m \u001b[38;5;241m2.18411768484e-5\u001b[39m\u001b[38;5;241m*\u001b[39my8 \u001b[38;5;241m+\u001b[39m \u001b[38;5;241m0.26524130321\u001b[39m\u001b[38;5;241m*\u001b[39mz7 \u001b[38;5;241m+\u001b[39m \u001b[38;5;241m100.929501456\u001b[39m\u001b[38;5;241m*\u001b[39mz8, \u001b[38;5;241m0.00329973\u001b[39m\u001b[38;5;241m*\u001b[39m\u001b[43ma1\u001b[49m\u001b[38;5;241m*\u001b[39mb7 \u001b[38;5;241m+\u001b[39m \u001b[38;5;241m0.00262951\u001b[39m\u001b[38;5;241m*\u001b[39ma1\u001b[38;5;241m*\u001b[39mb8 \u001b[38;5;241m+\u001b[39m \u001b[38;5;241m0.00330954\u001b[39m\u001b[38;5;241m*\u001b[39ma7\u001b[38;5;241m*\u001b[39mc1 \u001b[38;5;241m-\u001b[39m \u001b[38;5;241m0.00264041\u001b[39m\u001b[38;5;241m*\u001b[39ma8\u001b[38;5;241m*\u001b[39mc1 \u001b[38;5;241m-\u001b[39m \u001b[38;5;241m30587.1\u001b[39m\u001b[38;5;241m*\u001b[39mb1\u001b[38;5;241m*\u001b[39mc7 \u001b[38;5;241m+\u001b[39m \u001b[38;5;241m100.866\u001b[39m\u001b[38;5;241m*\u001b[39mb1\u001b[38;5;241m*\u001b[39mc8 \u001b[38;5;241m-\u001b[39m \u001b[38;5;241m0.00661908\u001b[39m\u001b[38;5;241m*\u001b[39mx1\u001b[38;5;241m*\u001b[39my7 \u001b[38;5;241m+\u001b[39m \u001b[38;5;241m0.00528082\u001b[39m\u001b[38;5;241m*\u001b[39mx1\u001b[38;5;241m*\u001b[39my8 \u001b[38;5;241m+\u001b[39m \u001b[38;5;241m30587.2\u001b[39m\u001b[38;5;241m*\u001b[39mx7\u001b[38;5;241m*\u001b[39mz1 \u001b[38;5;241m-\u001b[39m \u001b[38;5;241m100.871\u001b[39m\u001b[38;5;241m*\u001b[39mx8\u001b[38;5;241m*\u001b[39mz1 \u001b[38;5;241m-\u001b[39m \u001b[38;5;241m0.00659946\u001b[39m\u001b[38;5;241m*\u001b[39my1\u001b[38;5;241m*\u001b[39mz7 \u001b[38;5;241m-\u001b[39m \u001b[38;5;241m0.00525902\u001b[39m\u001b[38;5;241m*\u001b[39my1\u001b[38;5;241m*\u001b[39mz8, \u001b[38;5;241m0.00525902\u001b[39m\u001b[38;5;241m*\u001b[39ma1\u001b[38;5;241m*\u001b[39mb7 \u001b[38;5;241m+\u001b[39m \u001b[38;5;241m0.00659946\u001b[39m\u001b[38;5;241m*\u001b[39ma1\u001b[38;5;241m*\u001b[39mb8 \u001b[38;5;241m-\u001b[39m \u001b[38;5;241m0.00528082\u001b[39m\u001b[38;5;241m*\u001b[39ma7\u001b[38;5;241m*\u001b[39mc1 \u001b[38;5;241m+\u001b[39m \u001b[38;5;241m0.00661908\u001b[39m\u001b[38;5;241m*\u001b[39ma8\u001b[38;5;241m*\u001b[39mc1 \u001b[38;5;241m+\u001b[39m \u001b[38;5;241m201.732\u001b[39m\u001b[38;5;241m*\u001b[39mb1\u001b[38;5;241m*\u001b[39mc7 \u001b[38;5;241m-\u001b[39m \u001b[38;5;241m61174.2\u001b[39m\u001b[38;5;241m*\u001b[39mb1\u001b[38;5;241m*\u001b[39mc8 \u001b[38;5;241m-\u001b[39m \u001b[38;5;241m0.00528082\u001b[39m\u001b[38;5;241m*\u001b[39mx1\u001b[38;5;241m*\u001b[39my7 \u001b[38;5;241m+\u001b[39m \u001b[38;5;241m0.00661908\u001b[39m\u001b[38;5;241m*\u001b[39mx1\u001b[38;5;241m*\u001b[39my8 \u001b[38;5;241m+\u001b[39m \u001b[38;5;241m100.871\u001b[39m\u001b[38;5;241m*\u001b[39mx7\u001b[38;5;241m*\u001b[39mz1 \u001b[38;5;241m-\u001b[39m \u001b[38;5;241m30587.2\u001b[39m\u001b[38;5;241m*\u001b[39mx8\u001b[38;5;241m*\u001b[39mz1 \u001b[38;5;241m+\u001b[39m \u001b[38;5;241m0.00525902\u001b[39m\u001b[38;5;241m*\u001b[39my1\u001b[38;5;241m*\u001b[39mz7 \u001b[38;5;241m+\u001b[39m \u001b[38;5;241m0.00659946\u001b[39m\u001b[38;5;241m*\u001b[39my1\u001b[38;5;241m*\u001b[39mz8, \u001b[38;5;241m8.7024685254e-6\u001b[39m\u001b[38;5;241m*\u001b[39ma7 \u001b[38;5;241m+\u001b[39m \u001b[38;5;241m8.7126400893e-6\u001b[39m\u001b[38;5;241m*\u001b[39ma8 \u001b[38;5;241m+\u001b[39m \u001b[38;5;241m0.33283056618\u001b[39m\u001b[38;5;241m*\u001b[39mb7 \u001b[38;5;241m+\u001b[39m \u001b[38;5;241m80.429085321\u001b[39m\u001b[38;5;241m*\u001b[39mb8 \u001b[38;5;241m+\u001b[39m \u001b[38;5;241m80.762484711\u001b[39m\u001b[38;5;241m*\u001b[39mc7 \u001b[38;5;241m-\u001b[39m \u001b[38;5;241m0.33382006164\u001b[39m\u001b[38;5;241m*\u001b[39mc8 \u001b[38;5;241m-\u001b[39m \u001b[38;5;241m80.762748752\u001b[39m\u001b[38;5;241m*\u001b[39mx7 \u001b[38;5;241m+\u001b[39m \u001b[38;5;241m0.33383660934\u001b[39m\u001b[38;5;241m*\u001b[39mx8 \u001b[38;5;241m-\u001b[39m \u001b[38;5;241m1.74049370508e-5\u001b[39m\u001b[38;5;241m*\u001b[39my7 \u001b[38;5;241m-\u001b[39m \u001b[38;5;241m1.74252801786e-5\u001b[39m\u001b[38;5;241m*\u001b[39my8 \u001b[38;5;241m-\u001b[39m \u001b[38;5;241m0.33284706483\u001b[39m\u001b[38;5;241m*\u001b[39mz7 \u001b[38;5;241m-\u001b[39m \u001b[38;5;241m80.429348272\u001b[39m\u001b[38;5;241m*\u001b[39mz8, \u001b[38;5;241m8.7126400893e-6\u001b[39m\u001b[38;5;241m*\u001b[39ma7 \u001b[38;5;241m+\u001b[39m \u001b[38;5;241m8.7024685254e-6\u001b[39m\u001b[38;5;241m*\u001b[39ma8 \u001b[38;5;241m+\u001b[39m \u001b[38;5;241m80.429085321\u001b[39m\u001b[38;5;241m*\u001b[39mb7 \u001b[38;5;241m+\u001b[39m \u001b[38;5;241m0.33283056618\u001b[39m\u001b[38;5;241m*\u001b[39mb8 \u001b[38;5;241m-\u001b[39m \u001b[38;5;241m0.33382006164\u001b[39m\u001b[38;5;241m*\u001b[39mc7 \u001b[38;5;241m+\u001b[39m \u001b[38;5;241m80.762484711\u001b[39m\u001b[38;5;241m*\u001b[39mc8 \u001b[38;5;241m+\u001b[39m \u001b[38;5;241m0.33383660934\u001b[39m\u001b[38;5;241m*\u001b[39mx7 \u001b[38;5;241m-\u001b[39m \u001b[38;5;241m80.762748752\u001b[39m\u001b[38;5;241m*\u001b[39mx8 \u001b[38;5;241m-\u001b[39m \u001b[38;5;241m1.74252801786e-5\u001b[39m\u001b[38;5;241m*\u001b[39my7 \u001b[38;5;241m-\u001b[39m \u001b[38;5;241m1.74049370508e-5\u001b[39m\u001b[38;5;241m*\u001b[39my8 \u001b[38;5;241m-\u001b[39m \u001b[38;5;241m80.429348272\u001b[39m\u001b[38;5;241m*\u001b[39mz7 \u001b[38;5;241m-\u001b[39m \u001b[38;5;241m0.33284706483\u001b[39m\u001b[38;5;241m*\u001b[39mz8, \u001b[38;5;241m0.00164452366416\u001b[39m\u001b[38;5;241m*\u001b[39ma7 \u001b[38;5;241m-\u001b[39m \u001b[38;5;241m0.00131203029064\u001b[39m\u001b[38;5;241m*\u001b[39ma8 \u001b[38;5;241m-\u001b[39m \u001b[38;5;241m0.0049079524074\u001b[39m\u001b[38;5;241m*\u001b[39mb7 \u001b[38;5;241m-\u001b[39m \u001b[38;5;241m0.0039110805838\u001b[39m\u001b[38;5;241m*\u001b[39mb8 \u001b[38;5;241m-\u001b[39m \u001b[38;5;241m15388.5841197\u001b[39m\u001b[38;5;241m*\u001b[39mc7 \u001b[38;5;241m+\u001b[39m \u001b[38;5;241m50.746390662\u001b[39m\u001b[38;5;241m*\u001b[39mc8 \u001b[38;5;241m+\u001b[39m \u001b[38;5;241m15388.6344304\u001b[39m\u001b[38;5;241m*\u001b[39mx7 \u001b[38;5;241m-\u001b[39m \u001b[38;5;241m50.748906197\u001b[39m\u001b[38;5;241m*\u001b[39mx8 \u001b[38;5;241m-\u001b[39m \u001b[38;5;241m0.00328904732832\u001b[39m\u001b[38;5;241m*\u001b[39my7 \u001b[38;5;241m+\u001b[39m \u001b[38;5;241m0.00262406058128\u001b[39m\u001b[38;5;241m*\u001b[39my8 \u001b[38;5;241m+\u001b[39m \u001b[38;5;241m0.00338302178466\u001b[39m\u001b[38;5;241m*\u001b[39mz7 \u001b[38;5;241m+\u001b[39m \u001b[38;5;241m0.00269588409142\u001b[39m\u001b[38;5;241m*\u001b[39mz8, \u001b[38;5;241m0.00262406058128\u001b[39m\u001b[38;5;241m*\u001b[39ma7 \u001b[38;5;241m-\u001b[39m \u001b[38;5;241m0.00328904732832\u001b[39m\u001b[38;5;241m*\u001b[39ma8 \u001b[38;5;241m+\u001b[39m \u001b[38;5;241m0.0078221611676\u001b[39m\u001b[38;5;241m*\u001b[39mb7 \u001b[38;5;241m+\u001b[39m \u001b[38;5;241m0.0098159048148\u001b[39m\u001b[38;5;241m*\u001b[39mb8 \u001b[38;5;241m-\u001b[39m \u001b[38;5;241m101.492781324\u001b[39m\u001b[38;5;241m*\u001b[39mc7 \u001b[38;5;241m+\u001b[39m \u001b[38;5;241m30777.1682394\u001b[39m\u001b[38;5;241m*\u001b[39mc8 \u001b[38;5;241m-\u001b[39m \u001b[38;5;241m50.748906197\u001b[39m\u001b[38;5;241m*\u001b[39mx7 \u001b[38;5;241m+\u001b[39m \u001b[38;5;241m15388.6344304\u001b[39m\u001b[38;5;241m*\u001b[39mx8 \u001b[38;5;241m+\u001b[39m \u001b[38;5;241m0.00262406058128\u001b[39m\u001b[38;5;241m*\u001b[39my7 \u001b[38;5;241m-\u001b[39m \u001b[38;5;241m0.00328904732832\u001b[39m\u001b[38;5;241m*\u001b[39my8 \u001b[38;5;241m+\u001b[39m \u001b[38;5;241m0.00269588409142\u001b[39m\u001b[38;5;241m*\u001b[39mz7 \u001b[38;5;241m+\u001b[39m \u001b[38;5;241m0.00338302178466\u001b[39m\u001b[38;5;241m*\u001b[39mz8 \u001b[38;5;241m-\u001b[39m \u001b[38;5;241m3.0\u001b[39m, \u001b[38;5;241m0.00165819206436\u001b[39m\u001b[38;5;241m*\u001b[39ma7 \u001b[38;5;241m+\u001b[39m \u001b[38;5;241m0.00132293518394\u001b[39m\u001b[38;5;241m*\u001b[39ma8 \u001b[38;5;241m+\u001b[39m \u001b[38;5;241m2.18410448592e-6\u001b[39m\u001b[38;5;241m*\u001b[39mb7 \u001b[38;5;241m-\u001b[39m \u001b[38;5;241m1.74048318704e-6\u001b[39m\u001b[38;5;241m*\u001b[39mb8 \u001b[38;5;241m+\u001b[39m \u001b[38;5;241m15261.9535257\u001b[39m\u001b[38;5;241m*\u001b[39mc7 \u001b[38;5;241m+\u001b[39m \u001b[38;5;241m50.328805422\u001b[39m\u001b[38;5;241m*\u001b[39mc8 \u001b[38;5;241m-\u001b[39m \u001b[38;5;241m15262.0034224\u001b[39m\u001b[38;5;241m*\u001b[39mx7 \u001b[38;5;241m-\u001b[39m \u001b[38;5;241m50.331300257\u001b[39m\u001b[38;5;241m*\u001b[39mx8 \u001b[38;5;241m-\u001b[39m \u001b[38;5;241m0.00331638412872\u001b[39m\u001b[38;5;241m*\u001b[39my7 \u001b[38;5;241m-\u001b[39m \u001b[38;5;241m0.00264587036788\u001b[39m\u001b[38;5;241m*\u001b[39my8 \u001b[38;5;241m+\u001b[39m \u001b[38;5;241m5.06209599462e-6\u001b[39m\u001b[38;5;241m*\u001b[39mz7 \u001b[38;5;241m-\u001b[39m \u001b[38;5;241m4.03391551394e-6\u001b[39m\u001b[38;5;241m*\u001b[39mz8, \u001b[38;5;241m0.00264587036788\u001b[39m\u001b[38;5;241m*\u001b[39ma7 \u001b[38;5;241m+\u001b[39m \u001b[38;5;241m0.00331638412872\u001b[39m\u001b[38;5;241m*\u001b[39ma8 \u001b[38;5;241m-\u001b[39m \u001b[38;5;241m3.48096637408e-6\u001b[39m\u001b[38;5;241m*\u001b[39mb7 \u001b[38;5;241m+\u001b[39m \u001b[38;5;241m4.36820897184e-6\u001b[39m\u001b[38;5;241m*\u001b[39mb8 \u001b[38;5;241m+\u001b[39m \u001b[38;5;241m100.657610844\u001b[39m\u001b[38;5;241m*\u001b[39mc7 \u001b[38;5;241m+\u001b[39m \u001b[38;5;241m30523.9070514\u001b[39m\u001b[38;5;241m*\u001b[39mc8 \u001b[38;5;241m+\u001b[39m \u001b[38;5;241m50.331300257\u001b[39m\u001b[38;5;241m*\u001b[39mx7 \u001b[38;5;241m+\u001b[39m \u001b[38;5;241m15262.0034224\u001b[39m\u001b[38;5;241m*\u001b[39mx8 \u001b[38;5;241m+\u001b[39m \u001b[38;5;241m0.00264587036788\u001b[39m\u001b[38;5;241m*\u001b[39my7 \u001b[38;5;241m+\u001b[39m \u001b[38;5;241m0.00331638412872\u001b[39m\u001b[38;5;241m*\u001b[39my8 \u001b[38;5;241m+\u001b[39m \u001b[38;5;241m4.03391551394e-6\u001b[39m\u001b[38;5;241m*\u001b[39mz7 \u001b[38;5;241m-\u001b[39m \u001b[38;5;241m5.06209599462e-6\u001b[39m\u001b[38;5;241m*\u001b[39mz8 \u001b[38;5;241m-\u001b[39m \u001b[38;5;241m1.0\u001b[39m, \u001b[38;5;241m1.74050032416e-5\u001b[39m\u001b[38;5;241m*\u001b[39ma7 \u001b[38;5;241m-\u001b[39m \u001b[38;5;241m8.684836572e-6\u001b[39m\u001b[38;5;241m*\u001b[39ma8 \u001b[38;5;241m-\u001b[39m \u001b[38;5;241m0.33388647978\u001b[39m\u001b[38;5;241m*\u001b[39mb7 \u001b[38;5;241m+\u001b[39m \u001b[38;5;241m160.858696544\u001b[39m\u001b[38;5;241m*\u001b[39mb8 \u001b[38;5;241m+\u001b[39m \u001b[38;5;241m161.525275293\u001b[39m\u001b[38;5;241m*\u001b[39mc7 \u001b[38;5;241m+\u001b[39m \u001b[38;5;241m0.33277609854\u001b[39m\u001b[38;5;241m*\u001b[39mc8 \u001b[38;5;241m-\u001b[39m \u001b[38;5;241m161.525803376\u001b[39m\u001b[38;5;241m*\u001b[39mx7 \u001b[38;5;241m-\u001b[39m \u001b[38;5;241m0.33279259449\u001b[39m\u001b[38;5;241m*\u001b[39mx8 \u001b[38;5;241m-\u001b[39m \u001b[38;5;241m3.48098741016e-5\u001b[39m\u001b[38;5;241m*\u001b[39my7 \u001b[38;5;241m+\u001b[39m \u001b[38;5;241m1.7369673144e-5\u001b[39m\u001b[38;5;241m*\u001b[39my8 \u001b[38;5;241m+\u001b[39m \u001b[38;5;241m0.333898358808\u001b[39m\u001b[38;5;241m*\u001b[39mz7 \u001b[38;5;241m-\u001b[39m \u001b[38;5;241m160.858696544\u001b[39m\u001b[38;5;241m*\u001b[39mz8, \u001b[38;5;241m8.684836572e-6\u001b[39m\u001b[38;5;241m*\u001b[39ma7 \u001b[38;5;241m-\u001b[39m \u001b[38;5;241m1.74050032416e-5\u001b[39m\u001b[38;5;241m*\u001b[39ma8 \u001b[38;5;241m-\u001b[39m \u001b[38;5;241m160.858696544\u001b[39m\u001b[38;5;241m*\u001b[39mb7 \u001b[38;5;241m+\u001b[39m \u001b[38;5;241m0.33388647978\u001b[39m\u001b[38;5;241m*\u001b[39mb8 \u001b[38;5;241m-\u001b[39m \u001b[38;5;241m0.33277609854\u001b[39m\u001b[38;5;241m*\u001b[39mc7 \u001b[38;5;241m-\u001b[39m \u001b[38;5;241m161.525275293\u001b[39m\u001b[38;5;241m*\u001b[39mc8 \u001b[38;5;241m+\u001b[39m \u001b[38;5;241m0.33279259449\u001b[39m\u001b[38;5;241m*\u001b[39mx7 \u001b[38;5;241m+\u001b[39m \u001b[38;5;241m161.525803376\u001b[39m\u001b[38;5;241m*\u001b[39mx8 \u001b[38;5;241m-\u001b[39m \u001b[38;5;241m1.7369673144e-5\u001b[39m\u001b[38;5;241m*\u001b[39my7 \u001b[38;5;241m+\u001b[39m \u001b[38;5;241m3.48098741016e-5\u001b[39m\u001b[38;5;241m*\u001b[39my8 \u001b[38;5;241m+\u001b[39m \u001b[38;5;241m160.858696544\u001b[39m\u001b[38;5;241m*\u001b[39mz7 \u001b[38;5;241m-\u001b[39m \u001b[38;5;241m0.333898358808\u001b[39m\u001b[38;5;241m*\u001b[39mz8, \u001b[38;5;241m-\u001b[39m\u001b[38;5;241m2.1771477936e-5\u001b[39m\u001b[38;5;241m*\u001b[39ma7 \u001b[38;5;241m+\u001b[39m \u001b[38;5;241m2.77720436128e-5\u001b[39m\u001b[38;5;241m*\u001b[39ma8 \u001b[38;5;241m-\u001b[39m \u001b[38;5;241m403.718005824\u001b[39m\u001b[38;5;241m*\u001b[39mb7 \u001b[38;5;241m+\u001b[39m \u001b[38;5;241m0.53213919772\u001b[39m\u001b[38;5;241m*\u001b[39mb8 \u001b[38;5;241m+\u001b[39m \u001b[38;5;241m201.825308898\u001b[39m\u001b[38;5;241m*\u001b[39mc7 \u001b[38;5;241m+\u001b[39m \u001b[38;5;241m1.06531239756\u001b[39m\u001b[38;5;241m*\u001b[39mc8 \u001b[38;5;241m+\u001b[39m \u001b[38;5;241m100.912984368\u001b[39m\u001b[38;5;241m*\u001b[39mx7 \u001b[38;5;241m+\u001b[39m \u001b[38;5;241m0.53268260293\u001b[39m\u001b[38;5;241m*\u001b[39mx8 \u001b[38;5;241m-\u001b[39m \u001b[38;5;241m2.1771477936e-5\u001b[39m\u001b[38;5;241m*\u001b[39my7 \u001b[38;5;241m+\u001b[39m \u001b[38;5;241m2.77719379964e-5\u001b[39m\u001b[38;5;241m*\u001b[39my8 \u001b[38;5;241m-\u001b[39m \u001b[38;5;241m201.859002912\u001b[39m\u001b[38;5;241m*\u001b[39mz7 \u001b[38;5;241m+\u001b[39m \u001b[38;5;241m0.266079065096\u001b[39m\u001b[38;5;241m*\u001b[39mz8 \u001b[38;5;241m+\u001b[39m \u001b[38;5;241m3.0\u001b[39m, \u001b[38;5;241m1.38860218064e-5\u001b[39m\u001b[38;5;241m*\u001b[39ma7 \u001b[38;5;241m-\u001b[39m \u001b[38;5;241m1.0885738968e-5\u001b[39m\u001b[38;5;241m*\u001b[39ma8 \u001b[38;5;241m+\u001b[39m \u001b[38;5;241m0.26606959886\u001b[39m\u001b[38;5;241m*\u001b[39mb7 \u001b[38;5;241m-\u001b[39m \u001b[38;5;241m201.859002912\u001b[39m\u001b[38;5;241m*\u001b[39mb8 \u001b[38;5;241m+\u001b[39m \u001b[38;5;241m0.53265619878\u001b[39m\u001b[38;5;241m*\u001b[39mc7 \u001b[38;5;241m+\u001b[39m \u001b[38;5;241m100.912654449\u001b[39m\u001b[38;5;241m*\u001b[39mc8 \u001b[38;5;241m-\u001b[39m \u001b[38;5;241m0.53268260293\u001b[39m\u001b[38;5;241m*\u001b[39mx7 \u001b[38;5;241m-\u001b[39m \u001b[38;5;241m100.912984368\u001b[39m\u001b[38;5;241m*\u001b[39mx8 \u001b[38;5;241m-\u001b[39m \u001b[38;5;241m2.77719379964e-5\u001b[39m\u001b[38;5;241m*\u001b[39my7 \u001b[38;5;241m+\u001b[39m \u001b[38;5;241m2.1771477936e-5\u001b[39m\u001b[38;5;241m*\u001b[39my8 \u001b[38;5;241m-\u001b[39m \u001b[38;5;241m0.266079065096\u001b[39m\u001b[38;5;241m*\u001b[39mz7 \u001b[38;5;241m+\u001b[39m \u001b[38;5;241m201.859002912\u001b[39m\u001b[38;5;241m*\u001b[39mz8, \u001b[38;5;241m0.00330954\u001b[39m\u001b[38;5;241m*\u001b[39ma1\u001b[38;5;241m*\u001b[39mc7 \u001b[38;5;241m-\u001b[39m \u001b[38;5;241m0.00264041\u001b[39m\u001b[38;5;241m*\u001b[39ma1\u001b[38;5;241m*\u001b[39mc8 \u001b[38;5;241m+\u001b[39m \u001b[38;5;241m0.00329973\u001b[39m\u001b[38;5;241m*\u001b[39ma7\u001b[38;5;241m*\u001b[39mb1 \u001b[38;5;241m+\u001b[39m \u001b[38;5;241m0.00262951\u001b[39m\u001b[38;5;241m*\u001b[39ma8\u001b[38;5;241m*\u001b[39mb1 \u001b[38;5;241m-\u001b[39m \u001b[38;5;241m30587.1\u001b[39m\u001b[38;5;241m*\u001b[39mb7\u001b[38;5;241m*\u001b[39mc1 \u001b[38;5;241m+\u001b[39m \u001b[38;5;241m100.866\u001b[39m\u001b[38;5;241m*\u001b[39mb8\u001b[38;5;241m*\u001b[39mc1 \u001b[38;5;241m+\u001b[39m \u001b[38;5;241m30587.2\u001b[39m\u001b[38;5;241m*\u001b[39mx1\u001b[38;5;241m*\u001b[39mz7 \u001b[38;5;241m-\u001b[39m \u001b[38;5;241m100.871\u001b[39m\u001b[38;5;241m*\u001b[39mx1\u001b[38;5;241m*\u001b[39mz8 \u001b[38;5;241m-\u001b[39m \u001b[38;5;241m0.00661908\u001b[39m\u001b[38;5;241m*\u001b[39mx7\u001b[38;5;241m*\u001b[39my1 \u001b[38;5;241m+\u001b[39m \u001b[38;5;241m0.00528082\u001b[39m\u001b[38;5;241m*\u001b[39mx8\u001b[38;5;241m*\u001b[39my1 \u001b[38;5;241m-\u001b[39m \u001b[38;5;241m0.00659946\u001b[39m\u001b[38;5;241m*\u001b[39my7\u001b[38;5;241m*\u001b[39mz1 \u001b[38;5;241m-\u001b[39m \u001b[38;5;241m0.00525902\u001b[39m\u001b[38;5;241m*\u001b[39my8\u001b[38;5;241m*\u001b[39mz1, \u001b[38;5;241m0.00166011726111\u001b[39m\u001b[38;5;241m*\u001b[39ma7 \u001b[38;5;241m+\u001b[39m \u001b[38;5;241m0.00132292488757\u001b[39m\u001b[38;5;241m*\u001b[39ma8 \u001b[38;5;241m-\u001b[39m \u001b[38;5;241m15198.8523384\u001b[39m\u001b[38;5;241m*\u001b[39mb7 \u001b[38;5;241m+\u001b[39m \u001b[38;5;241m50.120718864\u001b[39m\u001b[38;5;241m*\u001b[39mb8 \u001b[38;5;241m-\u001b[39m \u001b[38;5;241m0.0049225436052\u001b[39m\u001b[38;5;241m*\u001b[39mc7 \u001b[38;5;241m+\u001b[39m \u001b[38;5;241m0.0039272930258\u001b[39m\u001b[38;5;241m*\u001b[39mc8 \u001b[38;5;241m+\u001b[39m \u001b[38;5;241m0.00339307940868\u001b[39m\u001b[38;5;241m*\u001b[39mx7 \u001b[38;5;241m-\u001b[39m \u001b[38;5;241m0.00270705922922\u001b[39m\u001b[38;5;241m*\u001b[39mx8 \u001b[38;5;241m-\u001b[39m \u001b[38;5;241m0.00332023452222\u001b[39m\u001b[38;5;241m*\u001b[39my7 \u001b[38;5;241m-\u001b[39m \u001b[38;5;241m0.00264584977514\u001b[39m\u001b[38;5;241m*\u001b[39my8 \u001b[38;5;241m+\u001b[39m \u001b[38;5;241m15198.9020288\u001b[39m\u001b[38;5;241m*\u001b[39mz7 \u001b[38;5;241m-\u001b[39m \u001b[38;5;241m50.123203384\u001b[39m\u001b[38;5;241m*\u001b[39mz8, \u001b[38;5;241m0.00164645637891\u001b[39m\u001b[38;5;241m*\u001b[39ma7 \u001b[38;5;241m-\u001b[39m \u001b[38;5;241m0.00131203871617\u001b[39m\u001b[38;5;241m*\u001b[39ma8 \u001b[38;5;241m+\u001b[39m \u001b[38;5;241m15325.1770614\u001b[39m\u001b[38;5;241m*\u001b[39mb7 \u001b[38;5;241m+\u001b[39m \u001b[38;5;241m50.537295444\u001b[39m\u001b[38;5;241m*\u001b[39mb8 \u001b[38;5;241m-\u001b[39m \u001b[38;5;241m2.19059776416e-6\u001b[39m\u001b[38;5;241m*\u001b[39mc7 \u001b[38;5;241m-\u001b[39m \u001b[38;5;241m1.74769794064e-6\u001b[39m\u001b[38;5;241m*\u001b[39mc8 \u001b[38;5;241m-\u001b[39m \u001b[38;5;241m5.07714545676e-6\u001b[39m\u001b[38;5;241m*\u001b[39mx7 \u001b[38;5;241m-\u001b[39m \u001b[38;5;241m4.05063713854e-6\u001b[39m\u001b[38;5;241m*\u001b[39mx8 \u001b[38;5;241m-\u001b[39m \u001b[38;5;241m0.00329291275782\u001b[39m\u001b[38;5;241m*\u001b[39my7 \u001b[38;5;241m+\u001b[39m \u001b[38;5;241m0.00262407743234\u001b[39m\u001b[38;5;241m*\u001b[39my8 \u001b[38;5;241m-\u001b[39m \u001b[38;5;241m15325.2271648\u001b[39m\u001b[38;5;241m*\u001b[39mz7 \u001b[38;5;241m-\u001b[39m \u001b[38;5;241m50.539800614\u001b[39m\u001b[38;5;241m*\u001b[39mz8, \u001b[38;5;241m1.74253131759e-5\u001b[39m\u001b[38;5;241m*\u001b[39ma7 \u001b[38;5;241m-\u001b[39m \u001b[38;5;241m8.6752530969e-6\u001b[39m\u001b[38;5;241m*\u001b[39ma8 \u001b[38;5;241m+\u001b[39m \u001b[38;5;241m160.858782384\u001b[39m\u001b[38;5;241m*\u001b[39mb7 \u001b[38;5;241m-\u001b[39m \u001b[38;5;241m0.3317684472\u001b[39m\u001b[38;5;241m*\u001b[39mb8 \u001b[38;5;241m+\u001b[39m \u001b[38;5;241m0.33487911444\u001b[39m\u001b[38;5;241m*\u001b[39mc7 \u001b[38;5;241m+\u001b[39m \u001b[38;5;241m161.525497504\u001b[39m\u001b[38;5;241m*\u001b[39mc8 \u001b[38;5;241m-\u001b[39m \u001b[38;5;241m0.334891028784\u001b[39m\u001b[38;5;241m*\u001b[39mx7 \u001b[38;5;241m-\u001b[39m \u001b[38;5;241m161.525497504\u001b[39m\u001b[38;5;241m*\u001b[39mx8 \u001b[38;5;241m-\u001b[39m \u001b[38;5;241m3.48506263518e-5\u001b[39m\u001b[38;5;241m*\u001b[39my7 \u001b[38;5;241m+\u001b[39m \u001b[38;5;241m1.73505061938e-5\u001b[39m\u001b[38;5;241m*\u001b[39my8 \u001b[38;5;241m-\u001b[39m \u001b[38;5;241m160.858696544\u001b[39m\u001b[38;5;241m*\u001b[39mz7 \u001b[38;5;241m+\u001b[39m \u001b[38;5;241m0.3317848932\u001b[39m\u001b[38;5;241m*\u001b[39mz8, \u001b[38;5;241m2.17728724374e-5\u001b[39m\u001b[38;5;241m*\u001b[39ma7 \u001b[38;5;241m-\u001b[39m \u001b[38;5;241m2.77719905866e-5\u001b[39m\u001b[38;5;241m*\u001b[39ma8 \u001b[38;5;241m-\u001b[39m \u001b[38;5;241m201.21417864\u001b[39m\u001b[38;5;241m*\u001b[39mb7 \u001b[38;5;241m+\u001b[39m \u001b[38;5;241m1.06091665728\u001b[39m\u001b[38;5;241m*\u001b[39mb8 \u001b[38;5;241m+\u001b[39m \u001b[38;5;241m404.918247552\u001b[39m\u001b[38;5;241m*\u001b[39mc7 \u001b[38;5;241m+\u001b[39m \u001b[38;5;241m0.53434505252\u001b[39m\u001b[38;5;241m*\u001b[39mc8 \u001b[38;5;241m+\u001b[39m \u001b[38;5;241m202.459123776\u001b[39m\u001b[38;5;241m*\u001b[39mx7 \u001b[38;5;241m+\u001b[39m \u001b[38;5;241m0.267182031736\u001b[39m\u001b[38;5;241m*\u001b[39mx8 \u001b[38;5;241m+\u001b[39m \u001b[38;5;241m2.17728724374e-5\u001b[39m\u001b[38;5;241m*\u001b[39my7 \u001b[38;5;241m-\u001b[39m \u001b[38;5;241m2.77719905866e-5\u001b[39m\u001b[38;5;241m*\u001b[39my8 \u001b[38;5;241m-\u001b[39m \u001b[38;5;241m100.60741824\u001b[39m\u001b[38;5;241m*\u001b[39mz7 \u001b[38;5;241m+\u001b[39m \u001b[38;5;241m0.53048260642\u001b[39m\u001b[38;5;241m*\u001b[39mz8 \u001b[38;5;241m+\u001b[39m \u001b[38;5;241m3.0\u001b[39m, \u001b[38;5;241m0.00659946\u001b[39m\u001b[38;5;241m*\u001b[39ma7\u001b[38;5;241m*\u001b[39mb7 \u001b[38;5;241m+\u001b[39m \u001b[38;5;241m0.00661908\u001b[39m\u001b[38;5;241m*\u001b[39ma7\u001b[38;5;241m*\u001b[39mc7 \u001b[38;5;241m-\u001b[39m \u001b[38;5;241m0.00525902\u001b[39m\u001b[38;5;241m*\u001b[39ma8\u001b[38;5;241m*\u001b[39mb8 \u001b[38;5;241m+\u001b[39m \u001b[38;5;241m0.00528082\u001b[39m\u001b[38;5;241m*\u001b[39ma8\u001b[38;5;241m*\u001b[39mc8 \u001b[38;5;241m-\u001b[39m \u001b[38;5;241m61174.2\u001b[39m\u001b[38;5;241m*\u001b[39mb7\u001b[38;5;241m*\u001b[39mc7 \u001b[38;5;241m-\u001b[39m \u001b[38;5;241m201.732\u001b[39m\u001b[38;5;241m*\u001b[39mb8\u001b[38;5;241m*\u001b[39mc8 \u001b[38;5;241m+\u001b[39m \u001b[38;5;241m0.00661908\u001b[39m\u001b[38;5;241m*\u001b[39mx7\u001b[38;5;241m*\u001b[39my7 \u001b[38;5;241m-\u001b[39m \u001b[38;5;241m30587.2\u001b[39m\u001b[38;5;241m*\u001b[39mx7\u001b[38;5;241m*\u001b[39mz7 \u001b[38;5;241m+\u001b[39m \u001b[38;5;241m0.00528082\u001b[39m\u001b[38;5;241m*\u001b[39mx8\u001b[38;5;241m*\u001b[39my8 \u001b[38;5;241m-\u001b[39m \u001b[38;5;241m100.871\u001b[39m\u001b[38;5;241m*\u001b[39mx8\u001b[38;5;241m*\u001b[39mz8 \u001b[38;5;241m+\u001b[39m \u001b[38;5;241m0.00659946\u001b[39m\u001b[38;5;241m*\u001b[39my7\u001b[38;5;241m*\u001b[39mz7 \u001b[38;5;241m-\u001b[39m \u001b[38;5;241m0.00525902\u001b[39m\u001b[38;5;241m*\u001b[39my8\u001b[38;5;241m*\u001b[39mz8 \u001b[38;5;241m-\u001b[39m \u001b[38;5;241m1\u001b[39m, \u001b[38;5;241m0.00329973\u001b[39m\u001b[38;5;241m*\u001b[39ma7\u001b[38;5;241m*\u001b[39mb8 \u001b[38;5;241m+\u001b[39m \u001b[38;5;241m0.00264041\u001b[39m\u001b[38;5;241m*\u001b[39ma7\u001b[38;5;241m*\u001b[39mc8 \u001b[38;5;241m-\u001b[39m \u001b[38;5;241m0.00262951\u001b[39m\u001b[38;5;241m*\u001b[39ma8\u001b[38;5;241m*\u001b[39mb7 \u001b[38;5;241m+\u001b[39m \u001b[38;5;241m0.00330954\u001b[39m\u001b[38;5;241m*\u001b[39ma8\u001b[38;5;241m*\u001b[39mc7 \u001b[38;5;241m-\u001b[39m \u001b[38;5;241m30587.1\u001b[39m\u001b[38;5;241m*\u001b[39mb7\u001b[38;5;241m*\u001b[39mc8 \u001b[38;5;241m-\u001b[39m \u001b[38;5;241m100.866\u001b[39m\u001b[38;5;241m*\u001b[39mb8\u001b[38;5;241m*\u001b[39mc7 \u001b[38;5;241m-\u001b[39m \u001b[38;5;241m0.00661908\u001b[39m\u001b[38;5;241m*\u001b[39mx7\u001b[38;5;241m*\u001b[39my8 \u001b[38;5;241m+\u001b[39m \u001b[38;5;241m100.871\u001b[39m\u001b[38;5;241m*\u001b[39mx7\u001b[38;5;241m*\u001b[39mz8 \u001b[38;5;241m-\u001b[39m \u001b[38;5;241m0.00528082\u001b[39m\u001b[38;5;241m*\u001b[39mx8\u001b[38;5;241m*\u001b[39my7 \u001b[38;5;241m+\u001b[39m \u001b[38;5;241m30587.2\u001b[39m\u001b[38;5;241m*\u001b[39mx8\u001b[38;5;241m*\u001b[39mz7 \u001b[38;5;241m-\u001b[39m \u001b[38;5;241m0.00659946\u001b[39m\u001b[38;5;241m*\u001b[39my7\u001b[38;5;241m*\u001b[39mz8 \u001b[38;5;241m+\u001b[39m \u001b[38;5;241m0.00525902\u001b[39m\u001b[38;5;241m*\u001b[39my8\u001b[38;5;241m*\u001b[39mz7, \u001b[38;5;241m-\u001b[39m\u001b[38;5;241m0.00528082\u001b[39m\u001b[38;5;241m*\u001b[39ma1\u001b[38;5;241m*\u001b[39mc7 \u001b[38;5;241m+\u001b[39m \u001b[38;5;241m0.00661908\u001b[39m\u001b[38;5;241m*\u001b[39ma1\u001b[38;5;241m*\u001b[39mc8 \u001b[38;5;241m+\u001b[39m \u001b[38;5;241m0.00525902\u001b[39m\u001b[38;5;241m*\u001b[39ma7\u001b[38;5;241m*\u001b[39mb1 \u001b[38;5;241m+\u001b[39m \u001b[38;5;241m0.00659946\u001b[39m\u001b[38;5;241m*\u001b[39ma8\u001b[38;5;241m*\u001b[39mb1 \u001b[38;5;241m+\u001b[39m \u001b[38;5;241m201.732\u001b[39m\u001b[38;5;241m*\u001b[39mb7\u001b[38;5;241m*\u001b[39mc1 \u001b[38;5;241m-\u001b[39m \u001b[38;5;241m61174.2\u001b[39m\u001b[38;5;241m*\u001b[39mb8\u001b[38;5;241m*\u001b[39mc1 \u001b[38;5;241m+\u001b[39m \u001b[38;5;241m100.871\u001b[39m\u001b[38;5;241m*\u001b[39mx1\u001b[38;5;241m*\u001b[39mz7 \u001b[38;5;241m-\u001b[39m \u001b[38;5;241m30587.2\u001b[39m\u001b[38;5;241m*\u001b[39mx1\u001b[38;5;241m*\u001b[39mz8 \u001b[38;5;241m-\u001b[39m \u001b[38;5;241m0.00528082\u001b[39m\u001b[38;5;241m*\u001b[39mx7\u001b[38;5;241m*\u001b[39my1 \u001b[38;5;241m+\u001b[39m \u001b[38;5;241m0.00661908\u001b[39m\u001b[38;5;241m*\u001b[39mx8\u001b[38;5;241m*\u001b[39my1 \u001b[38;5;241m+\u001b[39m \u001b[38;5;241m0.00525902\u001b[39m\u001b[38;5;241m*\u001b[39my7\u001b[38;5;241m*\u001b[39mz1 \u001b[38;5;241m+\u001b[39m \u001b[38;5;241m0.00659946\u001b[39m\u001b[38;5;241m*\u001b[39my8\u001b[38;5;241m*\u001b[39mz1, \u001b[38;5;241m0.00264584977514\u001b[39m\u001b[38;5;241m*\u001b[39ma7 \u001b[38;5;241m+\u001b[39m \u001b[38;5;241m0.00332023452222\u001b[39m\u001b[38;5;241m*\u001b[39ma8 \u001b[38;5;241m+\u001b[39m \u001b[38;5;241m100.241437728\u001b[39m\u001b[38;5;241m*\u001b[39mb7 \u001b[38;5;241m-\u001b[39m \u001b[38;5;241m30397.7046768\u001b[39m\u001b[38;5;241m*\u001b[39mb8 \u001b[38;5;241m+\u001b[39m \u001b[38;5;241m0.0078545860516\u001b[39m\u001b[38;5;241m*\u001b[39mc7 \u001b[38;5;241m-\u001b[39m \u001b[38;5;241m0.0098450872104\u001b[39m\u001b[38;5;241m*\u001b[39mc8 \u001b[38;5;241m+\u001b[39m \u001b[38;5;241m0.00270705922922\u001b[39m\u001b[38;5;241m*\u001b[39mx7 \u001b[38;5;241m-\u001b[39m \u001b[38;5;241m0.00339307940868\u001b[39m\u001b[38;5;241m*\u001b[39mx8 \u001b[38;5;241m+\u001b[39m \u001b[38;5;241m0.00264584977514\u001b[39m\u001b[38;5;241m*\u001b[39my7 \u001b[38;5;241m+\u001b[39m \u001b[38;5;241m0.00332023452222\u001b[39m\u001b[38;5;241m*\u001b[39my8 \u001b[38;5;241m+\u001b[39m \u001b[38;5;241m50.123203384\u001b[39m\u001b[38;5;241m*\u001b[39mz7 \u001b[38;5;241m-\u001b[39m \u001b[38;5;241m15198.9020288\u001b[39m\u001b[38;5;241m*\u001b[39mz8 \u001b[38;5;241m-\u001b[39m \u001b[38;5;241m3.0\u001b[39m, \u001b[38;5;241m-\u001b[39m\u001b[38;5;241m0.00262407743234\u001b[39m\u001b[38;5;241m*\u001b[39ma7 \u001b[38;5;241m+\u001b[39m \u001b[38;5;241m0.00329291275782\u001b[39m\u001b[38;5;241m*\u001b[39ma8 \u001b[38;5;241m+\u001b[39m \u001b[38;5;241m101.074590888\u001b[39m\u001b[38;5;241m*\u001b[39mb7 \u001b[38;5;241m+\u001b[39m \u001b[38;5;241m30650.3541228\u001b[39m\u001b[38;5;241m*\u001b[39mb8 \u001b[38;5;241m-\u001b[39m \u001b[38;5;241m3.49539588128e-6\u001b[39m\u001b[38;5;241m*\u001b[39mc7 \u001b[38;5;241m-\u001b[39m \u001b[38;5;241m4.38119552832e-6\u001b[39m\u001b[38;5;241m*\u001b[39mc8 \u001b[38;5;241m+\u001b[39m \u001b[38;5;241m4.05063713854e-6\u001b[39m\u001b[38;5;241m*\u001b[39mx7 \u001b[38;5;241m+\u001b[39m \u001b[38;5;241m5.07714545676e-6\u001b[39m\u001b[38;5;241m*\u001b[39mx8 \u001b[38;5;241m-\u001b[39m \u001b[38;5;241m0.00262407743234\u001b[39m\u001b[38;5;241m*\u001b[39my7 \u001b[38;5;241m+\u001b[39m \u001b[38;5;241m0.00329291275782\u001b[39m\u001b[38;5;241m*\u001b[39my8 \u001b[38;5;241m+\u001b[39m \u001b[38;5;241m50.539800614\u001b[39m\u001b[38;5;241m*\u001b[39mz7 \u001b[38;5;241m+\u001b[39m \u001b[38;5;241m15325.2271648\u001b[39m\u001b[38;5;241m*\u001b[39mz8 \u001b[38;5;241m+\u001b[39m \u001b[38;5;241m1.0\u001b[39m, \u001b[38;5;241m8.6752530969e-6\u001b[39m\u001b[38;5;241m*\u001b[39ma7 \u001b[38;5;241m-\u001b[39m \u001b[38;5;241m1.74253131759e-5\u001b[39m\u001b[38;5;241m*\u001b[39ma8 \u001b[38;5;241m+\u001b[39m \u001b[38;5;241m0.3317684472\u001b[39m\u001b[38;5;241m*\u001b[39mb7 \u001b[38;5;241m-\u001b[39m \u001b[38;5;241m160.858782384\u001b[39m\u001b[38;5;241m*\u001b[39mb8 \u001b[38;5;241m-\u001b[39m \u001b[38;5;241m161.525497504\u001b[39m\u001b[38;5;241m*\u001b[39mc7 \u001b[38;5;241m-\u001b[39m \u001b[38;5;241m0.33487911444\u001b[39m\u001b[38;5;241m*\u001b[39mc8 \u001b[38;5;241m+\u001b[39m \u001b[38;5;241m161.525497504\u001b[39m\u001b[38;5;241m*\u001b[39mx7 \u001b[38;5;241m+\u001b[39m \u001b[38;5;241m0.334891028784\u001b[39m\u001b[38;5;241m*\u001b[39mx8 \u001b[38;5;241m-\u001b[39m \u001b[38;5;241m1.73505061938e-5\u001b[39m\u001b[38;5;241m*\u001b[39my7 \u001b[38;5;241m+\u001b[39m \u001b[38;5;241m3.48506263518e-5\u001b[39m\u001b[38;5;241m*\u001b[39my8 \u001b[38;5;241m-\u001b[39m \u001b[38;5;241m0.3317848932\u001b[39m\u001b[38;5;241m*\u001b[39mz7 \u001b[38;5;241m+\u001b[39m \u001b[38;5;241m160.858696544\u001b[39m\u001b[38;5;241m*\u001b[39mz8, \u001b[38;5;241m1.38859952933e-5\u001b[39m\u001b[38;5;241m*\u001b[39ma7 \u001b[38;5;241m-\u001b[39m \u001b[38;5;241m1.08864362187e-5\u001b[39m\u001b[38;5;241m*\u001b[39ma8 \u001b[38;5;241m-\u001b[39m \u001b[38;5;241m0.53045832864\u001b[39m\u001b[38;5;241m*\u001b[39mb7 \u001b[38;5;241m+\u001b[39m \u001b[38;5;241m100.60708932\u001b[39m\u001b[38;5;241m*\u001b[39mb8 \u001b[38;5;241m-\u001b[39m \u001b[38;5;241m0.26717252626\u001b[39m\u001b[38;5;241m*\u001b[39mc7 \u001b[38;5;241m-\u001b[39m \u001b[38;5;241m202.459123776\u001b[39m\u001b[38;5;241m*\u001b[39mc8 \u001b[38;5;241m+\u001b[39m \u001b[38;5;241m0.267182031736\u001b[39m\u001b[38;5;241m*\u001b[39mx7 \u001b[38;5;241m+\u001b[39m \u001b[38;5;241m202.459123776\u001b[39m\u001b[38;5;241m*\u001b[39mx8 \u001b[38;5;241m-\u001b[39m \u001b[38;5;241m2.77719905866e-5\u001b[39m\u001b[38;5;241m*\u001b[39my7 \u001b[38;5;241m+\u001b[39m \u001b[38;5;241m2.17728724374e-5\u001b[39m\u001b[38;5;241m*\u001b[39my8 \u001b[38;5;241m+\u001b[39m \u001b[38;5;241m0.53048260642\u001b[39m\u001b[38;5;241m*\u001b[39mz7 \u001b[38;5;241m-\u001b[39m \u001b[38;5;241m100.60741824\u001b[39m\u001b[38;5;241m*\u001b[39mz8, \u001b[38;5;241m0.00262951\u001b[39m\u001b[38;5;241m*\u001b[39ma7\u001b[38;5;241m*\u001b[39mb8 \u001b[38;5;241m-\u001b[39m \u001b[38;5;241m0.00330954\u001b[39m\u001b[38;5;241m*\u001b[39ma7\u001b[38;5;241m*\u001b[39mc8 \u001b[38;5;241m-\u001b[39m \u001b[38;5;241m0.00329973\u001b[39m\u001b[38;5;241m*\u001b[39ma8\u001b[38;5;241m*\u001b[39mb7 \u001b[38;5;241m-\u001b[39m \u001b[38;5;241m0.00264041\u001b[39m\u001b[38;5;241m*\u001b[39ma8\u001b[38;5;241m*\u001b[39mc7 \u001b[38;5;241m+\u001b[39m \u001b[38;5;241m100.866\u001b[39m\u001b[38;5;241m*\u001b[39mb7\u001b[38;5;241m*\u001b[39mc8 \u001b[38;5;241m+\u001b[39m \u001b[38;5;241m30587.1\u001b[39m\u001b[38;5;241m*\u001b[39mb8\u001b[38;5;241m*\u001b[39mc7 \u001b[38;5;241m+\u001b[39m \u001b[38;5;241m0.00528082\u001b[39m\u001b[38;5;241m*\u001b[39mx7\u001b[38;5;241m*\u001b[39my8 \u001b[38;5;241m-\u001b[39m \u001b[38;5;241m30587.2\u001b[39m\u001b[38;5;241m*\u001b[39mx7\u001b[38;5;241m*\u001b[39mz8 \u001b[38;5;241m+\u001b[39m \u001b[38;5;241m0.00661908\u001b[39m\u001b[38;5;241m*\u001b[39mx8\u001b[38;5;241m*\u001b[39my7 \u001b[38;5;241m-\u001b[39m \u001b[38;5;241m100.871\u001b[39m\u001b[38;5;241m*\u001b[39mx8\u001b[38;5;241m*\u001b[39mz7 \u001b[38;5;241m-\u001b[39m \u001b[38;5;241m0.00525902\u001b[39m\u001b[38;5;241m*\u001b[39my7\u001b[38;5;241m*\u001b[39mz8 \u001b[38;5;241m+\u001b[39m \u001b[38;5;241m0.00659946\u001b[39m\u001b[38;5;241m*\u001b[39my8\u001b[38;5;241m*\u001b[39mz7, \u001b[38;5;241m0.00262951\u001b[39m\u001b[38;5;241m*\u001b[39ma7\u001b[38;5;241m*\u001b[39mb7 \u001b[38;5;241m-\u001b[39m \u001b[38;5;241m0.00264041\u001b[39m\u001b[38;5;241m*\u001b[39ma7\u001b[38;5;241m*\u001b[39mc7 \u001b[38;5;241m-\u001b[39m \u001b[38;5;241m0.00329973\u001b[39m\u001b[38;5;241m*\u001b[39ma8\u001b[38;5;241m*\u001b[39mb8 \u001b[38;5;241m-\u001b[39m \u001b[38;5;241m0.00330954\u001b[39m\u001b[38;5;241m*\u001b[39ma8\u001b[38;5;241m*\u001b[39mc8 \u001b[38;5;241m+\u001b[39m \u001b[38;5;241m100.866\u001b[39m\u001b[38;5;241m*\u001b[39mb7\u001b[38;5;241m*\u001b[39mc7 \u001b[38;5;241m+\u001b[39m \u001b[38;5;241m30587.1\u001b[39m\u001b[38;5;241m*\u001b[39mb8\u001b[38;5;241m*\u001b[39mc8 \u001b[38;5;241m+\u001b[39m \u001b[38;5;241m0.00528082\u001b[39m\u001b[38;5;241m*\u001b[39mx7\u001b[38;5;241m*\u001b[39my7 \u001b[38;5;241m-\u001b[39m \u001b[38;5;241m100.871\u001b[39m\u001b[38;5;241m*\u001b[39mx7\u001b[38;5;241m*\u001b[39mz7 \u001b[38;5;241m+\u001b[39m \u001b[38;5;241m0.00661908\u001b[39m\u001b[38;5;241m*\u001b[39mx8\u001b[38;5;241m*\u001b[39my8 \u001b[38;5;241m-\u001b[39m \u001b[38;5;241m30587.2\u001b[39m\u001b[38;5;241m*\u001b[39mx8\u001b[38;5;241m*\u001b[39mz8 \u001b[38;5;241m-\u001b[39m \u001b[38;5;241m0.00525902\u001b[39m\u001b[38;5;241m*\u001b[39my7\u001b[38;5;241m*\u001b[39mz7 \u001b[38;5;241m+\u001b[39m \u001b[38;5;241m0.00659946\u001b[39m\u001b[38;5;241m*\u001b[39my8\u001b[38;5;241m*\u001b[39mz8, a1\u001b[38;5;241m*\u001b[39mb1\u001b[38;5;241m*\u001b[39mc7 \u001b[38;5;241m-\u001b[39m a1\u001b[38;5;241m*\u001b[39mb1\u001b[38;5;241m*\u001b[39mc8 \u001b[38;5;241m+\u001b[39m a1\u001b[38;5;241m*\u001b[39mb7\u001b[38;5;241m*\u001b[39mc1 \u001b[38;5;241m-\u001b[39m a1\u001b[38;5;241m*\u001b[39mb8\u001b[38;5;241m*\u001b[39mc1 \u001b[38;5;241m+\u001b[39m a7\u001b[38;5;241m*\u001b[39mb1\u001b[38;5;241m*\u001b[39mc1 \u001b[38;5;241m-\u001b[39m a8\u001b[38;5;241m*\u001b[39mb1\u001b[38;5;241m*\u001b[39mc1 \u001b[38;5;241m-\u001b[39m \u001b[38;5;241m2\u001b[39m\u001b[38;5;241m*\u001b[39mx1\u001b[38;5;241m*\u001b[39my1\u001b[38;5;241m*\u001b[39mz7 \u001b[38;5;241m+\u001b[39m \u001b[38;5;241m2\u001b[39m\u001b[38;5;241m*\u001b[39mx1\u001b[38;5;241m*\u001b[39my1\u001b[38;5;241m*\u001b[39mz8 \u001b[38;5;241m-\u001b[39m \u001b[38;5;241m2\u001b[39m\u001b[38;5;241m*\u001b[39mx1\u001b[38;5;241m*\u001b[39my7\u001b[38;5;241m*\u001b[39mz1 \u001b[38;5;241m+\u001b[39m \u001b[38;5;241m2\u001b[39m\u001b[38;5;241m*\u001b[39mx1\u001b[38;5;241m*\u001b[39my8\u001b[38;5;241m*\u001b[39mz1 \u001b[38;5;241m-\u001b[39m \u001b[38;5;241m2\u001b[39m\u001b[38;5;241m*\u001b[39mx7\u001b[38;5;241m*\u001b[39my1\u001b[38;5;241m*\u001b[39mz1 \u001b[38;5;241m+\u001b[39m \u001b[38;5;241m2\u001b[39m\u001b[38;5;241m*\u001b[39mx8\u001b[38;5;241m*\u001b[39my1\u001b[38;5;241m*\u001b[39mz1, \u001b[38;5;241m0.503107\u001b[39m\u001b[38;5;241m*\u001b[39ma1\u001b[38;5;241m*\u001b[39mc7 \u001b[38;5;241m-\u001b[39m \u001b[38;5;241m0.503107\u001b[39m\u001b[38;5;241m*\u001b[39ma1\u001b[38;5;241m*\u001b[39mc8 \u001b[38;5;241m+\u001b[39m \u001b[38;5;241m0.496904\u001b[39m\u001b[38;5;241m*\u001b[39ma7\u001b[38;5;241m*\u001b[39mb1 \u001b[38;5;241m-\u001b[39m \u001b[38;5;241m0.496904\u001b[39m\u001b[38;5;241m*\u001b[39ma8\u001b[38;5;241m*\u001b[39mb1 \u001b[38;5;241m-\u001b[39m \u001b[38;5;241m1.48738\u001b[39m\u001b[38;5;241m*\u001b[39mb7\u001b[38;5;241m*\u001b[39mc1 \u001b[38;5;241m+\u001b[39m \u001b[38;5;241m1.48738\u001b[39m\u001b[38;5;241m*\u001b[39mb8\u001b[38;5;241m*\u001b[39mc1 \u001b[38;5;241m+\u001b[39m \u001b[38;5;241m1.025242\u001b[39m\u001b[38;5;241m*\u001b[39mx1\u001b[38;5;241m*\u001b[39mz7 \u001b[38;5;241m-\u001b[39m \u001b[38;5;241m1.025242\u001b[39m\u001b[38;5;241m*\u001b[39mx1\u001b[38;5;241m*\u001b[39mz8 \u001b[38;5;241m-\u001b[39m \u001b[38;5;241m1.006214\u001b[39m\u001b[38;5;241m*\u001b[39mx7\u001b[38;5;241m*\u001b[39my1 \u001b[38;5;241m+\u001b[39m \u001b[38;5;241m1.006214\u001b[39m\u001b[38;5;241m*\u001b[39mx8\u001b[38;5;241m*\u001b[39my1 \u001b[38;5;241m-\u001b[39m \u001b[38;5;241m0.993808\u001b[39m\u001b[38;5;241m*\u001b[39my7\u001b[38;5;241m*\u001b[39mz1 \u001b[38;5;241m+\u001b[39m \u001b[38;5;241m0.993808\u001b[39m\u001b[38;5;241m*\u001b[39my8\u001b[38;5;241m*\u001b[39mz1, \u001b[38;5;241m-\u001b[39m\u001b[38;5;241m0.498967\u001b[39m\u001b[38;5;241m*\u001b[39ma1\u001b[38;5;241m*\u001b[39mc7 \u001b[38;5;241m-\u001b[39m \u001b[38;5;241m0.498967\u001b[39m\u001b[38;5;241m*\u001b[39ma1\u001b[38;5;241m*\u001b[39mc8 \u001b[38;5;241m+\u001b[39m \u001b[38;5;241m0.501034\u001b[39m\u001b[38;5;241m*\u001b[39ma7\u001b[38;5;241m*\u001b[39mb1 \u001b[38;5;241m+\u001b[39m \u001b[38;5;241m0.501034\u001b[39m\u001b[38;5;241m*\u001b[39ma8\u001b[38;5;241m*\u001b[39mb1 \u001b[38;5;241m+\u001b[39m \u001b[38;5;241m0.000661904\u001b[39m\u001b[38;5;241m*\u001b[39mb7\u001b[38;5;241m*\u001b[39mc1 \u001b[38;5;241m+\u001b[39m \u001b[38;5;241m0.000661904\u001b[39m\u001b[38;5;241m*\u001b[39mb8\u001b[38;5;241m*\u001b[39mc1 \u001b[38;5;241m+\u001b[39m \u001b[38;5;241m0.001534094\u001b[39m\u001b[38;5;241m*\u001b[39mx1\u001b[38;5;241m*\u001b[39mz7 \u001b[38;5;241m+\u001b[39m \u001b[38;5;241m0.001534094\u001b[39m\u001b[38;5;241m*\u001b[39mx1\u001b[38;5;241m*\u001b[39mz8 \u001b[38;5;241m+\u001b[39m \u001b[38;5;241m0.997934\u001b[39m\u001b[38;5;241m*\u001b[39mx7\u001b[38;5;241m*\u001b[39my1 \u001b[38;5;241m+\u001b[39m \u001b[38;5;241m0.997934\u001b[39m\u001b[38;5;241m*\u001b[39mx8\u001b[38;5;241m*\u001b[39my1 \u001b[38;5;241m-\u001b[39m \u001b[38;5;241m1.002068\u001b[39m\u001b[38;5;241m*\u001b[39my7\u001b[38;5;241m*\u001b[39mz1 \u001b[38;5;241m-\u001b[39m \u001b[38;5;241m1.002068\u001b[39m\u001b[38;5;241m*\u001b[39my8\u001b[38;5;241m*\u001b[39mz1, \u001b[38;5;241m0.01056166\u001b[39m\u001b[38;5;241m*\u001b[39ma1\u001b[38;5;241m*\u001b[39mc7 \u001b[38;5;241m+\u001b[39m \u001b[38;5;241m0.00659838\u001b[39m\u001b[38;5;241m*\u001b[39ma1\u001b[38;5;241m*\u001b[39mc8 \u001b[38;5;241m-\u001b[39m \u001b[38;5;241m0.01051808\u001b[39m\u001b[38;5;241m*\u001b[39ma7\u001b[38;5;241m*\u001b[39mb1 \u001b[38;5;241m+\u001b[39m \u001b[38;5;241m0.0065784\u001b[39m\u001b[38;5;241m*\u001b[39ma8\u001b[38;5;241m*\u001b[39mb1 \u001b[38;5;241m+\u001b[39m \u001b[38;5;241m202.372\u001b[39m\u001b[38;5;241m*\u001b[39mb7\u001b[38;5;241m*\u001b[39mc1 \u001b[38;5;241m+\u001b[39m \u001b[38;5;241m122348.8\u001b[39m\u001b[38;5;241m*\u001b[39mb8\u001b[38;5;241m*\u001b[39mc1 \u001b[38;5;241m+\u001b[39m \u001b[38;5;241m101.1896\u001b[39m\u001b[38;5;241m*\u001b[39mx1\u001b[38;5;241m*\u001b[39mz7 \u001b[38;5;241m+\u001b[39m \u001b[38;5;241m61174.4\u001b[39m\u001b[38;5;241m*\u001b[39mx1\u001b[38;5;241m*\u001b[39mz8 \u001b[38;5;241m+\u001b[39m \u001b[38;5;241m0.01056166\u001b[39m\u001b[38;5;241m*\u001b[39mx7\u001b[38;5;241m*\u001b[39my1 \u001b[38;5;241m+\u001b[39m \u001b[38;5;241m0.00659838\u001b[39m\u001b[38;5;241m*\u001b[39mx8\u001b[38;5;241m*\u001b[39my1 \u001b[38;5;241m-\u001b[39m \u001b[38;5;241m0.01051804\u001b[39m\u001b[38;5;241m*\u001b[39my7\u001b[38;5;241m*\u001b[39mz1 \u001b[38;5;241m+\u001b[39m \u001b[38;5;241m0.0065784\u001b[39m\u001b[38;5;241m*\u001b[39my8\u001b[38;5;241m*\u001b[39mz1, \u001b[38;5;241m0.00329919\u001b[39m\u001b[38;5;241m*\u001b[39ma1\u001b[38;5;241m*\u001b[39mc7 \u001b[38;5;241m+\u001b[39m \u001b[38;5;241m0.00528083\u001b[39m\u001b[38;5;241m*\u001b[39ma1\u001b[38;5;241m*\u001b[39mc8 \u001b[38;5;241m+\u001b[39m \u001b[38;5;241m0.0032892\u001b[39m\u001b[38;5;241m*\u001b[39ma7\u001b[38;5;241m*\u001b[39mb1 \u001b[38;5;241m-\u001b[39m \u001b[38;5;241m0.00525904\u001b[39m\u001b[38;5;241m*\u001b[39ma8\u001b[38;5;241m*\u001b[39mb1 \u001b[38;5;241m+\u001b[39m \u001b[38;5;241m61174.4\u001b[39m\u001b[38;5;241m*\u001b[39mb7\u001b[38;5;241m*\u001b[39mc1 \u001b[38;5;241m+\u001b[39m \u001b[38;5;241m101.186\u001b[39m\u001b[38;5;241m*\u001b[39mb8\u001b[38;5;241m*\u001b[39mc1 \u001b[38;5;241m-\u001b[39m \u001b[38;5;241m61174.4\u001b[39m\u001b[38;5;241m*\u001b[39mx1\u001b[38;5;241m*\u001b[39mz7 \u001b[38;5;241m-\u001b[39m \u001b[38;5;241m101.1896\u001b[39m\u001b[38;5;241m*\u001b[39mx1\u001b[38;5;241m*\u001b[39mz8 \u001b[38;5;241m-\u001b[39m \u001b[38;5;241m0.00659838\u001b[39m\u001b[38;5;241m*\u001b[39mx7\u001b[38;5;241m*\u001b[39my1 \u001b[38;5;241m-\u001b[39m \u001b[38;5;241m0.01056166\u001b[39m\u001b[38;5;241m*\u001b[39mx8\u001b[38;5;241m*\u001b[39my1 \u001b[38;5;241m-\u001b[39m \u001b[38;5;241m0.0065784\u001b[39m\u001b[38;5;241m*\u001b[39my7\u001b[38;5;241m*\u001b[39mz1 \u001b[38;5;241m+\u001b[39m \u001b[38;5;241m0.01051804\u001b[39m\u001b[38;5;241m*\u001b[39my8\u001b[38;5;241m*\u001b[39mz1, \u001b[38;5;241m0.496904\u001b[39m\u001b[38;5;241m*\u001b[39ma1\u001b[38;5;241m*\u001b[39mb7 \u001b[38;5;241m-\u001b[39m \u001b[38;5;241m0.496904\u001b[39m\u001b[38;5;241m*\u001b[39ma1\u001b[38;5;241m*\u001b[39mb8 \u001b[38;5;241m+\u001b[39m \u001b[38;5;241m0.503107\u001b[39m\u001b[38;5;241m*\u001b[39ma7\u001b[38;5;241m*\u001b[39mc1 \u001b[38;5;241m-\u001b[39m \u001b[38;5;241m0.503107\u001b[39m\u001b[38;5;241m*\u001b[39ma8\u001b[38;5;241m*\u001b[39mc1 \u001b[38;5;241m-\u001b[39m \u001b[38;5;241m1.48738\u001b[39m\u001b[38;5;241m*\u001b[39mb1\u001b[38;5;241m*\u001b[39mc7 \u001b[38;5;241m+\u001b[39m \u001b[38;5;241m1.48738\u001b[39m\u001b[38;5;241m*\u001b[39mb1\u001b[38;5;241m*\u001b[39mc8 \u001b[38;5;241m-\u001b[39m \u001b[38;5;241m1.006214\u001b[39m\u001b[38;5;241m*\u001b[39mx1\u001b[38;5;241m*\u001b[39my7 \u001b[38;5;241m+\u001b[39m \u001b[38;5;241m1.006214\u001b[39m\u001b[38;5;241m*\u001b[39mx1\u001b[38;5;241m*\u001b[39my8 \u001b[38;5;241m+\u001b[39m \u001b[38;5;241m1.025242\u001b[39m\u001b[38;5;241m*\u001b[39mx7\u001b[38;5;241m*\u001b[39mz1 \u001b[38;5;241m-\u001b[39m \u001b[38;5;241m1.025242\u001b[39m\u001b[38;5;241m*\u001b[39mx8\u001b[38;5;241m*\u001b[39mz1 \u001b[38;5;241m-\u001b[39m \u001b[38;5;241m0.993808\u001b[39m\u001b[38;5;241m*\u001b[39my1\u001b[38;5;241m*\u001b[39mz7 \u001b[38;5;241m+\u001b[39m \u001b[38;5;241m0.993808\u001b[39m\u001b[38;5;241m*\u001b[39my1\u001b[38;5;241m*\u001b[39mz8, \u001b[38;5;241m0.501034\u001b[39m\u001b[38;5;241m*\u001b[39ma1\u001b[38;5;241m*\u001b[39mb7 \u001b[38;5;241m+\u001b[39m \u001b[38;5;241m0.501034\u001b[39m\u001b[38;5;241m*\u001b[39ma1\u001b[38;5;241m*\u001b[39mb8 \u001b[38;5;241m-\u001b[39m \u001b[38;5;241m0.498967\u001b[39m\u001b[38;5;241m*\u001b[39ma7\u001b[38;5;241m*\u001b[39mc1 \u001b[38;5;241m-\u001b[39m \u001b[38;5;241m0.498967\u001b[39m\u001b[38;5;241m*\u001b[39ma8\u001b[38;5;241m*\u001b[39mc1 \u001b[38;5;241m+\u001b[39m \u001b[38;5;241m0.000661904\u001b[39m\u001b[38;5;241m*\u001b[39mb1\u001b[38;5;241m*\u001b[39mc7 \u001b[38;5;241m+\u001b[39m \u001b[38;5;241m0.000661904\u001b[39m\u001b[38;5;241m*\u001b[39mb1\u001b[38;5;241m*\u001b[39mc8 \u001b[38;5;241m+\u001b[39m \u001b[38;5;241m0.997934\u001b[39m\u001b[38;5;241m*\u001b[39mx1\u001b[38;5;241m*\u001b[39my7 \u001b[38;5;241m+\u001b[39m \u001b[38;5;241m0.997934\u001b[39m\u001b[38;5;241m*\u001b[39mx1\u001b[38;5;241m*\u001b[39my8 \u001b[38;5;241m+\u001b[39m \u001b[38;5;241m0.001534094\u001b[39m\u001b[38;5;241m*\u001b[39mx7\u001b[38;5;241m*\u001b[39mz1 \u001b[38;5;241m+\u001b[39m \u001b[38;5;241m0.001534094\u001b[39m\u001b[38;5;241m*\u001b[39mx8\u001b[38;5;241m*\u001b[39mz1 \u001b[38;5;241m-\u001b[39m \u001b[38;5;241m1.002068\u001b[39m\u001b[38;5;241m*\u001b[39my1\u001b[38;5;241m*\u001b[39mz7 \u001b[38;5;241m-\u001b[39m \u001b[38;5;241m1.002068\u001b[39m\u001b[38;5;241m*\u001b[39my1\u001b[38;5;241m*\u001b[39mz8, \u001b[38;5;241m-\u001b[39m\u001b[38;5;241m0.01051808\u001b[39m\u001b[38;5;241m*\u001b[39ma1\u001b[38;5;241m*\u001b[39mb7 \u001b[38;5;241m+\u001b[39m \u001b[38;5;241m0.0065784\u001b[39m\u001b[38;5;241m*\u001b[39ma1\u001b[38;5;241m*\u001b[39mb8 \u001b[38;5;241m+\u001b[39m \u001b[38;5;241m0.01056166\u001b[39m\u001b[38;5;241m*\u001b[39ma7\u001b[38;5;241m*\u001b[39mc1 \u001b[38;5;241m+\u001b[39m \u001b[38;5;241m0.00659838\u001b[39m\u001b[38;5;241m*\u001b[39ma8\u001b[38;5;241m*\u001b[39mc1 \u001b[38;5;241m+\u001b[39m \u001b[38;5;241m202.372\u001b[39m\u001b[38;5;241m*\u001b[39mb1\u001b[38;5;241m*\u001b[39mc7 \u001b[38;5;241m+\u001b[39m \u001b[38;5;241m122348.8\u001b[39m\u001b[38;5;241m*\u001b[39mb1\u001b[38;5;241m*\u001b[39mc8 \u001b[38;5;241m+\u001b[39m \u001b[38;5;241m0.01056166\u001b[39m\u001b[38;5;241m*\u001b[39mx1\u001b[38;5;241m*\u001b[39my7 \u001b[38;5;241m+\u001b[39m \u001b[38;5;241m0.00659838\u001b[39m\u001b[38;5;241m*\u001b[39mx1\u001b[38;5;241m*\u001b[39my8 \u001b[38;5;241m+\u001b[39m \u001b[38;5;241m101.1896\u001b[39m\u001b[38;5;241m*\u001b[39mx7\u001b[38;5;241m*\u001b[39mz1 \u001b[38;5;241m+\u001b[39m \u001b[38;5;241m61174.4\u001b[39m\u001b[38;5;241m*\u001b[39mx8\u001b[38;5;241m*\u001b[39mz1 \u001b[38;5;241m-\u001b[39m \u001b[38;5;241m0.01051804\u001b[39m\u001b[38;5;241m*\u001b[39my1\u001b[38;5;241m*\u001b[39mz7 \u001b[38;5;241m+\u001b[39m \u001b[38;5;241m0.0065784\u001b[39m\u001b[38;5;241m*\u001b[39my1\u001b[38;5;241m*\u001b[39mz8, \u001b[38;5;241m0.0032892\u001b[39m\u001b[38;5;241m*\u001b[39ma1\u001b[38;5;241m*\u001b[39mb7 \u001b[38;5;241m-\u001b[39m \u001b[38;5;241m0.00525904\u001b[39m\u001b[38;5;241m*\u001b[39ma1\u001b[38;5;241m*\u001b[39mb8 \u001b[38;5;241m+\u001b[39m \u001b[38;5;241m0.00329919\u001b[39m\u001b[38;5;241m*\u001b[39ma7\u001b[38;5;241m*\u001b[39mc1 \u001b[38;5;241m+\u001b[39m \u001b[38;5;241m0.00528083\u001b[39m\u001b[38;5;241m*\u001b[39ma8\u001b[38;5;241m*\u001b[39mc1 \u001b[38;5;241m+\u001b[39m \u001b[38;5;241m61174.4\u001b[39m\u001b[38;5;241m*\u001b[39mb1\u001b[38;5;241m*\u001b[39mc7 \u001b[38;5;241m+\u001b[39m \u001b[38;5;241m101.186\u001b[39m\u001b[38;5;241m*\u001b[39mb1\u001b[38;5;241m*\u001b[39mc8 \u001b[38;5;241m-\u001b[39m \u001b[38;5;241m0.00659838\u001b[39m\u001b[38;5;241m*\u001b[39mx1\u001b[38;5;241m*\u001b[39my7 \u001b[38;5;241m-\u001b[39m \u001b[38;5;241m0.01056166\u001b[39m\u001b[38;5;241m*\u001b[39mx1\u001b[38;5;241m*\u001b[39my8 \u001b[38;5;241m-\u001b[39m \u001b[38;5;241m61174.4\u001b[39m\u001b[38;5;241m*\u001b[39mx7\u001b[38;5;241m*\u001b[39mz1 \u001b[38;5;241m-\u001b[39m \u001b[38;5;241m101.1896\u001b[39m\u001b[38;5;241m*\u001b[39mx8\u001b[38;5;241m*\u001b[39mz1 \u001b[38;5;241m-\u001b[39m \u001b[38;5;241m0.0065784\u001b[39m\u001b[38;5;241m*\u001b[39my1\u001b[38;5;241m*\u001b[39mz7 \u001b[38;5;241m+\u001b[39m \u001b[38;5;241m0.01051804\u001b[39m\u001b[38;5;241m*\u001b[39my1\u001b[38;5;241m*\u001b[39mz8, a1\u001b[38;5;241m*\u001b[39mb7\u001b[38;5;241m*\u001b[39mc7 \u001b[38;5;241m+\u001b[39m a1\u001b[38;5;241m*\u001b[39mb8\u001b[38;5;241m*\u001b[39mc8 \u001b[38;5;241m+\u001b[39m a7\u001b[38;5;241m*\u001b[39mb1\u001b[38;5;241m*\u001b[39mc7 \u001b[38;5;241m+\u001b[39m a7\u001b[38;5;241m*\u001b[39mb7\u001b[38;5;241m*\u001b[39mc1 \u001b[38;5;241m+\u001b[39m a8\u001b[38;5;241m*\u001b[39mb1\u001b[38;5;241m*\u001b[39mc8 \u001b[38;5;241m+\u001b[39m a8\u001b[38;5;241m*\u001b[39mb8\u001b[38;5;241m*\u001b[39mc1 \u001b[38;5;241m-\u001b[39m \u001b[38;5;241m2\u001b[39m\u001b[38;5;241m*\u001b[39mx1\u001b[38;5;241m*\u001b[39my7\u001b[38;5;241m*\u001b[39mz7 \u001b[38;5;241m-\u001b[39m \u001b[38;5;241m2\u001b[39m\u001b[38;5;241m*\u001b[39mx1\u001b[38;5;241m*\u001b[39my8\u001b[38;5;241m*\u001b[39mz8 \u001b[38;5;241m-\u001b[39m \u001b[38;5;241m2\u001b[39m\u001b[38;5;241m*\u001b[39mx7\u001b[38;5;241m*\u001b[39my1\u001b[38;5;241m*\u001b[39mz7 \u001b[38;5;241m-\u001b[39m \u001b[38;5;241m2\u001b[39m\u001b[38;5;241m*\u001b[39mx7\u001b[38;5;241m*\u001b[39my7\u001b[38;5;241m*\u001b[39mz1 \u001b[38;5;241m-\u001b[39m \u001b[38;5;241m2\u001b[39m\u001b[38;5;241m*\u001b[39mx8\u001b[38;5;241m*\u001b[39my1\u001b[38;5;241m*\u001b[39mz8 \u001b[38;5;241m-\u001b[39m \u001b[38;5;241m2\u001b[39m\u001b[38;5;241m*\u001b[39mx8\u001b[38;5;241m*\u001b[39my8\u001b[38;5;241m*\u001b[39mz1, \u001b[38;5;241m2\u001b[39m\u001b[38;5;241m*\u001b[39ma1\u001b[38;5;241m*\u001b[39mb7\u001b[38;5;241m*\u001b[39mc8 \u001b[38;5;241m+\u001b[39m \u001b[38;5;241m2\u001b[39m\u001b[38;5;241m*\u001b[39ma1\u001b[38;5;241m*\u001b[39mb8\u001b[38;5;241m*\u001b[39mc7 \u001b[38;5;241m+\u001b[39m \u001b[38;5;241m2\u001b[39m\u001b[38;5;241m*\u001b[39ma7\u001b[38;5;241m*\u001b[39mb1\u001b[38;5;241m*\u001b[39mc8 \u001b[38;5;241m+\u001b[39m \u001b[38;5;241m2\u001b[39m\u001b[38;5;241m*\u001b[39ma7\u001b[38;5;241m*\u001b[39mb8\u001b[38;5;241m*\u001b[39mc1 \u001b[38;5;241m+\u001b[39m \u001b[38;5;241m2\u001b[39m\u001b[38;5;241m*\u001b[39ma8\u001b[38;5;241m*\u001b[39mb1\u001b[38;5;241m*\u001b[39mc7 \u001b[38;5;241m+\u001b[39m \u001b[38;5;241m2\u001b[39m\u001b[38;5;241m*\u001b[39ma8\u001b[38;5;241m*\u001b[39mb7\u001b[38;5;241m*\u001b[39mc1 \u001b[38;5;241m+\u001b[39m \u001b[38;5;241m2\u001b[39m\u001b[38;5;241m*\u001b[39mx1\u001b[38;5;241m*\u001b[39my7\u001b[38;5;241m*\u001b[39mz8 \u001b[38;5;241m+\u001b[39m \u001b[38;5;241m2\u001b[39m\u001b[38;5;241m*\u001b[39mx1\u001b[38;5;241m*\u001b[39my8\u001b[38;5;241m*\u001b[39mz7 \u001b[38;5;241m+\u001b[39m \u001b[38;5;241m2\u001b[39m\u001b[38;5;241m*\u001b[39mx7\u001b[38;5;241m*\u001b[39my1\u001b[38;5;241m*\u001b[39mz8 \u001b[38;5;241m+\u001b[39m \u001b[38;5;241m2\u001b[39m\u001b[38;5;241m*\u001b[39mx7\u001b[38;5;241m*\u001b[39my8\u001b[38;5;241m*\u001b[39mz1 \u001b[38;5;241m+\u001b[39m \u001b[38;5;241m2\u001b[39m\u001b[38;5;241m*\u001b[39mx8\u001b[38;5;241m*\u001b[39my1\u001b[38;5;241m*\u001b[39mz7 \u001b[38;5;241m+\u001b[39m \u001b[38;5;241m2\u001b[39m\u001b[38;5;241m*\u001b[39mx8\u001b[38;5;241m*\u001b[39my7\u001b[38;5;241m*\u001b[39mz1 \u001b[38;5;241m+\u001b[39m \u001b[38;5;241m2\u001b[39m, \u001b[38;5;241m0.249995880728\u001b[39m\u001b[38;5;241m*\u001b[39ma7 \u001b[38;5;241m-\u001b[39m \u001b[38;5;241m0.249995880728\u001b[39m\u001b[38;5;241m*\u001b[39ma8 \u001b[38;5;241m-\u001b[39m \u001b[38;5;241m0.73908507152\u001b[39m\u001b[38;5;241m*\u001b[39mb7 \u001b[38;5;241m+\u001b[39m \u001b[38;5;241m0.73908507152\u001b[39m\u001b[38;5;241m*\u001b[39mb8 \u001b[38;5;241m-\u001b[39m \u001b[38;5;241m0.74831128966\u001b[39m\u001b[38;5;241m*\u001b[39mc7 \u001b[38;5;241m+\u001b[39m \u001b[38;5;241m0.74831128966\u001b[39m\u001b[38;5;241m*\u001b[39mc8 \u001b[38;5;241m+\u001b[39m \u001b[38;5;241m0.515806426894\u001b[39m\u001b[38;5;241m*\u001b[39mx7 \u001b[38;5;241m-\u001b[39m \u001b[38;5;241m0.515806426894\u001b[39m\u001b[38;5;241m*\u001b[39mx8 \u001b[38;5;241m-\u001b[39m \u001b[38;5;241m0.499991761456\u001b[39m\u001b[38;5;241m*\u001b[39my7 \u001b[38;5;241m+\u001b[39m \u001b[38;5;241m0.499991761456\u001b[39m\u001b[38;5;241m*\u001b[39my8 \u001b[38;5;241m+\u001b[39m \u001b[38;5;241m0.509446850768\u001b[39m\u001b[38;5;241m*\u001b[39mz7 \u001b[38;5;241m-\u001b[39m \u001b[38;5;241m0.509446850768\u001b[39m\u001b[38;5;241m*\u001b[39mz8, \u001b[38;5;241m0.252073712638\u001b[39m\u001b[38;5;241m*\u001b[39ma7 \u001b[38;5;241m+\u001b[39m \u001b[38;5;241m0.252073712638\u001b[39m\u001b[38;5;241m*\u001b[39ma8 \u001b[38;5;241m+\u001b[39m \u001b[38;5;241m0.000328902745216\u001b[39m\u001b[38;5;241m*\u001b[39mb7 \u001b[38;5;241m+\u001b[39m \u001b[38;5;241m0.000328902745216\u001b[39m\u001b[38;5;241m*\u001b[39mb8 \u001b[38;5;241m+\u001b[39m \u001b[38;5;241m0.74215353646\u001b[39m\u001b[38;5;241m*\u001b[39mc7 \u001b[38;5;241m+\u001b[39m \u001b[38;5;241m0.74215353646\u001b[39m\u001b[38;5;241m*\u001b[39mc8 \u001b[38;5;241m-\u001b[39m \u001b[38;5;241m0.511561925014\u001b[39m\u001b[38;5;241m*\u001b[39mx7 \u001b[38;5;241m-\u001b[39m \u001b[38;5;241m0.511561925014\u001b[39m\u001b[38;5;241m*\u001b[39mx8 \u001b[38;5;241m-\u001b[39m \u001b[38;5;241m0.504147425276\u001b[39m\u001b[38;5;241m*\u001b[39my7 \u001b[38;5;241m-\u001b[39m \u001b[38;5;241m0.504147425276\u001b[39m\u001b[38;5;241m*\u001b[39my8 \u001b[38;5;241m+\u001b[39m \u001b[38;5;241m0.000762297444976\u001b[39m\u001b[38;5;241m*\u001b[39mz7 \u001b[38;5;241m+\u001b[39m \u001b[38;5;241m0.000762297444976\u001b[39m\u001b[38;5;241m*\u001b[39mz8, \u001b[38;5;241m0.00529171967456\u001b[39m\u001b[38;5;241m*\u001b[39ma7 \u001b[38;5;241m-\u001b[39m \u001b[38;5;241m0.0033096390888\u001b[39m\u001b[38;5;241m*\u001b[39ma8 \u001b[38;5;241m-\u001b[39m \u001b[38;5;241m100.559456288\u001b[39m\u001b[38;5;241m*\u001b[39mb7 \u001b[38;5;241m-\u001b[39m \u001b[38;5;241m60795.6081152\u001b[39m\u001b[38;5;241m*\u001b[39mb8 \u001b[38;5;241m+\u001b[39m \u001b[38;5;241m0.0157092018508\u001b[39m\u001b[38;5;241m*\u001b[39mc7 \u001b[38;5;241m+\u001b[39m \u001b[38;5;241m0.0098142984444\u001b[39m\u001b[38;5;241m*\u001b[39mc8 \u001b[38;5;241m+\u001b[39m \u001b[38;5;241m0.00541412871086\u001b[39m\u001b[38;5;241m*\u001b[39mx7 \u001b[38;5;241m+\u001b[39m \u001b[38;5;241m0.00338246815398\u001b[39m\u001b[38;5;241m*\u001b[39mx8 \u001b[38;5;241m+\u001b[39m \u001b[38;5;241m0.00529169955028\u001b[39m\u001b[38;5;241m*\u001b[39my7 \u001b[38;5;241m-\u001b[39m \u001b[38;5;241m0.0033096390888\u001b[39m\u001b[38;5;241m*\u001b[39my8 \u001b[38;5;241m-\u001b[39m \u001b[38;5;241m50.2815169984\u001b[39m\u001b[38;5;241m*\u001b[39mz7 \u001b[38;5;241m-\u001b[39m \u001b[38;5;241m30397.8040576\u001b[39m\u001b[38;5;241m*\u001b[39mz8 \u001b[38;5;241m+\u001b[39m \u001b[38;5;241m3.0\u001b[39m, \u001b[38;5;241m0.0016548195444\u001b[39m\u001b[38;5;241m*\u001b[39ma7 \u001b[38;5;241m-\u001b[39m \u001b[38;5;241m0.00264585983728\u001b[39m\u001b[38;5;241m*\u001b[39ma8 \u001b[38;5;241m+\u001b[39m \u001b[38;5;241m30397.8040576\u001b[39m\u001b[38;5;241m*\u001b[39mb7 \u001b[38;5;241m+\u001b[39m \u001b[38;5;241m50.279728144\u001b[39m\u001b[38;5;241m*\u001b[39mb8 \u001b[38;5;241m-\u001b[39m \u001b[38;5;241m0.0049071492222\u001b[39m\u001b[38;5;241m*\u001b[39mc7 \u001b[38;5;241m-\u001b[39m \u001b[38;5;241m0.0078546009254\u001b[39m\u001b[38;5;241m*\u001b[39mc8 \u001b[38;5;241m+\u001b[39m \u001b[38;5;241m0.00338246815398\u001b[39m\u001b[38;5;241m*\u001b[39mx7 \u001b[38;5;241m+\u001b[39m \u001b[38;5;241m0.00541412871086\u001b[39m\u001b[38;5;241m*\u001b[39mx8 \u001b[38;5;241m-\u001b[39m \u001b[38;5;241m0.0033096390888\u001b[39m\u001b[38;5;241m*\u001b[39my7 \u001b[38;5;241m+\u001b[39m \u001b[38;5;241m0.00529169955028\u001b[39m\u001b[38;5;241m*\u001b[39my8 \u001b[38;5;241m-\u001b[39m \u001b[38;5;241m30397.8040576\u001b[39m\u001b[38;5;241m*\u001b[39mz7 \u001b[38;5;241m-\u001b[39m \u001b[38;5;241m50.2815169984\u001b[39m\u001b[38;5;241m*\u001b[39mz8, \u001b[38;5;241m0.247938698168\u001b[39m\u001b[38;5;241m*\u001b[39ma7 \u001b[38;5;241m+\u001b[39m \u001b[38;5;241m0.247938698168\u001b[39m\u001b[38;5;241m*\u001b[39ma8 \u001b[38;5;241m+\u001b[39m \u001b[38;5;241m0.74522795092\u001b[39m\u001b[38;5;241m*\u001b[39mb7 \u001b[38;5;241m+\u001b[39m \u001b[38;5;241m0.74522795092\u001b[39m\u001b[38;5;241m*\u001b[39mb8 \u001b[38;5;241m-\u001b[39m \u001b[38;5;241m0.000333008535728\u001b[39m\u001b[38;5;241m*\u001b[39mc7 \u001b[38;5;241m-\u001b[39m \u001b[38;5;241m0.000333008535728\u001b[39m\u001b[38;5;241m*\u001b[39mc8 \u001b[38;5;241m-\u001b[39m \u001b[38;5;241m0.000771813430058\u001b[39m\u001b[38;5;241m*\u001b[39mx7 \u001b[38;5;241m-\u001b[39m \u001b[38;5;241m0.000771813430058\u001b[39m\u001b[38;5;241m*\u001b[39mx8 \u001b[38;5;241m-\u001b[39m \u001b[38;5;241m0.495877396336\u001b[39m\u001b[38;5;241m*\u001b[39my7 \u001b[38;5;241m-\u001b[39m \u001b[38;5;241m0.495877396336\u001b[39m\u001b[38;5;241m*\u001b[39my8 \u001b[38;5;241m-\u001b[39m \u001b[38;5;241m0.513681100228\u001b[39m\u001b[38;5;241m*\u001b[39mz7 \u001b[38;5;241m-\u001b[39m \u001b[38;5;241m0.513681100228\u001b[39m\u001b[38;5;241m*\u001b[39mz8, \u001b[38;5;241m0.00524813110064\u001b[39m\u001b[38;5;241m*\u001b[39ma7 \u001b[38;5;241m+\u001b[39m \u001b[38;5;241m0.00327876141552\u001b[39m\u001b[38;5;241m*\u001b[39ma8 \u001b[38;5;241m+\u001b[39m \u001b[38;5;241m0.0156443818304\u001b[39m\u001b[38;5;241m*\u001b[39mb7 \u001b[38;5;241m-\u001b[39m \u001b[38;5;241m0.009784580592\u001b[39m\u001b[38;5;241m*\u001b[39mb8 \u001b[38;5;241m+\u001b[39m \u001b[38;5;241m101.814769804\u001b[39m\u001b[38;5;241m*\u001b[39mc7 \u001b[38;5;241m+\u001b[39m \u001b[38;5;241m61554.5377216\u001b[39m\u001b[38;5;241m*\u001b[39mc8 \u001b[38;5;241m+\u001b[39m \u001b[38;5;241m50.9091960872\u001b[39m\u001b[38;5;241m*\u001b[39mx7 \u001b[38;5;241m+\u001b[39m \u001b[38;5;241m30777.2688608\u001b[39m\u001b[38;5;241m*\u001b[39mx8 \u001b[38;5;241m+\u001b[39m \u001b[38;5;241m0.00524813110064\u001b[39m\u001b[38;5;241m*\u001b[39my7 \u001b[38;5;241m+\u001b[39m \u001b[38;5;241m0.00327876141552\u001b[39m\u001b[38;5;241m*\u001b[39my8 \u001b[38;5;241m+\u001b[39m \u001b[38;5;241m0.00539176818284\u001b[39m\u001b[38;5;241m*\u001b[39mz7 \u001b[38;5;241m-\u001b[39m \u001b[38;5;241m0.0033722259864\u001b[39m\u001b[38;5;241m*\u001b[39mz8 \u001b[38;5;241m+\u001b[39m \u001b[38;5;241m3.0\u001b[39m, \u001b[38;5;241m0.00163938070776\u001b[39m\u001b[38;5;241m*\u001b[39ma7 \u001b[38;5;241m+\u001b[39m \u001b[38;5;241m0.00262406555032\u001b[39m\u001b[38;5;241m*\u001b[39ma8 \u001b[38;5;241m-\u001b[39m \u001b[38;5;241m0.004892290296\u001b[39m\u001b[38;5;241m*\u001b[39mb7 \u001b[38;5;241m+\u001b[39m \u001b[38;5;241m0.0078221909152\u001b[39m\u001b[38;5;241m*\u001b[39mb8 \u001b[38;5;241m+\u001b[39m \u001b[38;5;241m30777.2688608\u001b[39m\u001b[38;5;241m*\u001b[39mc7 \u001b[38;5;241m+\u001b[39m \u001b[38;5;241m50.907384902\u001b[39m\u001b[38;5;241m*\u001b[39mc8 \u001b[38;5;241m-\u001b[39m \u001b[38;5;241m30777.2688608\u001b[39m\u001b[38;5;241m*\u001b[39mx7 \u001b[38;5;241m-\u001b[39m \u001b[38;5;241m50.9091960872\u001b[39m\u001b[38;5;241m*\u001b[39mx8 \u001b[38;5;241m-\u001b[39m \u001b[38;5;241m0.00327876141552\u001b[39m\u001b[38;5;241m*\u001b[39my7 \u001b[38;5;241m-\u001b[39m \u001b[38;5;241m0.00524813110064\u001b[39m\u001b[38;5;241m*\u001b[39my8 \u001b[38;5;241m+\u001b[39m \u001b[38;5;241m0.0033722259864\u001b[39m\u001b[38;5;241m*\u001b[39mz7 \u001b[38;5;241m-\u001b[39m \u001b[38;5;241m0.00539176818284\u001b[39m\u001b[38;5;241m*\u001b[39mz8, \u001b[38;5;241m0.496904\u001b[39m\u001b[38;5;241m*\u001b[39ma7\u001b[38;5;241m*\u001b[39mb7 \u001b[38;5;241m+\u001b[39m \u001b[38;5;241m0.503107\u001b[39m\u001b[38;5;241m*\u001b[39ma7\u001b[38;5;241m*\u001b[39mc7 \u001b[38;5;241m+\u001b[39m \u001b[38;5;241m0.496904\u001b[39m\u001b[38;5;241m*\u001b[39ma8\u001b[38;5;241m*\u001b[39mb8 \u001b[38;5;241m+\u001b[39m \u001b[38;5;241m0.503107\u001b[39m\u001b[38;5;241m*\u001b[39ma8\u001b[38;5;241m*\u001b[39mc8 \u001b[38;5;241m-\u001b[39m \u001b[38;5;241m1.48738\u001b[39m\u001b[38;5;241m*\u001b[39mb7\u001b[38;5;241m*\u001b[39mc7 \u001b[38;5;241m-\u001b[39m \u001b[38;5;241m1.48738\u001b[39m\u001b[38;5;241m*\u001b[39mb8\u001b[38;5;241m*\u001b[39mc8 \u001b[38;5;241m-\u001b[39m \u001b[38;5;241m1.006214\u001b[39m\u001b[38;5;241m*\u001b[39mx7\u001b[38;5;241m*\u001b[39my7 \u001b[38;5;241m+\u001b[39m \u001b[38;5;241m1.025242\u001b[39m\u001b[38;5;241m*\u001b[39mx7\u001b[38;5;241m*\u001b[39mz7 \u001b[38;5;241m-\u001b[39m \u001b[38;5;241m1.006214\u001b[39m\u001b[38;5;241m*\u001b[39mx8\u001b[38;5;241m*\u001b[39my8 \u001b[38;5;241m+\u001b[39m \u001b[38;5;241m1.025242\u001b[39m\u001b[38;5;241m*\u001b[39mx8\u001b[38;5;241m*\u001b[39mz8 \u001b[38;5;241m-\u001b[39m \u001b[38;5;241m0.993808\u001b[39m\u001b[38;5;241m*\u001b[39my7\u001b[38;5;241m*\u001b[39mz7 \u001b[38;5;241m-\u001b[39m \u001b[38;5;241m0.993808\u001b[39m\u001b[38;5;241m*\u001b[39my8\u001b[38;5;241m*\u001b[39mz8, \u001b[38;5;241m0.993808\u001b[39m\u001b[38;5;241m*\u001b[39ma7\u001b[38;5;241m*\u001b[39mb8 \u001b[38;5;241m+\u001b[39m \u001b[38;5;241m1.006214\u001b[39m\u001b[38;5;241m*\u001b[39ma7\u001b[38;5;241m*\u001b[39mc8 \u001b[38;5;241m+\u001b[39m \u001b[38;5;241m0.993808\u001b[39m\u001b[38;5;241m*\u001b[39ma8\u001b[38;5;241m*\u001b[39mb7 \u001b[38;5;241m+\u001b[39m \u001b[38;5;241m1.006214\u001b[39m\u001b[38;5;241m*\u001b[39ma8\u001b[38;5;241m*\u001b[39mc7 \u001b[38;5;241m-\u001b[39m \u001b[38;5;241m2.97476\u001b[39m\u001b[38;5;241m*\u001b[39mb7\u001b[38;5;241m*\u001b[39mc8 \u001b[38;5;241m-\u001b[39m \u001b[38;5;241m2.97476\u001b[39m\u001b[38;5;241m*\u001b[39mb8\u001b[38;5;241m*\u001b[39mc7 \u001b[38;5;241m+\u001b[39m \u001b[38;5;241m1.006214\u001b[39m\u001b[38;5;241m*\u001b[39mx7\u001b[38;5;241m*\u001b[39my8 \u001b[38;5;241m-\u001b[39m \u001b[38;5;241m1.025242\u001b[39m\u001b[38;5;241m*\u001b[39mx7\u001b[38;5;241m*\u001b[39mz8 \u001b[38;5;241m+\u001b[39m \u001b[38;5;241m1.006214\u001b[39m\u001b[38;5;241m*\u001b[39mx8\u001b[38;5;241m*\u001b[39my7 \u001b[38;5;241m-\u001b[39m \u001b[38;5;241m1.025242\u001b[39m\u001b[38;5;241m*\u001b[39mx8\u001b[38;5;241m*\u001b[39mz7 \u001b[38;5;241m+\u001b[39m \u001b[38;5;241m0.993808\u001b[39m\u001b[38;5;241m*\u001b[39my7\u001b[38;5;241m*\u001b[39mz8 \u001b[38;5;241m+\u001b[39m \u001b[38;5;241m0.993808\u001b[39m\u001b[38;5;241m*\u001b[39my8\u001b[38;5;241m*\u001b[39mz7 \u001b[38;5;241m+\u001b[39m \u001b[38;5;241m1\u001b[39m, \u001b[38;5;241m0.249999431878\u001b[39m\u001b[38;5;241m*\u001b[39ma7 \u001b[38;5;241m-\u001b[39m \u001b[38;5;241m0.249999431878\u001b[39m\u001b[38;5;241m*\u001b[39ma8 \u001b[38;5;241m-\u001b[39m \u001b[38;5;241m0.000331636408736\u001b[39m\u001b[38;5;241m*\u001b[39mb7 \u001b[38;5;241m+\u001b[39m \u001b[38;5;241m0.000331636408736\u001b[39m\u001b[38;5;241m*\u001b[39mb8 \u001b[38;5;241m+\u001b[39m \u001b[38;5;241m0.000330268253168\u001b[39m\u001b[38;5;241m*\u001b[39mc7 \u001b[38;5;241m-\u001b[39m \u001b[38;5;241m0.000330268253168\u001b[39m\u001b[38;5;241m*\u001b[39mc8 \u001b[38;5;241m+\u001b[39m \u001b[38;5;241m0.000765462280898\u001b[39m\u001b[38;5;241m*\u001b[39mx7 \u001b[38;5;241m-\u001b[39m \u001b[38;5;241m0.000765462280898\u001b[39m\u001b[38;5;241m*\u001b[39mx8 \u001b[38;5;241m-\u001b[39m \u001b[38;5;241m0.499998863756\u001b[39m\u001b[38;5;241m*\u001b[39my7 \u001b[38;5;241m+\u001b[39m \u001b[38;5;241m0.499998863756\u001b[39m\u001b[38;5;241m*\u001b[39my8 \u001b[38;5;241m-\u001b[39m \u001b[38;5;241m0.000768633253196\u001b[39m\u001b[38;5;241m*\u001b[39mz7 \u001b[38;5;241m+\u001b[39m \u001b[38;5;241m0.000768633253196\u001b[39m\u001b[38;5;241m*\u001b[39mz8, \u001b[38;5;241m0.00524817482336\u001b[39m\u001b[38;5;241m*\u001b[39ma7 \u001b[38;5;241m+\u001b[39m \u001b[38;5;241m0.0032824045128\u001b[39m\u001b[38;5;241m*\u001b[39ma8 \u001b[38;5;241m+\u001b[39m \u001b[38;5;241m101.395252648\u001b[39m\u001b[38;5;241m*\u001b[39mb7 \u001b[38;5;241m-\u001b[39m \u001b[38;5;241m61300.9086592\u001b[39m\u001b[38;5;241m*\u001b[39mb8 \u001b[38;5;241m+\u001b[39m \u001b[38;5;241m6.99080500064e-6\u001b[39m\u001b[38;5;241m*\u001b[39mc7 \u001b[38;5;241m-\u001b[39m \u001b[38;5;241m4.36749411552e-6\u001b[39m\u001b[38;5;241m*\u001b[39mc8 \u001b[38;5;241m-\u001b[39m \u001b[38;5;241m8.10128961802e-6\u001b[39m\u001b[38;5;241m*\u001b[39mx7 \u001b[38;5;241m+\u001b[39m \u001b[38;5;241m5.06126758386e-6\u001b[39m\u001b[38;5;241m*\u001b[39mx8 \u001b[38;5;241m+\u001b[39m \u001b[38;5;241m0.00524815486468\u001b[39m\u001b[38;5;241m*\u001b[39my7 \u001b[38;5;241m+\u001b[39m \u001b[38;5;241m0.0032824045128\u001b[39m\u001b[38;5;241m*\u001b[39my8 \u001b[38;5;241m+\u001b[39m \u001b[38;5;241m50.6994300464\u001b[39m\u001b[38;5;241m*\u001b[39mz7 \u001b[38;5;241m-\u001b[39m \u001b[38;5;241m30650.4543296\u001b[39m\u001b[38;5;241m*\u001b[39mz8 \u001b[38;5;241m+\u001b[39m \u001b[38;5;241m1.0\u001b[39m, \u001b[38;5;241m0.0016412022564\u001b[39m\u001b[38;5;241m*\u001b[39ma7 \u001b[38;5;241m+\u001b[39m \u001b[38;5;241m0.00262408741168\u001b[39m\u001b[38;5;241m*\u001b[39ma8 \u001b[38;5;241m-\u001b[39m \u001b[38;5;241m30650.4543296\u001b[39m\u001b[38;5;241m*\u001b[39mb7 \u001b[38;5;241m+\u001b[39m \u001b[38;5;241m50.697626324\u001b[39m\u001b[38;5;241m*\u001b[39mb8 \u001b[38;5;241m-\u001b[39m \u001b[38;5;241m2.18374705776e-6\u001b[39m\u001b[38;5;241m*\u001b[39mc7 \u001b[38;5;241m+\u001b[39m \u001b[38;5;241m3.49540250032e-6\u001b[39m\u001b[38;5;241m*\u001b[39mc8 \u001b[38;5;241m-\u001b[39m \u001b[38;5;241m5.06126758386e-6\u001b[39m\u001b[38;5;241m*\u001b[39mx7 \u001b[38;5;241m+\u001b[39m \u001b[38;5;241m8.10128961802e-6\u001b[39m\u001b[38;5;241m*\u001b[39mx8 \u001b[38;5;241m-\u001b[39m \u001b[38;5;241m0.0032824045128\u001b[39m\u001b[38;5;241m*\u001b[39my7 \u001b[38;5;241m-\u001b[39m \u001b[38;5;241m0.00524815486468\u001b[39m\u001b[38;5;241m*\u001b[39my8 \u001b[38;5;241m+\u001b[39m \u001b[38;5;241m30650.4543296\u001b[39m\u001b[38;5;241m*\u001b[39mz7 \u001b[38;5;241m-\u001b[39m \u001b[38;5;241m50.6994300464\u001b[39m\u001b[38;5;241m*\u001b[39mz8, \u001b[38;5;241m0.00529175075644\u001b[39m\u001b[38;5;241m*\u001b[39ma7 \u001b[38;5;241m-\u001b[39m \u001b[38;5;241m0.00330601272492\u001b[39m\u001b[38;5;241m*\u001b[39ma8 \u001b[38;5;241m-\u001b[39m \u001b[38;5;241m6.96195922432e-6\u001b[39m\u001b[38;5;241m*\u001b[39mb7 \u001b[38;5;241m-\u001b[39m \u001b[38;5;241m4.3542692736e-6\u001b[39m\u001b[38;5;241m*\u001b[39mb8 \u001b[38;5;241m-\u001b[39m \u001b[38;5;241m100.976949724\u001b[39m\u001b[38;5;241m*\u001b[39mc7 \u001b[38;5;241m+\u001b[39m \u001b[38;5;241m61048.0136896\u001b[39m\u001b[38;5;241m*\u001b[39mc8 \u001b[38;5;241m-\u001b[39m \u001b[38;5;241m50.4902711432\u001b[39m\u001b[38;5;241m*\u001b[39mx7 \u001b[38;5;241m+\u001b[39m \u001b[38;5;241m30524.0068448\u001b[39m\u001b[38;5;241m*\u001b[39mx8 \u001b[38;5;241m+\u001b[39m \u001b[38;5;241m0.00529175075644\u001b[39m\u001b[38;5;241m*\u001b[39my7 \u001b[38;5;241m-\u001b[39m \u001b[38;5;241m0.00330601272492\u001b[39m\u001b[38;5;241m*\u001b[39my8 \u001b[38;5;241m+\u001b[39m \u001b[38;5;241m8.06783102788e-6\u001b[39m\u001b[38;5;241m*\u001b[39mz7 \u001b[38;5;241m+\u001b[39m \u001b[38;5;241m5.0459419848e-6\u001b[39m\u001b[38;5;241m*\u001b[39mz8 \u001b[38;5;241m+\u001b[39m \u001b[38;5;241m1.0\u001b[39m, \u001b[38;5;241m0.00165300636246\u001b[39m\u001b[38;5;241m*\u001b[39ma7 \u001b[38;5;241m-\u001b[39m \u001b[38;5;241m0.00264587537822\u001b[39m\u001b[38;5;241m*\u001b[39ma8 \u001b[38;5;241m+\u001b[39m \u001b[38;5;241m2.1771346368e-6\u001b[39m\u001b[38;5;241m*\u001b[39mb7 \u001b[38;5;241m+\u001b[39m \u001b[38;5;241m3.48097961216e-6\u001b[39m\u001b[38;5;241m*\u001b[39mb8 \u001b[38;5;241m-\u001b[39m \u001b[38;5;241m30524.0068448\u001b[39m\u001b[38;5;241m*\u001b[39mc7 \u001b[38;5;241m+\u001b[39m \u001b[38;5;241m50.488474862\u001b[39m\u001b[38;5;241m*\u001b[39mc8 \u001b[38;5;241m+\u001b[39m \u001b[38;5;241m30524.0068448\u001b[39m\u001b[38;5;241m*\u001b[39mx7 \u001b[38;5;241m-\u001b[39m \u001b[38;5;241m50.4902711432\u001b[39m\u001b[38;5;241m*\u001b[39mx8 \u001b[38;5;241m-\u001b[39m \u001b[38;5;241m0.00330601272492\u001b[39m\u001b[38;5;241m*\u001b[39my7 \u001b[38;5;241m+\u001b[39m \u001b[38;5;241m0.00529175075644\u001b[39m\u001b[38;5;241m*\u001b[39my8 \u001b[38;5;241m+\u001b[39m \u001b[38;5;241m5.0459419848e-6\u001b[39m\u001b[38;5;241m*\u001b[39mz7 \u001b[38;5;241m+\u001b[39m \u001b[38;5;241m8.06783102788e-6\u001b[39m\u001b[38;5;241m*\u001b[39mz8, \u001b[38;5;241m0.501034\u001b[39m\u001b[38;5;241m*\u001b[39ma7\u001b[38;5;241m*\u001b[39mb7 \u001b[38;5;241m-\u001b[39m \u001b[38;5;241m0.498967\u001b[39m\u001b[38;5;241m*\u001b[39ma7\u001b[38;5;241m*\u001b[39mc7 \u001b[38;5;241m-\u001b[39m \u001b[38;5;241m0.501034\u001b[39m\u001b[38;5;241m*\u001b[39ma8\u001b[38;5;241m*\u001b[39mb8 \u001b[38;5;241m+\u001b[39m \u001b[38;5;241m0.498967\u001b[39m\u001b[38;5;241m*\u001b[39ma8\u001b[38;5;241m*\u001b[39mc8 \u001b[38;5;241m+\u001b[39m \u001b[38;5;241m0.000661904\u001b[39m\u001b[38;5;241m*\u001b[39mb7\u001b[38;5;241m*\u001b[39mc7 \u001b[38;5;241m-\u001b[39m \u001b[38;5;241m0.000661904\u001b[39m\u001b[38;5;241m*\u001b[39mb8\u001b[38;5;241m*\u001b[39mc8 \u001b[38;5;241m+\u001b[39m \u001b[38;5;241m0.997934\u001b[39m\u001b[38;5;241m*\u001b[39mx7\u001b[38;5;241m*\u001b[39my7 \u001b[38;5;241m+\u001b[39m \u001b[38;5;241m0.001534094\u001b[39m\u001b[38;5;241m*\u001b[39mx7\u001b[38;5;241m*\u001b[39mz7 \u001b[38;5;241m-\u001b[39m \u001b[38;5;241m0.997934\u001b[39m\u001b[38;5;241m*\u001b[39mx8\u001b[38;5;241m*\u001b[39my8 \u001b[38;5;241m-\u001b[39m \u001b[38;5;241m0.001534094\u001b[39m\u001b[38;5;241m*\u001b[39mx8\u001b[38;5;241m*\u001b[39mz8 \u001b[38;5;241m-\u001b[39m \u001b[38;5;241m1.002068\u001b[39m\u001b[38;5;241m*\u001b[39my7\u001b[38;5;241m*\u001b[39mz7 \u001b[38;5;241m+\u001b[39m \u001b[38;5;241m1.002068\u001b[39m\u001b[38;5;241m*\u001b[39my8\u001b[38;5;241m*\u001b[39mz8, \u001b[38;5;241m1.002068\u001b[39m\u001b[38;5;241m*\u001b[39ma7\u001b[38;5;241m*\u001b[39mb8 \u001b[38;5;241m+\u001b[39m \u001b[38;5;241m0.997934\u001b[39m\u001b[38;5;241m*\u001b[39ma7\u001b[38;5;241m*\u001b[39mc8 \u001b[38;5;241m-\u001b[39m \u001b[38;5;241m1.002068\u001b[39m\u001b[38;5;241m*\u001b[39ma8\u001b[38;5;241m*\u001b[39mb7 \u001b[38;5;241m-\u001b[39m \u001b[38;5;241m0.997934\u001b[39m\u001b[38;5;241m*\u001b[39ma8\u001b[38;5;241m*\u001b[39mc7 \u001b[38;5;241m+\u001b[39m \u001b[38;5;241m0.001323808\u001b[39m\u001b[38;5;241m*\u001b[39mb7\u001b[38;5;241m*\u001b[39mc8 \u001b[38;5;241m-\u001b[39m \u001b[38;5;241m0.001323808\u001b[39m\u001b[38;5;241m*\u001b[39mb8\u001b[38;5;241m*\u001b[39mc7 \u001b[38;5;241m-\u001b[39m \u001b[38;5;241m0.997934\u001b[39m\u001b[38;5;241m*\u001b[39mx7\u001b[38;5;241m*\u001b[39my8 \u001b[38;5;241m+\u001b[39m \u001b[38;5;241m0.001534094\u001b[39m\u001b[38;5;241m*\u001b[39mx7\u001b[38;5;241m*\u001b[39mz8 \u001b[38;5;241m+\u001b[39m \u001b[38;5;241m0.997934\u001b[39m\u001b[38;5;241m*\u001b[39mx8\u001b[38;5;241m*\u001b[39my7 \u001b[38;5;241m-\u001b[39m \u001b[38;5;241m0.001534094\u001b[39m\u001b[38;5;241m*\u001b[39mx8\u001b[38;5;241m*\u001b[39mz7 \u001b[38;5;241m+\u001b[39m \u001b[38;5;241m1.002068\u001b[39m\u001b[38;5;241m*\u001b[39my7\u001b[38;5;241m*\u001b[39mz8 \u001b[38;5;241m-\u001b[39m \u001b[38;5;241m1.002068\u001b[39m\u001b[38;5;241m*\u001b[39my8\u001b[38;5;241m*\u001b[39mz7 \u001b[38;5;241m-\u001b[39m \u001b[38;5;241m1\u001b[39m, \u001b[38;5;241m2.77720962032e-5\u001b[39m\u001b[38;5;241m*\u001b[39ma7 \u001b[38;5;241m+\u001b[39m \u001b[38;5;241m1.0851695748e-5\u001b[39m\u001b[38;5;241m*\u001b[39ma8 \u001b[38;5;241m+\u001b[39m \u001b[38;5;241m0.53214122144\u001b[39m\u001b[38;5;241m*\u001b[39mb7 \u001b[38;5;241m+\u001b[39m \u001b[38;5;241m201.21483648\u001b[39m\u001b[38;5;241m*\u001b[39mb8 \u001b[38;5;241m-\u001b[39m \u001b[38;5;241m0.53434606438\u001b[39m\u001b[38;5;241m*\u001b[39mc7 \u001b[38;5;241m+\u001b[39m \u001b[38;5;241m201.825968736\u001b[39m\u001b[38;5;241m*\u001b[39mc8 \u001b[38;5;241m+\u001b[39m \u001b[38;5;241m0.534365075368\u001b[39m\u001b[38;5;241m*\u001b[39mx7 \u001b[38;5;241m-\u001b[39m \u001b[38;5;241m201.825968736\u001b[39m\u001b[38;5;241m*\u001b[39mx8 \u001b[38;5;241m-\u001b[39m \u001b[38;5;241m5.55439811732e-5\u001b[39m\u001b[38;5;241m*\u001b[39my7 \u001b[38;5;241m-\u001b[39m \u001b[38;5;241m2.1703391496e-5\u001b[39m\u001b[38;5;241m*\u001b[39my8 \u001b[38;5;241m-\u001b[39m \u001b[38;5;241m0.532158130192\u001b[39m\u001b[38;5;241m*\u001b[39mz7 \u001b[38;5;241m-\u001b[39m \u001b[38;5;241m201.21483648\u001b[39m\u001b[38;5;241m*\u001b[39mz8, \u001b[38;5;241m2.1703391496e-5\u001b[39m\u001b[38;5;241m*\u001b[39ma7 \u001b[38;5;241m+\u001b[39m \u001b[38;5;241m5.55441924064e-5\u001b[39m\u001b[38;5;241m*\u001b[39ma8 \u001b[38;5;241m+\u001b[39m \u001b[38;5;241m402.42967296\u001b[39m\u001b[38;5;241m*\u001b[39mb7 \u001b[38;5;241m+\u001b[39m \u001b[38;5;241m1.06428244288\u001b[39m\u001b[38;5;241m*\u001b[39mb8 \u001b[38;5;241m+\u001b[39m \u001b[38;5;241m403.651937472\u001b[39m\u001b[38;5;241m*\u001b[39mc7 \u001b[38;5;241m-\u001b[39m \u001b[38;5;241m1.06869212876\u001b[39m\u001b[38;5;241m*\u001b[39mc8 \u001b[38;5;241m+\u001b[39m \u001b[38;5;241m201.825968736\u001b[39m\u001b[38;5;241m*\u001b[39mx7 \u001b[38;5;241m-\u001b[39m \u001b[38;5;241m0.534365075368\u001b[39m\u001b[38;5;241m*\u001b[39mx8 \u001b[38;5;241m+\u001b[39m \u001b[38;5;241m2.1703391496e-5\u001b[39m\u001b[38;5;241m*\u001b[39my7 \u001b[38;5;241m+\u001b[39m \u001b[38;5;241m5.55439811732e-5\u001b[39m\u001b[38;5;241m*\u001b[39my8 \u001b[38;5;241m+\u001b[39m \u001b[38;5;241m201.21483648\u001b[39m\u001b[38;5;241m*\u001b[39mz7 \u001b[38;5;241m+\u001b[39m \u001b[38;5;241m0.532158130192\u001b[39m\u001b[38;5;241m*\u001b[39mz8, \u001b[38;5;241m1.7369706036e-5\u001b[39m\u001b[38;5;241m*\u001b[39ma7 \u001b[38;5;241m+\u001b[39m \u001b[38;5;241m1.73505721776e-5\u001b[39m\u001b[38;5;241m*\u001b[39ma8 \u001b[38;5;241m-\u001b[39m \u001b[38;5;241m321.718616576\u001b[39m\u001b[38;5;241m*\u001b[39mb7 \u001b[38;5;241m-\u001b[39m \u001b[38;5;241m0.3328209912\u001b[39m\u001b[38;5;241m*\u001b[39mb8 \u001b[38;5;241m+\u001b[39m \u001b[38;5;241m0.33383183934\u001b[39m\u001b[38;5;241m*\u001b[39mc7 \u001b[38;5;241m-\u001b[39m \u001b[38;5;241m323.051606752\u001b[39m\u001b[38;5;241m*\u001b[39mc8 \u001b[38;5;241m-\u001b[39m \u001b[38;5;241m0.333843716424\u001b[39m\u001b[38;5;241m*\u001b[39mx7 \u001b[38;5;241m+\u001b[39m \u001b[38;5;241m323.051606752\u001b[39m\u001b[38;5;241m*\u001b[39mx8 \u001b[38;5;241m-\u001b[39m \u001b[38;5;241m3.4739412072e-5\u001b[39m\u001b[38;5;241m*\u001b[39my7 \u001b[38;5;241m-\u001b[39m \u001b[38;5;241m3.47010123876e-5\u001b[39m\u001b[38;5;241m*\u001b[39my8 \u001b[38;5;241m+\u001b[39m \u001b[38;5;241m321.717393088\u001b[39m\u001b[38;5;241m*\u001b[39mz7 \u001b[38;5;241m+\u001b[39m \u001b[38;5;241m0.33283283232\u001b[39m\u001b[38;5;241m*\u001b[39mz8, \u001b[38;5;241m1.73505721776e-5\u001b[39m\u001b[38;5;241m*\u001b[39ma7 \u001b[38;5;241m+\u001b[39m \u001b[38;5;241m1.7369706036e-5\u001b[39m\u001b[38;5;241m*\u001b[39ma8 \u001b[38;5;241m-\u001b[39m \u001b[38;5;241m0.3328209912\u001b[39m\u001b[38;5;241m*\u001b[39mb7 \u001b[38;5;241m-\u001b[39m \u001b[38;5;241m321.718616576\u001b[39m\u001b[38;5;241m*\u001b[39mb8 \u001b[38;5;241m-\u001b[39m \u001b[38;5;241m323.051606752\u001b[39m\u001b[38;5;241m*\u001b[39mc7 \u001b[38;5;241m+\u001b[39m \u001b[38;5;241m0.33383183934\u001b[39m\u001b[38;5;241m*\u001b[39mc8 \u001b[38;5;241m+\u001b[39m \u001b[38;5;241m323.051606752\u001b[39m\u001b[38;5;241m*\u001b[39mx7 \u001b[38;5;241m-\u001b[39m \u001b[38;5;241m0.333843716424\u001b[39m\u001b[38;5;241m*\u001b[39mx8 \u001b[38;5;241m-\u001b[39m \u001b[38;5;241m3.47010123876e-5\u001b[39m\u001b[38;5;241m*\u001b[39my7 \u001b[38;5;241m-\u001b[39m \u001b[38;5;241m3.4739412072e-5\u001b[39m\u001b[38;5;241m*\u001b[39my8 \u001b[38;5;241m+\u001b[39m \u001b[38;5;241m0.33283283232\u001b[39m\u001b[38;5;241m*\u001b[39mz7 \u001b[38;5;241m+\u001b[39m \u001b[38;5;241m321.717393088\u001b[39m\u001b[38;5;241m*\u001b[39mz8, \u001b[38;5;241m0.00525904\u001b[39m\u001b[38;5;241m*\u001b[39ma7\u001b[38;5;241m*\u001b[39mb7 \u001b[38;5;241m-\u001b[39m \u001b[38;5;241m0.00528083\u001b[39m\u001b[38;5;241m*\u001b[39ma7\u001b[38;5;241m*\u001b[39mc7 \u001b[38;5;241m+\u001b[39m \u001b[38;5;241m0.0032892\u001b[39m\u001b[38;5;241m*\u001b[39ma8\u001b[38;5;241m*\u001b[39mb8 \u001b[38;5;241m+\u001b[39m \u001b[38;5;241m0.00329919\u001b[39m\u001b[38;5;241m*\u001b[39ma8\u001b[38;5;241m*\u001b[39mc8 \u001b[38;5;241m-\u001b[39m \u001b[38;5;241m101.186\u001b[39m\u001b[38;5;241m*\u001b[39mb7\u001b[38;5;241m*\u001b[39mc7 \u001b[38;5;241m+\u001b[39m \u001b[38;5;241m61174.4\u001b[39m\u001b[38;5;241m*\u001b[39mb8\u001b[38;5;241m*\u001b[39mc8 \u001b[38;5;241m+\u001b[39m \u001b[38;5;241m0.01056166\u001b[39m\u001b[38;5;241m*\u001b[39mx7\u001b[38;5;241m*\u001b[39my7 \u001b[38;5;241m+\u001b[39m \u001b[38;5;241m101.1896\u001b[39m\u001b[38;5;241m*\u001b[39mx7\u001b[38;5;241m*\u001b[39mz7 \u001b[38;5;241m-\u001b[39m \u001b[38;5;241m0.00659838\u001b[39m\u001b[38;5;241m*\u001b[39mx8\u001b[38;5;241m*\u001b[39my8 \u001b[38;5;241m-\u001b[39m \u001b[38;5;241m61174.4\u001b[39m\u001b[38;5;241m*\u001b[39mx8\u001b[38;5;241m*\u001b[39mz8 \u001b[38;5;241m-\u001b[39m \u001b[38;5;241m0.01051804\u001b[39m\u001b[38;5;241m*\u001b[39my7\u001b[38;5;241m*\u001b[39mz7 \u001b[38;5;241m-\u001b[39m \u001b[38;5;241m0.0065784\u001b[39m\u001b[38;5;241m*\u001b[39my8\u001b[38;5;241m*\u001b[39mz8, \u001b[38;5;241m0.00525904\u001b[39m\u001b[38;5;241m*\u001b[39ma7\u001b[38;5;241m*\u001b[39mb8 \u001b[38;5;241m+\u001b[39m \u001b[38;5;241m0.00329919\u001b[39m\u001b[38;5;241m*\u001b[39ma7\u001b[38;5;241m*\u001b[39mc8 \u001b[38;5;241m+\u001b[39m \u001b[38;5;241m0.0032892\u001b[39m\u001b[38;5;241m*\u001b[39ma8\u001b[38;5;241m*\u001b[39mb7 \u001b[38;5;241m-\u001b[39m \u001b[38;5;241m0.00528083\u001b[39m\u001b[38;5;241m*\u001b[39ma8\u001b[38;5;241m*\u001b[39mc7 \u001b[38;5;241m-\u001b[39m \u001b[38;5;241m101.186\u001b[39m\u001b[38;5;241m*\u001b[39mb7\u001b[38;5;241m*\u001b[39mc8 \u001b[38;5;241m+\u001b[39m \u001b[38;5;241m61174.4\u001b[39m\u001b[38;5;241m*\u001b[39mb8\u001b[38;5;241m*\u001b[39mc7 \u001b[38;5;241m+\u001b[39m \u001b[38;5;241m0.01056166\u001b[39m\u001b[38;5;241m*\u001b[39mx7\u001b[38;5;241m*\u001b[39my8 \u001b[38;5;241m-\u001b[39m \u001b[38;5;241m61174.4\u001b[39m\u001b[38;5;241m*\u001b[39mx7\u001b[38;5;241m*\u001b[39mz8 \u001b[38;5;241m-\u001b[39m \u001b[38;5;241m0.00659838\u001b[39m\u001b[38;5;241m*\u001b[39mx8\u001b[38;5;241m*\u001b[39my7 \u001b[38;5;241m+\u001b[39m \u001b[38;5;241m101.1896\u001b[39m\u001b[38;5;241m*\u001b[39mx8\u001b[38;5;241m*\u001b[39mz7 \u001b[38;5;241m-\u001b[39m \u001b[38;5;241m0.01051804\u001b[39m\u001b[38;5;241m*\u001b[39my7\u001b[38;5;241m*\u001b[39mz8 \u001b[38;5;241m-\u001b[39m \u001b[38;5;241m0.0065784\u001b[39m\u001b[38;5;241m*\u001b[39my8\u001b[38;5;241m*\u001b[39mz7, \u001b[38;5;241m0.0032892\u001b[39m\u001b[38;5;241m*\u001b[39ma7\u001b[38;5;241m*\u001b[39mb8 \u001b[38;5;241m-\u001b[39m \u001b[38;5;241m0.00528083\u001b[39m\u001b[38;5;241m*\u001b[39ma7\u001b[38;5;241m*\u001b[39mc8 \u001b[38;5;241m+\u001b[39m \u001b[38;5;241m0.00525904\u001b[39m\u001b[38;5;241m*\u001b[39ma8\u001b[38;5;241m*\u001b[39mb7 \u001b[38;5;241m+\u001b[39m \u001b[38;5;241m0.00329919\u001b[39m\u001b[38;5;241m*\u001b[39ma8\u001b[38;5;241m*\u001b[39mc7 \u001b[38;5;241m+\u001b[39m \u001b[38;5;241m61174.4\u001b[39m\u001b[38;5;241m*\u001b[39mb7\u001b[38;5;241m*\u001b[39mc8 \u001b[38;5;241m-\u001b[39m \u001b[38;5;241m101.186\u001b[39m\u001b[38;5;241m*\u001b[39mb8\u001b[38;5;241m*\u001b[39mc7 \u001b[38;5;241m-\u001b[39m \u001b[38;5;241m0.00659838\u001b[39m\u001b[38;5;241m*\u001b[39mx7\u001b[38;5;241m*\u001b[39my8 \u001b[38;5;241m+\u001b[39m \u001b[38;5;241m101.1896\u001b[39m\u001b[38;5;241m*\u001b[39mx7\u001b[38;5;241m*\u001b[39mz8 \u001b[38;5;241m+\u001b[39m \u001b[38;5;241m0.01056166\u001b[39m\u001b[38;5;241m*\u001b[39mx8\u001b[38;5;241m*\u001b[39my7 \u001b[38;5;241m-\u001b[39m \u001b[38;5;241m61174.4\u001b[39m\u001b[38;5;241m*\u001b[39mx8\u001b[38;5;241m*\u001b[39mz7 \u001b[38;5;241m-\u001b[39m \u001b[38;5;241m0.0065784\u001b[39m\u001b[38;5;241m*\u001b[39my7\u001b[38;5;241m*\u001b[39mz8 \u001b[38;5;241m-\u001b[39m \u001b[38;5;241m0.01051804\u001b[39m\u001b[38;5;241m*\u001b[39my8\u001b[38;5;241m*\u001b[39mz7, \u001b[38;5;241m0.0065784\u001b[39m\u001b[38;5;241m*\u001b[39ma7\u001b[38;5;241m*\u001b[39mb7 \u001b[38;5;241m+\u001b[39m \u001b[38;5;241m0.00659838\u001b[39m\u001b[38;5;241m*\u001b[39ma7\u001b[38;5;241m*\u001b[39mc7 \u001b[38;5;241m+\u001b[39m \u001b[38;5;241m0.01051808\u001b[39m\u001b[38;5;241m*\u001b[39ma8\u001b[38;5;241m*\u001b[39mb8 \u001b[38;5;241m-\u001b[39m \u001b[38;5;241m0.01056166\u001b[39m\u001b[38;5;241m*\u001b[39ma8\u001b[38;5;241m*\u001b[39mc8 \u001b[38;5;241m+\u001b[39m \u001b[38;5;241m122348.8\u001b[39m\u001b[38;5;241m*\u001b[39mb7\u001b[38;5;241m*\u001b[39mc7 \u001b[38;5;241m-\u001b[39m \u001b[38;5;241m202.372\u001b[39m\u001b[38;5;241m*\u001b[39mb8\u001b[38;5;241m*\u001b[39mc8 \u001b[38;5;241m+\u001b[39m \u001b[38;5;241m0.00659838\u001b[39m\u001b[38;5;241m*\u001b[39mx7\u001b[38;5;241m*\u001b[39my7 \u001b[38;5;241m+\u001b[39m \u001b[38;5;241m61174.4\u001b[39m\u001b[38;5;241m*\u001b[39mx7\u001b[38;5;241m*\u001b[39mz7 \u001b[38;5;241m-\u001b[39m \u001b[38;5;241m0.01056166\u001b[39m\u001b[38;5;241m*\u001b[39mx8\u001b[38;5;241m*\u001b[39my8 \u001b[38;5;241m-\u001b[39m \u001b[38;5;241m101.1896\u001b[39m\u001b[38;5;241m*\u001b[39mx8\u001b[38;5;241m*\u001b[39mz8 \u001b[38;5;241m+\u001b[39m \u001b[38;5;241m0.0065784\u001b[39m\u001b[38;5;241m*\u001b[39my7\u001b[38;5;241m*\u001b[39mz7 \u001b[38;5;241m+\u001b[39m \u001b[38;5;241m0.01051804\u001b[39m\u001b[38;5;241m*\u001b[39my8\u001b[38;5;241m*\u001b[39mz8 \u001b[38;5;241m+\u001b[39m \u001b[38;5;241m2\u001b[39m, \u001b[38;5;241m6\u001b[39m\u001b[38;5;241m*\u001b[39ma7\u001b[38;5;241m*\u001b[39mb7\u001b[38;5;241m*\u001b[39mc7 \u001b[38;5;241m-\u001b[39m \u001b[38;5;241m6\u001b[39m\u001b[38;5;241m*\u001b[39ma8\u001b[38;5;241m*\u001b[39mb8\u001b[38;5;241m*\u001b[39mc8 \u001b[38;5;241m+\u001b[39m \u001b[38;5;241m6\u001b[39m\u001b[38;5;241m*\u001b[39mx7\u001b[38;5;241m*\u001b[39my7\u001b[38;5;241m*\u001b[39mz7 \u001b[38;5;241m-\u001b[39m \u001b[38;5;241m6\u001b[39m\u001b[38;5;241m*\u001b[39mx8\u001b[38;5;241m*\u001b[39my8\u001b[38;5;241m*\u001b[39mz8, a7\u001b[38;5;241m*\u001b[39mb7\u001b[38;5;241m*\u001b[39mc8 \u001b[38;5;241m+\u001b[39m a7\u001b[38;5;241m*\u001b[39mb8\u001b[38;5;241m*\u001b[39mc7 \u001b[38;5;241m-\u001b[39m a7\u001b[38;5;241m*\u001b[39mb8\u001b[38;5;241m*\u001b[39mc8 \u001b[38;5;241m+\u001b[39m a8\u001b[38;5;241m*\u001b[39mb7\u001b[38;5;241m*\u001b[39mc7 \u001b[38;5;241m-\u001b[39m a8\u001b[38;5;241m*\u001b[39mb7\u001b[38;5;241m*\u001b[39mc8 \u001b[38;5;241m-\u001b[39m a8\u001b[38;5;241m*\u001b[39mb8\u001b[38;5;241m*\u001b[39mc7 \u001b[38;5;241m-\u001b[39m \u001b[38;5;241m2\u001b[39m\u001b[38;5;241m*\u001b[39mx7\u001b[38;5;241m*\u001b[39my7\u001b[38;5;241m*\u001b[39mz8 \u001b[38;5;241m-\u001b[39m \u001b[38;5;241m2\u001b[39m\u001b[38;5;241m*\u001b[39mx7\u001b[38;5;241m*\u001b[39my8\u001b[38;5;241m*\u001b[39mz7 \u001b[38;5;241m+\u001b[39m \u001b[38;5;241m2\u001b[39m\u001b[38;5;241m*\u001b[39mx7\u001b[38;5;241m*\u001b[39my8\u001b[38;5;241m*\u001b[39mz8 \u001b[38;5;241m-\u001b[39m \u001b[38;5;241m2\u001b[39m\u001b[38;5;241m*\u001b[39mx8\u001b[38;5;241m*\u001b[39my7\u001b[38;5;241m*\u001b[39mz7 \u001b[38;5;241m+\u001b[39m \u001b[38;5;241m2\u001b[39m\u001b[38;5;241m*\u001b[39mx8\u001b[38;5;241m*\u001b[39my7\u001b[38;5;241m*\u001b[39mz8 \u001b[38;5;241m+\u001b[39m \u001b[38;5;241m2\u001b[39m\u001b[38;5;241m*\u001b[39mx8\u001b[38;5;241m*\u001b[39my8\u001b[38;5;241m*\u001b[39mz7]\n",
      "\u001b[0;31mNameError\u001b[0m: name 'a1' is not defined"
     ]
    }
   ],
   "source": [
    "from scipy.optimize import root\n",
    "\n",
    "x0 = [0]*12\n",
    "\n",
    "solution = root(lam, x0, method='lm')"
   ]
  },
  {
   "cell_type": "code",
   "execution_count": 241,
   "id": "59a22556-5097-4862-a6a9-5cf6ab1eb620",
   "metadata": {},
   "outputs": [
    {
     "data": {
      "text/plain": [
       "13.05348216221358"
      ]
     },
     "execution_count": 241,
     "metadata": {},
     "output_type": "execute_result"
    }
   ],
   "source": [
    "sum([fun**2 for fun in solution.fun])**.5"
   ]
  },
  {
   "cell_type": "code",
   "execution_count": 194,
   "id": "c6a01529-084b-4a8a-a5f7-c8e2ab364899",
   "metadata": {},
   "outputs": [
    {
     "data": {
      "text/plain": [
       "'Both actual and predicted relative reductions in the sum of squares\\n  are at most 0.000001'"
      ]
     },
     "execution_count": 194,
     "metadata": {},
     "output_type": "execute_result"
    }
   ],
   "source": [
    "solution.message"
   ]
  },
  {
   "cell_type": "code",
   "execution_count": 195,
   "id": "36b0a6bb-3a77-47b1-8075-486fb085812f",
   "metadata": {},
   "outputs": [
    {
     "data": {
      "text/plain": [
       "array([ 1.58048882e-02,  1.27938456e-06,  4.20654815e-05, -4.28189917e-05,\n",
       "       -1.71843350e-04, -2.89048646e+00,  1.12683811e-04, -1.90488893e+00,\n",
       "        8.37708272e-05,  8.41689873e-05, -1.39220417e-01, -1.56120328e-04,\n",
       "        1.67757438e-04, -1.12048719e-04, -8.38959471e-05, -1.50149255e-01,\n",
       "        9.87285087e-02,  5.52245225e-05, -2.86214284e+00,  1.94207384e+00,\n",
       "       -8.19467719e-05,  1.57420742e-04, -5.45406014e-05, -3.55130691e-07,\n",
       "        1.28895332e-05, -7.96293770e-04,  1.67045079e+00,  9.95446259e-05,\n",
       "        8.09568564e-04,  1.67897699e+00, -1.01618883e-04,  5.50429919e-06,\n",
       "        9.99588516e-01, -1.29083156e-05,  7.33613881e-01, -4.30522280e-05,\n",
       "        7.16762684e-01,  4.29202399e-05, -1.67128652e-06, -9.99880184e-01,\n",
       "       -2.49373941e-06, -2.61631599e-02,  1.63783669e-04, -1.64275431e-04,\n",
       "       -8.65239820e-07, -1.08813043e-04, -1.09657676e-04, -1.97532935e-01,\n",
       "       -5.56672411e-03, -1.72435617e-07])"
      ]
     },
     "execution_count": 195,
     "metadata": {},
     "output_type": "execute_result"
    }
   ],
   "source": [
    "solution.fun"
   ]
  },
  {
   "cell_type": "code",
   "execution_count": 218,
   "id": "66ab7021-ac2a-45bc-9f57-bd75f58a6f1f",
   "metadata": {},
   "outputs": [
    {
     "data": {
      "text/plain": [
       "array([-3.40658010e-03, -6.07660737e-06, -1.62232981e+02, -2.03875851e+01,\n",
       "        4.00381765e-03, -3.89926229e-03, -4.06417581e+02, -2.08740888e+02,\n",
       "        3.38358834e-03,  8.44993133e-06, -3.59686266e-03,  4.43098014e-06])"
      ]
     },
     "execution_count": 218,
     "metadata": {},
     "output_type": "execute_result"
    }
   ],
   "source": [
    "solution.x[:12]"
   ]
  },
  {
   "cell_type": "markdown",
   "id": "fb14c9dc-9eb0-4266-a272-3503b37d7b32",
   "metadata": {},
   "source": [
    "### Check linear equations"
   ]
  },
  {
   "cell_type": "code",
   "execution_count": 11,
   "id": "45f18352-4e4c-4521-809c-04ad34e6119e",
   "metadata": {},
   "outputs": [
    {
     "data": {
      "text/plain": [
       "49"
      ]
     },
     "execution_count": 11,
     "metadata": {},
     "output_type": "execute_result"
    }
   ],
   "source": [
    "# отбираем линейные уравнения\n",
    "\n",
    "linear_equations = []\n",
    "for equation in certain_equations:\n",
    "    if equation.as_poly(vars).is_linear:\n",
    "        linear_equations.append(equation)\n",
    "\n",
    "len(linear_equations)"
   ]
  },
  {
   "cell_type": "code",
   "execution_count": 12,
   "id": "dbdf9eb4-302d-43b5-8ff2-5593be83e966",
   "metadata": {},
   "outputs": [
    {
     "data": {
      "text/latex": [
       "$\\displaystyle \\emptyset$"
      ],
      "text/plain": [
       "EmptySet"
      ]
     },
     "execution_count": 12,
     "metadata": {},
     "output_type": "execute_result"
    }
   ],
   "source": [
    "# решаем полученную систему уравнений\n",
    "\n",
    "from sympy import linsolve\n",
    "\n",
    "result = linsolve(linear_equations, vars)\n",
    "\n",
    "result"
   ]
  },
  {
   "cell_type": "code",
   "execution_count": 19,
   "id": "05d84681-32e9-414f-84b2-619c560d50f5",
   "metadata": {},
   "outputs": [
    {
     "data": {
      "text/latex": [
       "$\\displaystyle \\left[\\begin{array}{ccccccccccccc}-101.229561888 & 2.18411768484 \\cdot 10^{-5} & -100.929501456 & 2.18411768484 \\cdot 10^{-5} & -201.858342966 & -202.458461868 & 0.26634079711 & 1.38859689982 \\cdot 10^{-5} & -0.26524130321 & 1.38859689982 \\cdot 10^{-5} & -0.53045631132 & 0.53265519012 & 0\\\\0 & -1.38859689982 \\cdot 10^{-5} & 0.26524130321 & 6.9429844991 \\cdot 10^{-6} & -0.26522815566 & 0.26632759506 & 101.229561888 & -2.18411768484 \\cdot 10^{-5} & 100.929501456 & 1.09205884242 \\cdot 10^{-5} & -100.929171483 & -101.229230934 & 0\\\\0 & 0 & - 0.00659946 y_{1} & 0.00330954 c_{1} & 0.00329973 a_{1} & - 30587.1 b_{1} & - 100.871 z_{1} & 0.00528082 x_{1} & - 0.00525902 y_{1} & - 0.00264041 c_{1} & 0.00262951 a_{1} & 100.866 b_{1} & 0\\\\0 & 0 & 0 & - 0.00528082 c_{1} & 0.00525902 a_{1} & 201.732 b_{1} & - 30587.2 z_{1} & 0.00661908 x_{1} & 0.00659946 y_{1} & 0.00661908 c_{1} & 0.00659946 a_{1} & - 61174.2 b_{1} & 0\\\\0 & 0 & 0 & 0 & 0.33283056618 & 80.762484711 & 0.33383660934 & -1.74252801786 \\cdot 10^{-5} & -80.429348272 & 8.7126400893 \\cdot 10^{-6} & 80.429085321 & -0.33382006164 & 0\\\\0 & 0 & 0 & 0 & 0 & -0.33382006164 & -80.762748752 & -1.74049370508 \\cdot 10^{-5} & -0.33284706483 & 8.7024685254 \\cdot 10^{-6} & 0.33283056618 & 80.762484711 & 0\\\\0 & 0 & 0 & 0 & 0 & 0 & -50.748906197 & 0.00262406058128 & 0.00269588409142 & -0.00131203029064 & -0.0039110805838 & 50.746390662 & 0\\\\0 & 0 & 0 & 0 & 0 & 0 & 0 & -0.00328904732832 & 0.00338302178466 & -0.00328904732832 & 0.0098159048148 & 30777.1682394 & 3.0\\\\0 & 0 & 0 & 0 & 0 & 0 & 0 & 0 & -4.03391551394 \\cdot 10^{-6} & 0.00132293518394 & -1.74048318704 \\cdot 10^{-6} & 50.328805422 & 0\\\\0 & 0 & 0 & 0 & 0 & 0 & 0 & 0 & 0 & 0.00331638412872 & 4.36820897184 \\cdot 10^{-6} & 30523.9070514 & 1.0\\\\0 & 0 & 0 & 0 & 0 & 0 & 0 & 0 & 0 & 0 & 160.858696544 & 0.33277609854 & 0\\\\0 & 0 & 0 & 0 & 0 & 0 & 0 & 0 & 0 & 0 & 0 & -161.525275293 & 0\\\\0 & 0 & 0 & 0 & 0 & 0 & 0 & 0 & 0 & 0 & 0 & 0 & -3.0\\\\0 & 0 & 0 & 0 & 0 & 0 & 0 & 0 & 0 & 0 & 0 & 0 & 0\\\\0 & 0 & 0 & 0 & 0 & 0 & 0 & 0 & 0 & 0 & 0 & 0 & 0\\\\0 & 0 & 0 & 0 & 0 & 0 & 0 & 0 & 0 & 0 & 0 & 0 & 0\\\\0 & 0 & 0 & 0 & 0 & 0 & 0 & 0 & 0 & 0 & 0 & 0 & 0\\\\0 & 0 & 0 & 0 & 0 & 0 & 0 & 0 & 0 & 0 & 0 & 0 & 0\\\\0 & 0 & 0 & 0 & 0 & 0 & 0 & 0 & 0 & 0 & 0 & 0 & 0\\\\0 & 0 & 0 & 0 & 0 & 0 & 0 & 0 & 0 & 0 & 0 & 0 & 0\\\\0 & 0 & 0 & 0 & 0 & 0 & 0 & 0 & 0 & 0 & 0 & 0 & 0\\\\0 & 0 & 0 & 0 & 0 & 0 & 0 & 0 & 0 & 0 & 0 & 0 & 0\\\\0 & 0 & 0 & 0 & 0 & 0 & 0 & 0 & 0 & 0 & 0 & 0 & 0\\\\0 & 0 & 0 & 0 & 0 & 0 & 0 & 0 & 0 & 0 & 0 & 0 & 0\\\\0 & 0 & 0 & 0 & 0 & 0 & 0 & 0 & 0 & 0 & 0 & 0 & 0\\\\0 & 0 & 0 & 0 & 0 & 0 & 0 & 0 & 0 & 0 & 0 & 0 & 0\\\\0 & 0 & 0 & 0 & 0 & 0 & 0 & 0 & 0 & 0 & 0 & 0 & 0\\\\0 & 0 & 0 & 0 & 0 & 0 & 0 & 0 & 0 & 0 & 0 & 0 & 0\\\\0 & 0 & 0 & 0 & 0 & 0 & 0 & 0 & 0 & 0 & 0 & 0 & 0\\\\0 & 0 & 0 & 0 & 0 & 0 & 0 & 0 & 0 & 0 & 0 & 0 & 0\\\\0 & 0 & 0 & 0 & 0 & 0 & 0 & 0 & 0 & 0 & 0 & 0 & 0\\\\0 & 0 & 0 & 0 & 0 & 0 & 0 & 0 & 0 & 0 & 0 & 0 & 0\\\\0 & 0 & 0 & 0 & 0 & 0 & 0 & 0 & 0 & 0 & 0 & 0 & 0\\\\0 & 0 & 0 & 0 & 0 & 0 & 0 & 0 & 0 & 0 & 0 & 0 & 0\\\\0 & 0 & 0 & 0 & 0 & 0 & 0 & 0 & 0 & 0 & 0 & 0 & 0\\\\0 & 0 & 0 & 0 & 0 & 0 & 0 & 0 & 0 & 0 & 0 & 0 & 0\\\\0 & 0 & 0 & 0 & 0 & 0 & 0 & 0 & 0 & 0 & 0 & 0 & 0\\\\0 & 0 & 0 & 0 & 0 & 0 & 0 & 0 & 0 & 0 & 0 & 0 & 0\\\\0 & 0 & 0 & 0 & 0 & 0 & 0 & 0 & 0 & 0 & 0 & 0 & 0\\\\0 & 0 & 0 & 0 & 0 & 0 & 0 & 0 & 0 & 0 & 0 & 0 & 0\\\\0 & 0 & 0 & 0 & 0 & 0 & 0 & 0 & 0 & 0 & 0 & 0 & 0\\\\0 & 0 & 0 & 0 & 0 & 0 & 0 & 0 & 0 & 0 & 0 & 0 & 0\\\\0 & 0 & 0 & 0 & 0 & 0 & 0 & 0 & 0 & 0 & 0 & 0 & 0\\\\0 & 0 & 0 & 0 & 0 & 0 & 0 & 0 & 0 & 0 & 0 & 0 & 0\\\\0 & 0 & 0 & 0 & 0 & 0 & 0 & 0 & 0 & 0 & 0 & 0 & 0\\\\0 & 0 & 0 & 0 & 0 & 0 & 0 & 0 & 0 & 0 & 0 & 0 & 0\\\\0 & 0 & 0 & 0 & 0 & 0 & 0 & 0 & 0 & 0 & 0 & 0 & 0\\\\0 & 0 & 0 & 0 & 0 & 0 & 0 & 0 & 0 & 0 & 0 & 0 & 0\\\\0 & 0 & 0 & 0 & 0 & 0 & 0 & 0 & 0 & 0 & 0 & 0 & 0\\end{array}\\right]$"
      ],
      "text/plain": [
       "Matrix([\n",
       "[-101.229561888,  2.18411768484e-5, -100.929501456, 2.18411768484e-5, -201.858342966, -202.458461868, 0.26634079711,  1.38859689982e-5,    -0.26524130321,  1.38859689982e-5,    -0.53045631132,  0.53265519012,    0],\n",
       "[             0, -1.38859689982e-5,  0.26524130321,  6.9429844991e-6, -0.26522815566,  0.26632759506, 101.229561888, -2.18411768484e-5,     100.929501456,  1.09205884242e-5,    -100.929171483, -101.229230934,    0],\n",
       "[             0,                 0, -0.00659946*y1,    0.00330954*c1,  0.00329973*a1,    -30587.1*b1,   -100.871*z1,     0.00528082*x1,    -0.00525902*y1,    -0.00264041*c1,     0.00262951*a1,     100.866*b1,    0],\n",
       "[             0,                 0,              0,   -0.00528082*c1,  0.00525902*a1,     201.732*b1,   -30587.2*z1,     0.00661908*x1,     0.00659946*y1,     0.00661908*c1,     0.00659946*a1,    -61174.2*b1,    0],\n",
       "[             0,                 0,              0,                0,  0.33283056618,   80.762484711, 0.33383660934, -1.74252801786e-5,     -80.429348272,   8.7126400893e-6,      80.429085321, -0.33382006164,    0],\n",
       "[             0,                 0,              0,                0,              0, -0.33382006164, -80.762748752, -1.74049370508e-5,    -0.33284706483,   8.7024685254e-6,     0.33283056618,   80.762484711,    0],\n",
       "[             0,                 0,              0,                0,              0,              0, -50.748906197,  0.00262406058128,  0.00269588409142, -0.00131203029064,  -0.0039110805838,   50.746390662,    0],\n",
       "[             0,                 0,              0,                0,              0,              0,             0, -0.00328904732832,  0.00338302178466, -0.00328904732832,   0.0098159048148,  30777.1682394,  3.0],\n",
       "[             0,                 0,              0,                0,              0,              0,             0,                 0, -4.03391551394e-6,  0.00132293518394, -1.74048318704e-6,   50.328805422,    0],\n",
       "[             0,                 0,              0,                0,              0,              0,             0,                 0,                 0,  0.00331638412872,  4.36820897184e-6,  30523.9070514,  1.0],\n",
       "[             0,                 0,              0,                0,              0,              0,             0,                 0,                 0,                 0,     160.858696544,  0.33277609854,    0],\n",
       "[             0,                 0,              0,                0,              0,              0,             0,                 0,                 0,                 0,                 0, -161.525275293,    0],\n",
       "[             0,                 0,              0,                0,              0,              0,             0,                 0,                 0,                 0,                 0,              0, -3.0],\n",
       "[             0,                 0,              0,                0,              0,              0,             0,                 0,                 0,                 0,                 0,              0,    0],\n",
       "[             0,                 0,              0,                0,              0,              0,             0,                 0,                 0,                 0,                 0,              0,    0],\n",
       "[             0,                 0,              0,                0,              0,              0,             0,                 0,                 0,                 0,                 0,              0,    0],\n",
       "[             0,                 0,              0,                0,              0,              0,             0,                 0,                 0,                 0,                 0,              0,    0],\n",
       "[             0,                 0,              0,                0,              0,              0,             0,                 0,                 0,                 0,                 0,              0,    0],\n",
       "[             0,                 0,              0,                0,              0,              0,             0,                 0,                 0,                 0,                 0,              0,    0],\n",
       "[             0,                 0,              0,                0,              0,              0,             0,                 0,                 0,                 0,                 0,              0,    0],\n",
       "[             0,                 0,              0,                0,              0,              0,             0,                 0,                 0,                 0,                 0,              0,    0],\n",
       "[             0,                 0,              0,                0,              0,              0,             0,                 0,                 0,                 0,                 0,              0,    0],\n",
       "[             0,                 0,              0,                0,              0,              0,             0,                 0,                 0,                 0,                 0,              0,    0],\n",
       "[             0,                 0,              0,                0,              0,              0,             0,                 0,                 0,                 0,                 0,              0,    0],\n",
       "[             0,                 0,              0,                0,              0,              0,             0,                 0,                 0,                 0,                 0,              0,    0],\n",
       "[             0,                 0,              0,                0,              0,              0,             0,                 0,                 0,                 0,                 0,              0,    0],\n",
       "[             0,                 0,              0,                0,              0,              0,             0,                 0,                 0,                 0,                 0,              0,    0],\n",
       "[             0,                 0,              0,                0,              0,              0,             0,                 0,                 0,                 0,                 0,              0,    0],\n",
       "[             0,                 0,              0,                0,              0,              0,             0,                 0,                 0,                 0,                 0,              0,    0],\n",
       "[             0,                 0,              0,                0,              0,              0,             0,                 0,                 0,                 0,                 0,              0,    0],\n",
       "[             0,                 0,              0,                0,              0,              0,             0,                 0,                 0,                 0,                 0,              0,    0],\n",
       "[             0,                 0,              0,                0,              0,              0,             0,                 0,                 0,                 0,                 0,              0,    0],\n",
       "[             0,                 0,              0,                0,              0,              0,             0,                 0,                 0,                 0,                 0,              0,    0],\n",
       "[             0,                 0,              0,                0,              0,              0,             0,                 0,                 0,                 0,                 0,              0,    0],\n",
       "[             0,                 0,              0,                0,              0,              0,             0,                 0,                 0,                 0,                 0,              0,    0],\n",
       "[             0,                 0,              0,                0,              0,              0,             0,                 0,                 0,                 0,                 0,              0,    0],\n",
       "[             0,                 0,              0,                0,              0,              0,             0,                 0,                 0,                 0,                 0,              0,    0],\n",
       "[             0,                 0,              0,                0,              0,              0,             0,                 0,                 0,                 0,                 0,              0,    0],\n",
       "[             0,                 0,              0,                0,              0,              0,             0,                 0,                 0,                 0,                 0,              0,    0],\n",
       "[             0,                 0,              0,                0,              0,              0,             0,                 0,                 0,                 0,                 0,              0,    0],\n",
       "[             0,                 0,              0,                0,              0,              0,             0,                 0,                 0,                 0,                 0,              0,    0],\n",
       "[             0,                 0,              0,                0,              0,              0,             0,                 0,                 0,                 0,                 0,              0,    0],\n",
       "[             0,                 0,              0,                0,              0,              0,             0,                 0,                 0,                 0,                 0,              0,    0],\n",
       "[             0,                 0,              0,                0,              0,              0,             0,                 0,                 0,                 0,                 0,              0,    0],\n",
       "[             0,                 0,              0,                0,              0,              0,             0,                 0,                 0,                 0,                 0,              0,    0],\n",
       "[             0,                 0,              0,                0,              0,              0,             0,                 0,                 0,                 0,                 0,              0,    0],\n",
       "[             0,                 0,              0,                0,              0,              0,             0,                 0,                 0,                 0,                 0,              0,    0],\n",
       "[             0,                 0,              0,                0,              0,              0,             0,                 0,                 0,                 0,                 0,              0,    0],\n",
       "[             0,                 0,              0,                0,              0,              0,             0,                 0,                 0,                 0,                 0,              0,    0]])"
      ]
     },
     "execution_count": 19,
     "metadata": {},
     "output_type": "execute_result"
    }
   ],
   "source": [
    "from sympy import linear_eq_to_matrix\n",
    "\n",
    "M, b = linear_eq_to_matrix(linear_equations, vars)\n",
    "\n",
    "M.col_insert(12, b).upper_triangular()"
   ]
  },
  {
   "cell_type": "code",
   "execution_count": 20,
   "id": "d7848c83-9332-4ef7-bdf7-44543503dc32",
   "metadata": {},
   "outputs": [
    {
     "ename": "ValueError",
     "evalue": "Linear system has no solution",
     "output_type": "error",
     "traceback": [
      "\u001b[0;31m---------------------------------------------------------------------------\u001b[0m",
      "\u001b[0;31mValueError\u001b[0m                                Traceback (most recent call last)",
      "Cell \u001b[0;32mIn[20], line 3\u001b[0m\n\u001b[1;32m      1\u001b[0m \u001b[38;5;66;03m# ещё раз убеждаемся, что система не имеет решения\u001b[39;00m\n\u001b[0;32m----> 3\u001b[0m \u001b[43mM\u001b[49m\u001b[38;5;241;43m.\u001b[39;49m\u001b[43mgauss_jordan_solve\u001b[49m\u001b[43m(\u001b[49m\u001b[43mb\u001b[49m\u001b[43m)\u001b[49m\n",
      "File \u001b[0;32m~/.local/lib/python3.11/site-packages/sympy/matrices/matrices.py:2138\u001b[0m, in \u001b[0;36mMatrixBase.gauss_jordan_solve\u001b[0;34m(self, B, freevar)\u001b[0m\n\u001b[1;32m   2137\u001b[0m \u001b[38;5;28;01mdef\u001b[39;00m \u001b[38;5;21mgauss_jordan_solve\u001b[39m(\u001b[38;5;28mself\u001b[39m, B, freevar\u001b[38;5;241m=\u001b[39m\u001b[38;5;28;01mFalse\u001b[39;00m):\n\u001b[0;32m-> 2138\u001b[0m     \u001b[38;5;28;01mreturn\u001b[39;00m \u001b[43m_gauss_jordan_solve\u001b[49m\u001b[43m(\u001b[49m\u001b[38;5;28;43mself\u001b[39;49m\u001b[43m,\u001b[49m\u001b[43m \u001b[49m\u001b[43mB\u001b[49m\u001b[43m,\u001b[49m\u001b[43m \u001b[49m\u001b[43mfreevar\u001b[49m\u001b[38;5;241;43m=\u001b[39;49m\u001b[43mfreevar\u001b[49m\u001b[43m)\u001b[49m\n",
      "File \u001b[0;32m~/.local/lib/python3.11/site-packages/sympy/matrices/solvers.py:580\u001b[0m, in \u001b[0;36m_gauss_jordan_solve\u001b[0;34m(M, B, freevar)\u001b[0m\n\u001b[1;32m    577\u001b[0m \u001b[38;5;66;03m# check for existence of solutions\u001b[39;00m\n\u001b[1;32m    578\u001b[0m \u001b[38;5;66;03m# rank of aug Matrix should be equal to rank of coefficient matrix\u001b[39;00m\n\u001b[1;32m    579\u001b[0m \u001b[38;5;28;01mif\u001b[39;00m \u001b[38;5;129;01mnot\u001b[39;00m v[rank:, :]\u001b[38;5;241m.\u001b[39mis_zero_matrix:\n\u001b[0;32m--> 580\u001b[0m     \u001b[38;5;28;01mraise\u001b[39;00m \u001b[38;5;167;01mValueError\u001b[39;00m(\u001b[38;5;124m\"\u001b[39m\u001b[38;5;124mLinear system has no solution\u001b[39m\u001b[38;5;124m\"\u001b[39m)\n\u001b[1;32m    582\u001b[0m \u001b[38;5;66;03m# Free parameters\u001b[39;00m\n\u001b[1;32m    583\u001b[0m \u001b[38;5;66;03m# what are current unnumbered free symbol names?\u001b[39;00m\n\u001b[1;32m    584\u001b[0m name \u001b[38;5;241m=\u001b[39m uniquely_named_symbol(\u001b[38;5;124m'\u001b[39m\u001b[38;5;124mtau\u001b[39m\u001b[38;5;124m'\u001b[39m, aug,\n\u001b[1;32m    585\u001b[0m         compare\u001b[38;5;241m=\u001b[39m\u001b[38;5;28;01mlambda\u001b[39;00m i: \u001b[38;5;28mstr\u001b[39m(i)\u001b[38;5;241m.\u001b[39mrstrip(\u001b[38;5;124m'\u001b[39m\u001b[38;5;124m1234567890\u001b[39m\u001b[38;5;124m'\u001b[39m),\n\u001b[1;32m    586\u001b[0m         modify\u001b[38;5;241m=\u001b[39m\u001b[38;5;28;01mlambda\u001b[39;00m s: \u001b[38;5;124m'\u001b[39m\u001b[38;5;124m_\u001b[39m\u001b[38;5;124m'\u001b[39m \u001b[38;5;241m+\u001b[39m s)\u001b[38;5;241m.\u001b[39mname\n",
      "\u001b[0;31mValueError\u001b[0m: Linear system has no solution"
     ]
    }
   ],
   "source": [
    "# ещё раз убеждаемся, что система не имеет решения\n",
    "\n",
    "M.gauss_jordan_solve(b)"
   ]
  }
 ],
 "metadata": {
  "kernelspec": {
   "display_name": "Python 3 (ipykernel)",
   "language": "python",
   "name": "python3"
  },
  "language_info": {
   "codemirror_mode": {
    "name": "ipython",
    "version": 3
   },
   "file_extension": ".py",
   "mimetype": "text/x-python",
   "name": "python",
   "nbconvert_exporter": "python",
   "pygments_lexer": "ipython3",
   "version": "3.11.5"
  },
  "varInspector": {
   "cols": {
    "lenName": 16,
    "lenType": 16,
    "lenVar": 40
   },
   "kernels_config": {
    "python": {
     "delete_cmd_postfix": "",
     "delete_cmd_prefix": "del ",
     "library": "var_list.py",
     "varRefreshCmd": "print(var_dic_list())"
    },
    "r": {
     "delete_cmd_postfix": ") ",
     "delete_cmd_prefix": "rm(",
     "library": "var_list.r",
     "varRefreshCmd": "cat(var_dic_list()) "
    }
   },
   "types_to_exclude": [
    "module",
    "function",
    "builtin_function_or_method",
    "instance",
    "_Feature"
   ],
   "window_display": false
  }
 },
 "nbformat": 4,
 "nbformat_minor": 5
}
