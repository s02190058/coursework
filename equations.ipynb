{
 "cells": [
  {
   "cell_type": "code",
   "execution_count": 3,
   "id": "5eaf553a",
   "metadata": {
    "scrolled": true
   },
   "outputs": [
    {
     "name": "stdout",
     "output_type": "stream",
     "text": [
      "Requirement already satisfied: pip in ./.venv/lib/python3.11/site-packages (23.3.2)\n",
      "Requirement already satisfied: sympy in ./.venv/lib/python3.11/site-packages (1.12)\n",
      "Requirement already satisfied: mpmath>=0.19 in ./.venv/lib/python3.11/site-packages (from sympy) (1.3.0)\n",
      "Requirement already satisfied: numpy in ./.venv/lib/python3.11/site-packages (1.26.1)\n",
      "Requirement already satisfied: scipy in ./.venv/lib/python3.11/site-packages (1.11.3)\n",
      "Requirement already satisfied: numpy<1.28.0,>=1.21.6 in ./.venv/lib/python3.11/site-packages (from scipy) (1.26.1)\n",
      "Requirement already satisfied: tqdm in ./.venv/lib/python3.11/site-packages (4.66.1)\n",
      "Requirement already satisfied: matplotlib in ./.venv/lib/python3.11/site-packages (3.8.2)\n",
      "Requirement already satisfied: contourpy>=1.0.1 in ./.venv/lib/python3.11/site-packages (from matplotlib) (1.2.0)\n",
      "Requirement already satisfied: cycler>=0.10 in ./.venv/lib/python3.11/site-packages (from matplotlib) (0.12.1)\n",
      "Requirement already satisfied: fonttools>=4.22.0 in ./.venv/lib/python3.11/site-packages (from matplotlib) (4.47.0)\n",
      "Requirement already satisfied: kiwisolver>=1.3.1 in ./.venv/lib/python3.11/site-packages (from matplotlib) (1.4.5)\n",
      "Requirement already satisfied: numpy<2,>=1.21 in ./.venv/lib/python3.11/site-packages (from matplotlib) (1.26.1)\n",
      "Requirement already satisfied: packaging>=20.0 in ./.venv/lib/python3.11/site-packages (from matplotlib) (23.2)\n",
      "Requirement already satisfied: pillow>=8 in ./.venv/lib/python3.11/site-packages (from matplotlib) (10.1.0)\n",
      "Requirement already satisfied: pyparsing>=2.3.1 in ./.venv/lib/python3.11/site-packages (from matplotlib) (3.1.1)\n",
      "Requirement already satisfied: python-dateutil>=2.7 in ./.venv/lib/python3.11/site-packages (from matplotlib) (2.8.2)\n",
      "Requirement already satisfied: six>=1.5 in ./.venv/lib/python3.11/site-packages (from python-dateutil>=2.7->matplotlib) (1.16.0)\n"
     ]
    }
   ],
   "source": [
    "# загружаем зависимости\n",
    "!pip install --upgrade pip\n",
    "!pip install sympy\n",
    "!pip install numpy\n",
    "!pip install scipy\n",
    "!pip install tqdm\n",
    "!pip install matplotlib"
   ]
  },
  {
   "cell_type": "code",
   "execution_count": 2,
   "id": "60a7ba21",
   "metadata": {},
   "outputs": [],
   "source": [
    "# библиотека для символьных вычислений\n",
    "import numpy as np\n",
    "import scipy as sp\n",
    "from sympy import Rational, sqrt, I, symbols, simplify, Eq, latex\n",
    "from itertools import product"
   ]
  },
  {
   "cell_type": "code",
   "execution_count": 17,
   "id": "404b226e",
   "metadata": {},
   "outputs": [],
   "source": [
    "# задаём константы\n",
    "\n",
    "eps = -Rational(1, 2) + sqrt(3)/2*I\n",
    "\n",
    "# t_{ij}^{(m)} <=> t[m][i][j]\n",
    "t = np.array([\n",
    "    [\n",
    "        [eps, 0, 0],\n",
    "        [0, 1, 0],\n",
    "        [0, 0, eps**2],\n",
    "    ],\n",
    "    [\n",
    "        [1, 0, 0],\n",
    "        [0, 1, 0],\n",
    "        [0, 0, 1],\n",
    "    ],\n",
    "    [\n",
    "        [eps**2, 0, 0],\n",
    "        [0, 1, 0],\n",
    "        [0, 0, eps],\n",
    "    ],\n",
    "    [\n",
    "        [0, 1, 1],\n",
    "        [1, 0, 1],\n",
    "        [1, 1, 0],\n",
    "    ],\n",
    "    [\n",
    "        [0, -1, 1],\n",
    "        [1, 0, -1],\n",
    "        [-1, 1, 0],\n",
    "    ],\n",
    "    [\n",
    "        [0, eps, 1],\n",
    "        [eps, 0, eps**2],\n",
    "        [1, eps**2, 0],\n",
    "    ],\n",
    "    [\n",
    "        [0, eps**2, 1],\n",
    "        [eps**2, 0, eps],\n",
    "        [1, eps, 0],\n",
    "    ],\n",
    "    [\n",
    "        [0, -eps**2, 1],\n",
    "        [eps**2, 0, -eps],\n",
    "        [-1, eps, 0],\n",
    "    ],\n",
    "    [\n",
    "        [0, -eps, 1],\n",
    "        [eps, 0, -eps**2],\n",
    "        [-1, eps**2, 0],\n",
    "    ],\n",
    "])\n",
    "\n",
    "t[4] *= I / sqrt(3)\n",
    "t[7] *= I / sqrt(3)\n",
    "t[8] *= I / sqrt(3)\n",
    "\n",
    "# h_{d,m}\n",
    "h = np.array([\n",
    "    [1, 1, 1, 1, 1, 1, 1, 1, 1],  # phi1\n",
    "    [1, 1, 1, 1, -1, 1, 1, -1, -1],  # phi2\n",
    "    [eps, 1, eps**2, 1, -1, eps**2, eps, -eps, -eps**2],  # phi3\n",
    "    [eps**2, 1, eps, 1, -1, eps, eps**2, -eps**2, -eps],  # phi4\n",
    "    [eps**2, 1, eps, 1, 1, eps, eps**2, eps**2, eps],  # phi5\n",
    "    [eps, 1, eps**2, 1, 1, eps**2, eps, eps, eps**2],  # phi6\n",
    "])"
   ]
  },
  {
   "cell_type": "code",
   "execution_count": 4,
   "id": "329cc2e7",
   "metadata": {},
   "outputs": [],
   "source": [
    "# задаём перестановки\n",
    "\n",
    "# psi: (0, 1, 2, 3, 4, 5, 6, 7, 8)\n",
    "def psi_even(m):\n",
    "    return m\n",
    "\n",
    "# psi: (2, 1, 0, 3, 4, 6, 5, 8, 7)\n",
    "\n",
    "\n",
    "def psi_odd(m):\n",
    "    match m:\n",
    "        case 0:\n",
    "            return 2\n",
    "        case 2:\n",
    "            return 0\n",
    "        case 5:\n",
    "            return 6\n",
    "        case 6:\n",
    "            return 5\n",
    "        case 7:\n",
    "            return 8\n",
    "        case 8:\n",
    "            return 7\n",
    "        case _:\n",
    "            return m\n",
    "\n",
    "\n",
    "psi = np.array([\n",
    "    psi_even,\n",
    "    psi_odd,\n",
    "    psi_odd,\n",
    "    psi_odd,\n",
    "    psi_even,\n",
    "    psi_even,\n",
    "])"
   ]
  },
  {
   "cell_type": "code",
   "execution_count": 19,
   "id": "e92bb2fd",
   "metadata": {},
   "outputs": [],
   "source": [
    "# 54 переменные искомой системы\n",
    "X = symbols(\"x:9\")\n",
    "Y = symbols(\"y:9\")\n",
    "Z = symbols(\"z:9\")\n",
    "A = symbols(\"a:9\")\n",
    "B = symbols(\"b:9\")\n",
    "C = symbols(\"c:9\")"
   ]
  },
  {
   "cell_type": "code",
   "execution_count": 20,
   "id": "861bb10a",
   "metadata": {},
   "outputs": [],
   "source": [
    "# phi_d(x_m)\n",
    "def phi(d, X, m):\n",
    "    return h[d-1][m]*X[psi[d-1](m)]\n",
    "\n",
    "\n",
    "# правая часть уравнения из исходной системы\n",
    "def f(i, j, k, l, r, s):\n",
    "    if (i == j and k == l and r == s) and not (i == j == k == l == r == s):\n",
    "        return 1\n",
    "    if (j == k and l == r and s == i) and not (i == j == k == l == r == s):\n",
    "        return -1\n",
    "    return 0"
   ]
  },
  {
   "cell_type": "code",
   "execution_count": 22,
   "id": "a669e40a",
   "metadata": {},
   "outputs": [
    {
     "data": {
      "text/plain": [
       "125"
      ]
     },
     "execution_count": 22,
     "metadata": {},
     "output_type": "execute_result"
    }
   ],
   "source": [
    "# левая часть уравнения\n",
    "def generate_left(m, p, q):\n",
    "    left = 2*(X[m]*Y[p]*Z[q] + X[p]*Y[q]*Z[m] + X[q]*Y[m]*Z[p] +\n",
    "              phi(2, X, m)*phi(2, Y, p)*phi(2, Z, q) +\n",
    "              phi(2, X, p)*phi(2, Y, q)*phi(2, Z, m) +\n",
    "              phi(2, X, q)*phi(2, Y, m)*phi(2, Z, p))\n",
    "    for d in range(3, 7):\n",
    "        left += phi(d, A, m)*phi(d, B, p)*phi(d, C, q) +\\\n",
    "            phi(d, A, p)*phi(d, B, q)*phi(d, C, m) +\\\n",
    "            phi(d, A, q)*phi(d, B, m)*phi(d, C, p)\n",
    "    return simplify(left)\n",
    "\n",
    "\n",
    "# правая часть уравнения\n",
    "def generate_right(m, p, q):\n",
    "    right = 0\n",
    "    for i, j, k, l, r, s in product(range(3), repeat=6):\n",
    "        right += t[m][i][j]*t[p][k][l]*t[q][r][s]*f(i, j, k, l, r, s)\n",
    "    return simplify(right)\n",
    "\n",
    "\n",
    "def generate_equation(m, p, q):\n",
    "    left = generate_left(m, p, q)\n",
    "    right = generate_right(m, p, q)\n",
    "    return Eq(left, right)\n",
    "\n",
    "\n",
    "equations = []\n",
    "is_counted = np.zeros((9, 9, 9), bool)\n",
    "with open(\"equations.tex\", \"w\") as equations_file:\n",
    "    for m, p, q in product(range(9), repeat=3):\n",
    "        if is_counted[m][p][q]:\n",
    "            continue\n",
    "\n",
    "        # поскольку уравнения для шестёрок (m, p, q), (p, q, m), (q, m, p),\n",
    "        # (phi_2(m), phi_2(p), phi_2(q)), (phi_2(p), phi_2(q), phi_2(m)), (phi_2(q), phi_2(m), phi_2(p))\n",
    "        # оказываются идентичными\n",
    "        is_counted[m][p][q] = True\n",
    "        is_counted[p][q][m] = True\n",
    "        is_counted[q][m][p] = True\n",
    "        is_counted[psi[1](m)][psi[1](p)][psi[1](q)] = True\n",
    "        is_counted[psi[1](p)][psi[1](q)][psi[1](m)] = True\n",
    "        is_counted[psi[1](q)][psi[1](m)][psi[1](p)] = True\n",
    "\n",
    "        equation = generate_equation(m, p, q)\n",
    "        if equation == True:\n",
    "            continue\n",
    "        equations.append(equation)\n",
    "        equations_file.write(f\"\\\\[ {latex(equation)} \\\\]\\n\")\n",
    "\n",
    "len(equations)"
   ]
  },
  {
   "cell_type": "markdown",
   "id": "818d4fbb-3c5c-45ed-beaf-e0b57ae6809a",
   "metadata": {},
   "source": [
    "## Compressed form of equations"
   ]
  },
  {
   "cell_type": "code",
   "execution_count": 8,
   "id": "fbd45514",
   "metadata": {},
   "outputs": [],
   "source": [
    "# для уравнений в сжатом виде\n",
    "XYZ = symbols(\"xyz:9:9:9\")\n",
    "ABC = symbols(\"abc:9:9:9\")"
   ]
  },
  {
   "cell_type": "code",
   "execution_count": 9,
   "id": "2b32d393",
   "metadata": {},
   "outputs": [],
   "source": [
    "def get_index(m, p, q):\n",
    "    return 81*m + 9*q + p\n",
    "\n",
    "\n",
    "# phi_d(p_{mpq})\n",
    "def phi(d, XYZ, m, p, q):\n",
    "    return h[d-1][m]*h[d-1][p]*h[d-1][q]*XYZ[get_index(psi[d-1](m), psi[d-1](p), psi[d-1](q))]"
   ]
  },
  {
   "cell_type": "code",
   "execution_count": 14,
   "id": "ce92a1e6",
   "metadata": {},
   "outputs": [
    {
     "name": "stdout",
     "output_type": "stream",
     "text": [
      "Eq(2*abc000 + 2*abc222 + 2*xyz000 + 2*xyz222, -3)\n"
     ]
    }
   ],
   "source": [
    "# левая часть уравнения\n",
    "def generate_left(m, p, q):\n",
    "    left = 2*(XYZ[get_index(m, p, q)] + phi(2, XYZ, m, p, q))\n",
    "    for d in range(3, 7):\n",
    "        left += phi(d, ABC, m, p, q)\n",
    "    return simplify(left)\n",
    "\n",
    "\n",
    "compressed_equations = []\n",
    "is_counted = np.zeros((9, 9, 9), bool)\n",
    "with open(\"compressed_equations.tex\", \"w\") as equations_file:\n",
    "    for m, p, q in product(range(9), repeat=3):\n",
    "        if is_counted[m][p][q]:\n",
    "            continue\n",
    "\n",
    "        # поскольку уравнения для шестёрок (m, p, q), (p, q, m), (q, m, p),\n",
    "        # (phi_2(m), phi_2(p), phi_2(q)), (phi_2(p), phi_2(q), phi_2(m)), (phi_2(q), phi_2(m), phi_2(p))\n",
    "        # оказываются идентичными\n",
    "        is_counted[m][p][q] = True\n",
    "        is_counted[p][q][m] = True\n",
    "        is_counted[q][m][p] = True\n",
    "        is_counted[psi[1](m)][psi[1](p)][psi[1](q)] = True\n",
    "        is_counted[psi[1](p)][psi[1](q)][psi[1](m)] = True\n",
    "        is_counted[psi[1](q)][psi[1](m)][psi[1](p)] = True\n",
    "        \n",
    "        equation = generate_equation(m, p, q)\n",
    "        if equation == True:\n",
    "            continue\n",
    "\n",
    "        compressed_equations.append(equation)\n",
    "        equations_file.write(f\"\\\\[ {latex(equation)} \\\\]\\n\")"
   ]
  },
  {
   "cell_type": "markdown",
   "id": "287c3faf-b474-4090-bdc6-1e45fd94924a",
   "metadata": {},
   "source": [
    "## Practice"
   ]
  },
  {
   "cell_type": "code",
   "execution_count": 23,
   "id": "47b449a5-d3c5-43a9-a62e-c08719451981",
   "metadata": {},
   "outputs": [],
   "source": [
    "# Переменные, относительно которых решаем систему.\n",
    "vars = [X[7], Y[7], Z[7], A[7], B[7], C[7], X[8], Y[8], Z[8], A[8], B[8], C[8]]\n",
    "\n",
    "def contains(equation, vars):\n",
    "    return set(vars) & equation.free_symbols"
   ]
  },
  {
   "cell_type": "code",
   "execution_count": 47,
   "id": "46bd2e4d-cd7c-46d9-a297-b57284a372f7",
   "metadata": {},
   "outputs": [],
   "source": [
    "# Подставляем решенеие, найденное Александром для переменных групп (0) (2) | (5) (6) (3) | (4).\n",
    "# Для всех переменных группы (1) задаём значение 1.\n",
    "\n",
    "raw_values = '''\n",
    "-0.0020183703472882 -0.00161592947542374 | -0.00323185996072685 0.0020223128605026  0.498107722299555 | -87.0299370852072 -55.4509377762183 0.500631616538801\n",
    "-40784.8393796599 82.5010995386101 | -82.3410303678316 -81569.7252586689  -0.512256798857592 | -29.0282928936237 -95.1678278154882 -0.000467783310792664\n",
    "-0.00202202644535711 0.00162001578179385 | 0.00324003082356708 0.00202592619390263  0.501896239699552 | -76.4796388644552 24.8201036832838 -0.49936879502249\n",
    "-0.00201837039476224 -0.0016159285515645 | -0.00323185933429619 0.00202231296512867  0.498107723153734 | 54.7408764168019 -34.2056358172428 0.50063162893345\n",
    "-81569.6794472786 164.999101204865 | -164.679522002895 -163139.449136568  -1.48774478355516 | -44.6036768345083 85.387523402247 0.00040283837741723\n",
    "-0.00202202636916792 0.00162001512828787 | 0.00324003336320042 0.00202592615782511  0.501896239139354 | 71.484617908198 10.711370234807 -0.499368787583764\n",
    "'''\n",
    "\n",
    "vars_order = [X, Y, Z, A, B, C]\n",
    "\n",
    "subs = []\n",
    "\n",
    "lines = raw_values.split('\\n')[1:-1]\n",
    "for i, line in enumerate(lines):\n",
    "    var = vars_order[i]\n",
    "    values = line.replace('|', '').split()\n",
    "    indeces_order = {0: 0, 2: 1, 5: 2, 6: 3, 3: 4, 4: 7}\n",
    "    for index, j in indeces_order.items():\n",
    "        subs.append((var[index], values[j]))\n",
    "    subs.append((var[1], 1))\n",
    "\n",
    "assert len(subs) == 7*6\n",
    "\n",
    "certain_equations = []\n",
    "for equation in equations:\n",
    "    if contains(equation, vars):\n",
    "        certain_equations.append(equation)\n",
    "\n",
    "assert len(certain_equations) == 65\n",
    "\n",
    "for i, equation in enumerate(certain_equations):\n",
    "    certain_equations[i] = equation.subs(subs)"
   ]
  },
  {
   "cell_type": "code",
   "execution_count": 51,
   "id": "08a1a8cf-b9bd-419f-9e88-8f33d8f3424c",
   "metadata": {},
   "outputs": [
    {
     "name": "stdout",
     "output_type": "stream",
     "text": [
      "current solution must be dropped: 37.51413168112703\n"
     ]
    }
   ],
   "source": [
    "# Нужно как можно раньше отказываться от неудачных решений.\n",
    "# Идея данной оптимизации заключается в том,\n",
    "# что среди уравнений исходной системы отбираются линейные.\n",
    "# Для полученной СЛАУ ищется решение и проверяется невязка.\n",
    "\n",
    "from sympy import Matrix, linear_eq_to_matrix\n",
    "\n",
    "linear_equations = []\n",
    "for equation in certain_equations:\n",
    "    if equation.as_poly(vars).is_linear:\n",
    "        linear_equations.append(equation)\n",
    "\n",
    "assert len(linear_equations) == 49\n",
    "\n",
    "M, b = linear_eq_to_matrix(linear_equations, vars)\n",
    "\n",
    "M = np.array(M.tolist(), dtype=np.float64)\n",
    "b = np.squeeze(np.array(b.tolist(), dtype=np.float64))\n",
    "\n",
    "assert M.shape == (49, 12)\n",
    "assert b.shape == (49,)\n",
    "\n",
    "solution = np.linalg.lstsq(M, b, rcond=None)\n",
    "\n",
    "residual = solution[1]\n",
    "\n",
    "if len(residual) > 0 and residual[0] > 1:\n",
    "    print(f\"current solution must be dropped: {residual[0]}\")"
   ]
  },
  {
   "cell_type": "code",
   "execution_count": 50,
   "id": "8204638e-003d-41f9-b019-85e659ab49b0",
   "metadata": {
    "scrolled": true
   },
   "outputs": [
    {
     "data": {
      "text/plain": [
       "1.7540564658872566938e-06"
      ]
     },
     "execution_count": 50,
     "metadata": {},
     "output_type": "execute_result"
    }
   ],
   "source": [
    "# Проверка того, что невязка решения, найденного Александром, действительно мало.\n",
    "\n",
    "solved_equations = []\n",
    "for equation in equations:\n",
    "    if not contains(equation, vars):\n",
    "        solved_equations.append(equation)\n",
    "\n",
    "assert len(solved_equations) == 60\n",
    "\n",
    "diff = np.array([np.float128(equation.lhs.subs(subs) - equation.rhs) for equation in solved_equations])\n",
    "\n",
    "sum(diff**2)"
   ]
  },
  {
   "cell_type": "code",
   "execution_count": 43,
   "id": "10f1ce3d-f740-4198-b905-b8b9c4b06aed",
   "metadata": {},
   "outputs": [
    {
     "name": "stdout",
     "output_type": "stream",
     "text": [
      "39 0.3989064499910455 Eq(-a1*b1*c5 - a1*b1*c6 - a1*b5*c1 - a1*b6*c1 - a5*b1*c1 - a6*b1*c1 + 2*x1*y1*z5 + 2*x1*y1*z6 + 2*x1*y5*z1 + 2*x1*y6*z1 + 2*x5*y1*z1 + 2*x6*y1*z1, 0)\n"
     ]
    },
    {
     "data": {
      "text/plain": [
       "array([-5.66945962e-06,  1.36320716e-06, -1.29922468e-08,  6.49346987e-07,\n",
       "        5.30607778e-06, -9.66473128e-07, -1.81518206e-05,  5.12340019e-04,\n",
       "       -1.47537945e-03,  1.30816250e-04, -5.31032951e-05, -2.50360944e-03,\n",
       "        7.88687227e-04, -9.99368986e-04, -6.55181055e-04,  1.20585140e-06,\n",
       "       -1.17909056e-06,  2.28796744e-04,  5.19477508e-05,  4.24939972e-05,\n",
       "       -1.82579087e-03,  3.93251642e-04, -1.50669517e-03, -7.57607706e-04,\n",
       "        8.47972671e-04,  1.09325107e-03,  3.94777549e-04, -8.04998629e-04,\n",
       "       -8.57639465e-04, -2.18303270e-04, -1.37418216e-08, -4.43703320e-06,\n",
       "        7.57309860e-04,  3.80423997e-04, -3.86890661e-04,  5.08681590e-07,\n",
       "       -7.04635896e-06,  0.00000000e+00,  8.00000000e-06,  3.98906450e-01,\n",
       "       -6.67912640e-05,  1.98663376e-01,  2.67293704e-06, -1.98262923e-01,\n",
       "        2.00379531e-01,  2.00903385e-01, -1.56641761e-03, -6.82037552e-04,\n",
       "        1.43736011e-05,  9.97939220e-02,  2.41546454e-06, -9.95177436e-02,\n",
       "        9.99935082e-02, -7.83017235e-04, -1.35960128e-03, -1.00703886e-01,\n",
       "        1.04142119e-05,  9.54964048e-06, -1.39943866e-05, -3.89969186e-06])"
      ]
     },
     "execution_count": 43,
     "metadata": {},
     "output_type": "execute_result"
    }
   ],
   "source": [
    "diff = np.array(diff)\n",
    "for i, d in enumerate(diff):\n",
    "    if d**2 > 0.1:\n",
    "        print(i, d, solved_equations[i])\n",
    "\n",
    "diff"
   ]
  },
  {
   "cell_type": "markdown",
   "id": "7afbe54e-1811-4052-aeff-a6e19eac0372",
   "metadata": {},
   "source": [
    "### Statistics"
   ]
  },
  {
   "cell_type": "code",
   "execution_count": 23,
   "id": "6948a87c-83b3-4655-b423-eb6434c32912",
   "metadata": {},
   "outputs": [
    {
     "name": "stderr",
     "output_type": "stream",
     "text": [
      "Progress: 100%|██████████| 1000/1000 [14:46:39<00:00, 53.20s/it] \n"
     ]
    }
   ],
   "source": [
    "import subprocess\n",
    "from tqdm import tqdm\n",
    "import time\n",
    "\n",
    "total_iterations = 1000\n",
    "progress_bar = tqdm(total=total_iterations, desc='Progress')\n",
    "\n",
    "linear_equations_residual1000 = {}\n",
    "prev_equations_residual1000 = {}\n",
    "\n",
    "for k in range(total_iterations):\n",
    "    result = subprocess.run(\"./kozlov/build/myprog\", input=\"1000\", capture_output=True, text=True)\n",
    "\n",
    "    vars_order = [X, Y, Z, A, B, C]\n",
    "\n",
    "    subs = []\n",
    "    \n",
    "    lines = result.stdout.split('\\n')[-8:-2]\n",
    "    for i, line in enumerate(lines):\n",
    "        var = vars_order[i]\n",
    "        values = line.replace('|', '').split()\n",
    "        indeces_order = {0: 0, 2: 1, 5: 2, 6: 3, 3: 4, 4: 7}\n",
    "        for index, j in indeces_order.items():\n",
    "            subs.append((var[index], values[j]))\n",
    "        subs.append((var[1], 1))\n",
    "\n",
    "    assert len(subs) == 7*6\n",
    "    \n",
    "    certain_equations = []\n",
    "    for equation in equations:\n",
    "        if contains(equation, vars):\n",
    "            certain_equations.append(equation)\n",
    "    \n",
    "    assert len(certain_equations) == 65\n",
    "    \n",
    "    for i, equation in enumerate(certain_equations):\n",
    "        certain_equations[i] = equation.subs(subs)\n",
    "\n",
    "    # невязка на линейной подсистеме\n",
    "    linear_equations = []\n",
    "    for equation in certain_equations:\n",
    "        if equation.as_poly(vars).is_linear:\n",
    "            linear_equations.append(equation)\n",
    "    \n",
    "    assert len(linear_equations) == 49\n",
    "    \n",
    "    M, b = linear_eq_to_matrix(linear_equations, vars)\n",
    "    \n",
    "    M = np.array(M.tolist(), dtype=np.float64)\n",
    "    b = np.squeeze(np.array(b.tolist(), dtype=np.float64))\n",
    "    \n",
    "    assert M.shape == (49, 12)\n",
    "    assert b.shape == (49,)\n",
    "    \n",
    "    solution = np.linalg.lstsq(M, b, rcond=None)\n",
    "    \n",
    "    residual = solution[1]\n",
    "    \n",
    "    if len(residual) > 0:\n",
    "        linear_equations_residual1000[k] = residual[0]\n",
    "\n",
    "    # невяхка на системе, которую решал Козлов\n",
    "    solved_equations = []\n",
    "    for equation in equations:\n",
    "        if not contains(equation, vars):\n",
    "            solved_equations.append(equation)\n",
    "    \n",
    "    assert len(solved_equations) == 60\n",
    "    \n",
    "    diff = np.array([float(equation.lhs.subs(subs) - equation.rhs) for equation in solved_equations])\n",
    "    prev_equations_residual1000[k] = np.linalg.norm(diff)\n",
    "\n",
    "    progress_bar.update(1)\n",
    "\n",
    "progress_bar.close()"
   ]
  },
  {
   "cell_type": "code",
   "execution_count": 26,
   "id": "a61cbada-b7c8-4a87-882c-5b650dda3314",
   "metadata": {},
   "outputs": [
    {
     "data": {
      "text/plain": [
       "{0: 39.639109318159974,\n",
       " 1: 37.519214378744216,\n",
       " 2: 37.51442020752453,\n",
       " 3: 37.51449315154954,\n",
       " 4: 39.64570538242727,\n",
       " 5: 37.51930391415728,\n",
       " 6: 37.51442275785722,\n",
       " 7: 37.5190437442356,\n",
       " 8: 37.51914882300102,\n",
       " 9: 37.51906180567331}"
      ]
     },
     "execution_count": 26,
     "metadata": {},
     "output_type": "execute_result"
    }
   ],
   "source": [
    "linear_equations_residual10"
   ]
  },
  {
   "cell_type": "code",
   "execution_count": 22,
   "id": "dfe60d0e-089a-4cc8-802f-e4422ba15601",
   "metadata": {},
   "outputs": [
    {
     "data": {
      "text/plain": [
       "{0: 0.030512223071986606,\n",
       " 1: 0.33637675867489203,\n",
       " 2: 1.5313218809262519,\n",
       " 3: 1.6138314332242372,\n",
       " 4: 0.3078305164444164,\n",
       " 5: 0.620229413674451,\n",
       " 6: 1.5314410709529263,\n",
       " 7: 0.14865288851670533,\n",
       " 8: 0.3012233838678318,\n",
       " 9: 0.6013501825695456}"
      ]
     },
     "execution_count": 22,
     "metadata": {},
     "output_type": "execute_result"
    }
   ],
   "source": [
    "prev_equations_residual10"
   ]
  },
  {
   "cell_type": "code",
   "execution_count": 27,
   "id": "333457a3-b54b-4046-abb5-915c61952152",
   "metadata": {},
   "outputs": [],
   "source": [
    "import json"
   ]
  },
  {
   "cell_type": "code",
   "execution_count": 29,
   "id": "25c4c9f7-9e36-4f27-b59b-7a00a5734998",
   "metadata": {},
   "outputs": [],
   "source": [
    "with open(\"linear.json\", \"w\") as file:\n",
    "    json.dump(linear_equations_residual1000, file)"
   ]
  },
  {
   "cell_type": "code",
   "execution_count": 30,
   "id": "d26796c5-8697-4f04-adcb-57412bc4bf3e",
   "metadata": {},
   "outputs": [],
   "source": [
    "with open(\"prev.json\", \"w\") as file:\n",
    "    json.dump(prev_equations_residual1000, file)"
   ]
  },
  {
   "cell_type": "code",
   "execution_count": 35,
   "id": "854d441d-d7c5-48bc-93cc-ad92e4587855",
   "metadata": {},
   "outputs": [
    {
     "data": {
      "text/plain": [
       "(37.51394209077176, 39.770922205672434)"
      ]
     },
     "execution_count": 35,
     "metadata": {},
     "output_type": "execute_result"
    }
   ],
   "source": [
    "min(linear_equations_residual1000.values()), max(linear_equations_residual1000.values())"
   ]
  },
  {
   "cell_type": "code",
   "execution_count": 6,
   "id": "b0839718-4292-486c-8fd8-fc47332ce647",
   "metadata": {},
   "outputs": [
    {
     "data": {
      "text/plain": [
       "'/home/s02190058/.local/lib/python3.11/site-packages/sympy/__init__.py'"
      ]
     },
     "execution_count": 6,
     "metadata": {},
     "output_type": "execute_result"
    }
   ],
   "source": [
    "sp.__file__"
   ]
  }
 ],
 "metadata": {
  "kernelspec": {
   "display_name": "Python 3 (ipykernel)",
   "language": "python",
   "name": "python3"
  },
  "language_info": {
   "codemirror_mode": {
    "name": "ipython",
    "version": 3
   },
   "file_extension": ".py",
   "mimetype": "text/x-python",
   "name": "python",
   "nbconvert_exporter": "python",
   "pygments_lexer": "ipython3",
   "version": "3.11.6"
  },
  "varInspector": {
   "cols": {
    "lenName": 16,
    "lenType": 16,
    "lenVar": 40
   },
   "kernels_config": {
    "python": {
     "delete_cmd_postfix": "",
     "delete_cmd_prefix": "del ",
     "library": "var_list.py",
     "varRefreshCmd": "print(var_dic_list())"
    },
    "r": {
     "delete_cmd_postfix": ") ",
     "delete_cmd_prefix": "rm(",
     "library": "var_list.r",
     "varRefreshCmd": "cat(var_dic_list()) "
    }
   },
   "types_to_exclude": [
    "module",
    "function",
    "builtin_function_or_method",
    "instance",
    "_Feature"
   ],
   "window_display": false
  }
 },
 "nbformat": 4,
 "nbformat_minor": 5
}
